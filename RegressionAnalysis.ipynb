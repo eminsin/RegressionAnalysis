{
 "cells": [
  {
   "cell_type": "code",
   "execution_count": 134,
   "id": "69ec5974-0435-4751-86d8-2b3fa98dcb66",
   "metadata": {},
   "outputs": [],
   "source": [
    "### WILL BE NEEDED LATER\n",
    "\n",
    "## Split data into training and test sets\n",
    "# train_data, test_data = train_test_split(data, test_size = 0.2, random_state = 42)\n",
    "# X_train = train_data[independent_vars]\n",
    "# y_train = train_data[dependent_var]\n",
    "\n",
    "## Evaluate the model\n",
    "# X_test = test_data[independent_vars]\n",
    "# y_test = test_data[dependent_var]\n",
    "# X_test = sm.add_constant(X_test)\n",
    "# y_pred = model.predict(X_test)\n",
    "# mse = mean_squared_error(y_test, y_pred)\n",
    "# print('Mean Squared Error:', mse)\n",
    "\n",
    "## Check multicollinearity using VIF\n",
    "# vif_data = pd.DataFrame()\n",
    "# vif_data['feature'] = X_train.columns\n",
    "# vif_data['VIF'] = [variance_inflation_factor(X_train.values, i) for i in range(X_train.shape[1])]\n",
    "# print(vif_data)"
   ]
  },
  {
   "cell_type": "code",
   "execution_count": 135,
   "id": "249872e2-17a1-4e17-a303-3d209263e308",
   "metadata": {},
   "outputs": [],
   "source": [
    "import pandas as pd\n",
    "import numpy as np\n",
    "import statsmodels.api as sm\n",
    "from statsmodels.stats.outliers_influence import variance_inflation_factor\n",
    "import statsmodels.formula.api as smf\n",
    "import matplotlib.pyplot as plt\n",
    "from sklearn.model_selection import LeaveOneOut, train_test_split\n",
    "from sklearn.metrics import mean_squared_error\n",
    "from scipy.stats import f"
   ]
  },
  {
   "cell_type": "code",
   "execution_count": 136,
   "id": "1c270453-2f8a-40a6-b910-3be51a5fbcf4",
   "metadata": {},
   "outputs": [],
   "source": [
    "# Step 1: Data Preparation\n",
    "# Load dataset\n",
    "data = pd.read_csv('biele_WM_new.csv')"
   ]
  },
  {
   "cell_type": "code",
   "execution_count": 137,
   "id": "0e342884-81da-4f7a-a7b7-d797f7074224",
   "metadata": {},
   "outputs": [],
   "source": [
    "# Select relevant variables and update original dataset to data\n",
    "columns = [\"mietekalt\", \"qm_Preis\", \"wohnflaeche\", \"alter\", \"objektzustand\", \"zimmeranzahl\", \n",
    "           \"balkon\", \"einbaukueche\", \"keller\", \"ausstattung_kat\", \"aufzug\", \"gaestewc\", \n",
    "           \"garten\", \"heizungsart\", \"barrierefrei\", \"Einstellungsmonat\"]\n",
    "data = data[columns]"
   ]
  },
  {
   "cell_type": "code",
   "execution_count": 138,
   "id": "df914480-7b8d-4315-b5b4-cf2b4ad2eb01",
   "metadata": {},
   "outputs": [],
   "source": [
    "# Rename variables for clarity\n",
    "data.rename(columns = {'mietekalt': 'netrent', \n",
    "                     'qm_Preis': 'rent_per_sqm', \n",
    "                     'wohnflaeche': 'area', \n",
    "                     'alter': 'age', \n",
    "                     'objektzustand': 'condition_cat', \n",
    "                     'zimmeranzahl': 'rooms', \n",
    "                     'balkon': 'balcony', \n",
    "                     'einbaukueche': 'kitchen', \n",
    "                     'keller': 'basement', \n",
    "                     'ausstattung_kat': 'appointments_cat', \n",
    "                     'aufzug': 'lift', \n",
    "                     'gaestewc': 'guesttoilet', \n",
    "                     'garten': 'garden', \n",
    "                     'heizungsart': 'heating_cat', \n",
    "                     'barrierefrei': 'barrierfree', \n",
    "                     'Einstellungsmonat': 'month'}, inplace= True)"
   ]
  },
  {
   "cell_type": "code",
   "execution_count": 139,
   "id": "585a95b1-a891-492e-ab46-2956a85cafbf",
   "metadata": {},
   "outputs": [],
   "source": [
    "# Drop rows with missing values\n",
    "data = data.dropna()"
   ]
  },
  {
   "cell_type": "code",
   "execution_count": 140,
   "id": "723fe5cc-a656-4768-b3c5-b03bd44a4bf3",
   "metadata": {},
   "outputs": [],
   "source": [
    "# Encode categorical variables\n",
    "data = pd.get_dummies(data,\n",
    "                      columns = ['condition_cat', 'appointments_cat', 'heating_cat', 'month'],\n",
    "                      drop_first = True, dtype = int)"
   ]
  },
  {
   "cell_type": "code",
   "execution_count": 141,
   "id": "67306de2-9f60-455c-a609-7c10aad75384",
   "metadata": {},
   "outputs": [],
   "source": [
    "# Define dependent and independent variables\n",
    "dependent_var = 'netrent'\n",
    "independent_vars = [col for col in data.columns if col not in [dependent_var, 'rent_per_sqm']]"
   ]
  },
  {
   "cell_type": "code",
   "execution_count": null,
   "id": "0373ea8f-7f3b-4451-a07e-4d189556fcdf",
   "metadata": {},
   "outputs": [],
   "source": []
  },
  {
   "cell_type": "markdown",
   "id": "c3422792-3d73-4a5c-bfd8-65e00e00ff8a",
   "metadata": {},
   "source": [
    "# MODEL WITH statsmodels"
   ]
  },
  {
   "cell_type": "code",
   "execution_count": null,
   "id": "ddf77dcb-f4d0-460e-bc39-109c12fe105f",
   "metadata": {},
   "outputs": [],
   "source": []
  },
  {
   "cell_type": "code",
   "execution_count": 142,
   "id": "a837fb5d-50c7-4975-8234-98ce24855f15",
   "metadata": {},
   "outputs": [],
   "source": [
    "# Fit the linear regression model\n",
    "X = data[independent_vars]\n",
    "y = data[dependent_var]\n",
    "X = sm.add_constant(X)\n",
    "model = sm.OLS(y, X).fit()"
   ]
  },
  {
   "cell_type": "code",
   "execution_count": 143,
   "id": "742ec78d-a3e1-4fea-a377-17945183c0f7",
   "metadata": {
    "scrolled": true
   },
   "outputs": [
    {
     "name": "stdout",
     "output_type": "stream",
     "text": [
      "                            OLS Regression Results                            \n",
      "==============================================================================\n",
      "Dep. Variable:                netrent   R-squared:                       0.816\n",
      "Model:                            OLS   Adj. R-squared:                  0.813\n",
      "Method:                 Least Squares   F-statistic:                     251.6\n",
      "Date:                Sat, 18 Jan 2025   Prob (F-statistic):               0.00\n",
      "Time:                        17:05:38   Log-Likelihood:                -14348.\n",
      "No. Observations:                2371   AIC:                         2.878e+04\n",
      "Df Residuals:                    2329   BIC:                         2.902e+04\n",
      "Df Model:                          41                                         \n",
      "Covariance Type:            nonrobust                                         \n",
      "======================================================================================\n",
      "                         coef    std err          t      P>|t|      [0.025      0.975]\n",
      "--------------------------------------------------------------------------------------\n",
      "const                 75.2509     35.142      2.141      0.032       6.337     144.165\n",
      "area                   7.8845      0.163     48.403      0.000       7.565       8.204\n",
      "age                    0.2625      0.083      3.175      0.002       0.100       0.425\n",
      "rooms                -19.9071      4.170     -4.774      0.000     -28.084     -11.730\n",
      "balcony                4.3846      5.444      0.805      0.421      -6.292      15.061\n",
      "kitchen               38.5635      4.904      7.863      0.000      28.947      48.181\n",
      "basement             -15.6059      5.070     -3.078      0.002     -25.549      -5.663\n",
      "lift                  23.5781      6.961      3.387      0.001       9.928      37.228\n",
      "guesttoilet           25.9722      6.833      3.801      0.000      12.574      39.371\n",
      "garden                -4.3919      5.475     -0.802      0.423     -15.129       6.345\n",
      "barrierfree           -1.7148      8.629     -0.199      0.842     -18.635      15.206\n",
      "condition_cat_2.0   -113.7959     13.774     -8.261      0.000    -140.807     -86.785\n",
      "condition_cat_3.0    -64.0470     11.248     -5.694      0.000     -86.103     -41.991\n",
      "condition_cat_4.0   -127.9079     16.152     -7.919      0.000    -159.582     -96.233\n",
      "condition_cat_5.0   -161.1466     13.079    -12.321      0.000    -186.795    -135.498\n",
      "condition_cat_6.0   -146.0372     12.492    -11.691      0.000    -170.533    -121.541\n",
      "condition_cat_7.0   -162.5143     11.617    -13.989      0.000    -185.296    -139.733\n",
      "condition_cat_8.0   -191.7849     29.319     -6.541      0.000    -249.280    -134.290\n",
      "appointments_cat_1    -8.8668      5.530     -1.603      0.109     -19.710       1.977\n",
      "appointments_cat_2    56.6352      6.553      8.643      0.000      43.785      69.486\n",
      "heating_cat_2.0      104.9664     50.903      2.062      0.039       5.147     204.786\n",
      "heating_cat_3.0       63.3989     32.600      1.945      0.052      -0.529     127.326\n",
      "heating_cat_4.0       92.7117     32.314      2.869      0.004      29.345     156.078\n",
      "heating_cat_5.0      101.3492     32.383      3.130      0.002      37.846     164.852\n",
      "heating_cat_6.0       57.5556     32.417      1.775      0.076      -6.013     121.125\n",
      "heating_cat_7.0      123.1728     61.213      2.012      0.044       3.134     243.211\n",
      "heating_cat_8.0      -33.6798     56.413     -0.597      0.551    -144.305      76.945\n",
      "heating_cat_10.0      36.6858     35.102      1.045      0.296     -32.149     105.521\n",
      "heating_cat_11.0     189.9527    108.997      1.743      0.082     -23.788     403.693\n",
      "heating_cat_12.0      49.9884     36.295      1.377      0.169     -21.186     121.163\n",
      "heating_cat_13.0      47.6783     32.037      1.488      0.137     -15.146     110.502\n",
      "month_2               19.4647     10.415      1.869      0.062      -0.958      39.888\n",
      "month_3               13.2121     10.322      1.280      0.201      -7.029      33.453\n",
      "month_4               14.9589     10.707      1.397      0.163      -6.038      35.955\n",
      "month_5               20.9540     12.384      1.692      0.091      -3.331      45.239\n",
      "month_6               12.0462     10.502      1.147      0.251      -8.548      32.640\n",
      "month_7               29.3112      9.133      3.209      0.001      11.401      47.221\n",
      "month_8                8.8942     10.363      0.858      0.391     -11.428      29.216\n",
      "month_9               19.2798     10.228      1.885      0.060      -0.777      39.337\n",
      "month_10              16.6195     10.285      1.616      0.106      -3.549      36.788\n",
      "month_11              19.3432     10.231      1.891      0.059      -0.719      39.405\n",
      "month_12              20.3905     10.313      1.977      0.048       0.167      40.614\n",
      "==============================================================================\n",
      "Omnibus:                      492.674   Durbin-Watson:                   2.025\n",
      "Prob(Omnibus):                  0.000   Jarque-Bera (JB):             3637.266\n",
      "Skew:                           0.779   Prob(JB):                         0.00\n",
      "Kurtosis:                       8.864   Cond. No.                     5.22e+03\n",
      "==============================================================================\n",
      "\n",
      "Notes:\n",
      "[1] Standard Errors assume that the covariance matrix of the errors is correctly specified.\n",
      "[2] The condition number is large, 5.22e+03. This might indicate that there are\n",
      "strong multicollinearity or other numerical problems.\n"
     ]
    }
   ],
   "source": [
    "print(model.summary())"
   ]
  },
  {
   "cell_type": "code",
   "execution_count": null,
   "id": "14a4230d-fe84-4f4e-abc3-5318173947d3",
   "metadata": {},
   "outputs": [],
   "source": []
  },
  {
   "cell_type": "markdown",
   "id": "0f5add1d-e8b9-4bb6-9828-6feb3ad6712d",
   "metadata": {},
   "source": [
    "# MODEL BY HAND"
   ]
  },
  {
   "cell_type": "code",
   "execution_count": null,
   "id": "dda29bdd-138e-4150-a3af-a4f3c94193ee",
   "metadata": {},
   "outputs": [],
   "source": []
  },
  {
   "cell_type": "code",
   "execution_count": 144,
   "id": "41360759-f512-4364-a97d-402232122201",
   "metadata": {},
   "outputs": [],
   "source": [
    "# Extract values of dependent and independent variables\n",
    "X_val = data[independent_vars].values\n",
    "y_val = data[dependent_var].values"
   ]
  },
  {
   "cell_type": "code",
   "execution_count": 145,
   "id": "838baa02-f492-47ed-9b98-8da5defcbb99",
   "metadata": {},
   "outputs": [],
   "source": [
    "# Add intercept\n",
    "intercept = np.ones((X_val.shape[0], 1))             # Create a column of ones\n",
    "X_with_intercept = np.hstack((intercept, X_val))     # Combine intercept with X"
   ]
  },
  {
   "cell_type": "code",
   "execution_count": 146,
   "id": "7b185aad-efe5-45b9-882c-86b1f4e47047",
   "metadata": {},
   "outputs": [],
   "source": [
    "# X_1: Design matrix (including intercept column)\n",
    "# y_1: Dependent variable (netrent)\n",
    "X_1 = np.array(X_with_intercept)\n",
    "y_1 = np.array(y_val)\n",
    "\n",
    "# Estimate beta_hat\n",
    "beta_hat_1 = np.linalg.inv(X_1.T @ X_1) @ X_1.T @ y_1\n",
    "\n",
    "# Compute the hat matrix (H)\n",
    "H_1 = X_1 @ np.linalg.inv(X_1.T @ X_1) @ X_1.T\n",
    "\n",
    "# Residuals (epsilon_hat)\n",
    "epsilon_hat_1 = (np.eye(len(y_1)) - H_1) @ y_1\n",
    "\n",
    "# Fitted values (y_hat)\n",
    "y_hat_1 = H_1 @ y_1\n",
    "\n",
    "# Estimate sigma^2 (residual variance)\n",
    "n, k = X_1.shape\n",
    "sigma2_hat_1 = (1 / (n - k)) * (epsilon_hat_1.T @ epsilon_hat_1)\n",
    "\n",
    "# Covariance matrix of beta_hat\n",
    "Cov_beta_hat_1 = sigma2_hat_1 * np.linalg.inv(X_1.T @ X_1)\n",
    "\n",
    "# Standard errors of beta_hat\n",
    "sd_beta_hat_1 = np.sqrt(np.diag(Cov_beta_hat_1))"
   ]
  },
  {
   "cell_type": "code",
   "execution_count": 147,
   "id": "d2fd1a04-5feb-4493-9ba8-f3694b207e50",
   "metadata": {
    "scrolled": true
   },
   "outputs": [
    {
     "name": "stdout",
     "output_type": "stream",
     "text": [
      "Beta_hat: [  75.25091185    7.88453808    0.26249254  -19.90707751    4.38460198\n",
      "   38.56353188  -15.60593987   23.57805351   25.97218506   -4.39188488\n",
      "   -1.71481204 -113.79585981  -64.04700799 -127.90789323 -161.14658736\n",
      " -146.03716572 -162.51433542 -191.78494811   -8.86677729   56.63517935\n",
      "  104.96639      63.3989163    92.71166209  101.34916105   57.5555872\n",
      "  123.17281881  -33.67983097   36.68584327  189.95266835   49.98840114\n",
      "   47.67830633   19.46468709   13.21214688   14.95891497   20.95401931\n",
      "   12.04620183   29.3112045     8.89419341   19.27984687   16.61950765\n",
      "   19.34322877   20.39047849]\n",
      "Residual variance (sigma^2): 10749.293659726918\n",
      "Covariance matrix of beta_hat:\n",
      " [[ 1.23499250e+03 -1.30393435e-01 -1.94662325e-01 ... -6.60174233e+01\n",
      "  -5.17800461e+01 -4.67114887e+01]\n",
      " [-1.30393435e-01  2.65337780e-02 -2.90465443e-04 ... -1.77223749e-02\n",
      "  -3.84351055e-02 -3.50265978e-02]\n",
      " [-1.94662325e-01 -2.90465443e-04  6.83664146e-03 ... -2.91085804e-02\n",
      "   5.19167092e-03 -2.16668834e-02]\n",
      " ...\n",
      " [-6.60174233e+01 -1.77223749e-02 -2.91085804e-02 ...  1.05777020e+02\n",
      "   5.07452999e+01  5.02546304e+01]\n",
      " [-5.17800461e+01 -3.84351055e-02  5.19167092e-03 ...  5.07452999e+01\n",
      "   1.04665647e+02  5.08525443e+01]\n",
      " [-4.67114887e+01 -3.50265978e-02 -2.16668834e-02 ...  5.02546304e+01\n",
      "   5.08525443e+01  1.06361058e+02]]\n",
      "Standard errors of beta_hat: [3.51424600e+01 1.62891921e-01 8.26839855e-02 4.16983569e+00\n",
      " 5.44431608e+00 4.90416407e+00 5.07035763e+00 6.96071743e+00\n",
      " 6.83263342e+00 5.47539984e+00 8.62850632e+00 1.37743678e+01\n",
      " 1.12476297e+01 1.61523056e+01 1.30793496e+01 1.24918254e+01\n",
      " 1.16172802e+01 2.93194768e+01 5.52969660e+00 6.55305308e+00\n",
      " 5.09028549e+01 3.25997284e+01 3.23137074e+01 3.23832100e+01\n",
      " 3.24169399e+01 6.12134223e+01 5.64128948e+01 3.51023736e+01\n",
      " 1.08996617e+02 3.62954840e+01 3.20370752e+01 1.04147076e+01\n",
      " 1.03218927e+01 1.07071342e+01 1.23841591e+01 1.05018306e+01\n",
      " 9.13313991e+00 1.03631253e+01 1.02278891e+01 1.02847956e+01\n",
      " 1.02306230e+01 1.03131498e+01]\n"
     ]
    }
   ],
   "source": [
    "# Print results\n",
    "print(\"Beta_hat:\", beta_hat_1)\n",
    "print(\"Residual variance (sigma^2):\", sigma2_hat_1)\n",
    "print(\"Covariance matrix of beta_hat:\\n\", Cov_beta_hat_1)\n",
    "print(\"Standard errors of beta_hat:\", sd_beta_hat_1)"
   ]
  },
  {
   "cell_type": "code",
   "execution_count": null,
   "id": "23203c1c-d70b-4592-8fab-5027e173384c",
   "metadata": {},
   "outputs": [],
   "source": []
  },
  {
   "cell_type": "code",
   "execution_count": 148,
   "id": "bf4a3121-d6f7-4856-b7b8-b56062e25b57",
   "metadata": {},
   "outputs": [],
   "source": [
    "# Comparison of coefficients and standard deviations\n",
    "coeff_comparison = np.vstack([model.params, beta_hat_1])\n",
    "stddev_comparison = np.vstack([model.bse, sd_beta_hat_1])"
   ]
  },
  {
   "cell_type": "code",
   "execution_count": 149,
   "id": "d6a66117-2f17-432f-8a26-514bf3bd1194",
   "metadata": {
    "scrolled": true
   },
   "outputs": [
    {
     "name": "stdout",
     "output_type": "stream",
     "text": [
      "Comparison of Coefficients:\n",
      "             intercept      area       age      rooms   balcony    kitchen  \\\n",
      "Statsmodels  75.250912  7.884538  0.262493 -19.907078  4.384602  38.563532   \n",
      "By-Hand      75.250912  7.884538  0.262493 -19.907078  4.384602  38.563532   \n",
      "\n",
      "             basement       lift  guesttoilet    garden  ...    month_3  \\\n",
      "Statsmodels -15.60594  23.578054    25.972185 -4.391885  ...  13.212147   \n",
      "By-Hand     -15.60594  23.578054    25.972185 -4.391885  ...  13.212147   \n",
      "\n",
      "               month_4    month_5    month_6    month_7   month_8    month_9  \\\n",
      "Statsmodels  14.958915  20.954019  12.046202  29.311204  8.894193  19.279847   \n",
      "By-Hand      14.958915  20.954019  12.046202  29.311204  8.894193  19.279847   \n",
      "\n",
      "              month_10   month_11   month_12  \n",
      "Statsmodels  16.619508  19.343229  20.390478  \n",
      "By-Hand      16.619508  19.343229  20.390478  \n",
      "\n",
      "[2 rows x 42 columns]\n",
      "\n",
      "Comparison of Standard Deviations:\n",
      "             intercept      area       age     rooms   balcony   kitchen  \\\n",
      "Statsmodels   35.14246  0.162892  0.082684  4.169836  5.444316  4.904164   \n",
      "By-Hand       35.14246  0.162892  0.082684  4.169836  5.444316  4.904164   \n",
      "\n",
      "             basement      lift  guesttoilet  garden  ...    month_3  \\\n",
      "Statsmodels  5.070358  6.960717     6.832633  5.4754  ...  10.321893   \n",
      "By-Hand      5.070358  6.960717     6.832633  5.4754  ...  10.321893   \n",
      "\n",
      "               month_4    month_5    month_6  month_7    month_8    month_9  \\\n",
      "Statsmodels  10.707134  12.384159  10.501831  9.13314  10.363125  10.227889   \n",
      "By-Hand      10.707134  12.384159  10.501831  9.13314  10.363125  10.227889   \n",
      "\n",
      "              month_10   month_11  month_12  \n",
      "Statsmodels  10.284796  10.230623  10.31315  \n",
      "By-Hand      10.284796  10.230623  10.31315  \n",
      "\n",
      "[2 rows x 42 columns]\n"
     ]
    }
   ],
   "source": [
    "# Display results\n",
    "print(\"Comparison of Coefficients:\")\n",
    "print(pd.DataFrame(coeff_comparison, index=[\"Statsmodels\", \"By-Hand\"], \n",
    "                   columns=['intercept'] + independent_vars))\n",
    "print(\"\\nComparison of Standard Deviations:\")\n",
    "print(pd.DataFrame(stddev_comparison, index=[\"Statsmodels\", \"By-Hand\"], \n",
    "                   columns=['intercept'] + independent_vars))"
   ]
  },
  {
   "cell_type": "code",
   "execution_count": null,
   "id": "685c6f60-8fb9-44c1-a989-1980594da19d",
   "metadata": {},
   "outputs": [],
   "source": []
  },
  {
   "cell_type": "markdown",
   "id": "c25f8d83-af26-4f2c-9bc4-8b66fc7b8637",
   "metadata": {},
   "source": [
    "# HYPOTHESIS TESTING"
   ]
  },
  {
   "cell_type": "code",
   "execution_count": null,
   "id": "46157b65-6406-44b7-968c-c29cf0be15e7",
   "metadata": {},
   "outputs": [],
   "source": []
  },
  {
   "cell_type": "code",
   "execution_count": 150,
   "id": "5e6bb07d-ee9a-4a83-bd5b-08b20780cd9f",
   "metadata": {},
   "outputs": [],
   "source": [
    "# List of variables to exclude\n",
    "exclude_vars = ['balcony', 'garden', 'barrierfree']\n",
    "\n",
    "# Restrict independent_vars by excluding the specified variables\n",
    "independent_vars_H0 = [col for col in independent_vars if col not in exclude_vars]"
   ]
  },
  {
   "cell_type": "code",
   "execution_count": 151,
   "id": "5b28c759-c421-4b23-8f1a-4b57a886b2ab",
   "metadata": {},
   "outputs": [],
   "source": [
    "# Restricted independent variables\n",
    "X_H0 = data[independent_vars_H0]\n",
    "\n",
    "# Add intercept to X_H0\n",
    "X_H0 = sm.add_constant(X_H0)"
   ]
  },
  {
   "cell_type": "code",
   "execution_count": 152,
   "id": "db3c67d0-4c2d-4684-a791-c4a1050eeaf9",
   "metadata": {},
   "outputs": [],
   "source": [
    "# Fit the reduced model\n",
    "model_H0 = sm.OLS(y, X_H0).fit()"
   ]
  },
  {
   "cell_type": "code",
   "execution_count": 153,
   "id": "8c0eb943-e2a0-4ef2-9301-548dd4c23d36",
   "metadata": {
    "scrolled": true
   },
   "outputs": [
    {
     "name": "stdout",
     "output_type": "stream",
     "text": [
      "                            OLS Regression Results                            \n",
      "==============================================================================\n",
      "Dep. Variable:                netrent   R-squared:                       0.816\n",
      "Model:                            OLS   Adj. R-squared:                  0.813\n",
      "Method:                 Least Squares   F-statistic:                     271.6\n",
      "Date:                Sat, 18 Jan 2025   Prob (F-statistic):               0.00\n",
      "Time:                        17:05:38   Log-Likelihood:                -14348.\n",
      "No. Observations:                2371   AIC:                         2.877e+04\n",
      "Df Residuals:                    2332   BIC:                         2.900e+04\n",
      "Df Model:                          38                                         \n",
      "Covariance Type:            nonrobust                                         \n",
      "======================================================================================\n",
      "                         coef    std err          t      P>|t|      [0.025      0.975]\n",
      "--------------------------------------------------------------------------------------\n",
      "const                 76.1858     34.819      2.188      0.029       7.907     144.465\n",
      "area                   7.9046      0.160     49.365      0.000       7.591       8.219\n",
      "age                    0.2408      0.079      3.046      0.002       0.086       0.396\n",
      "rooms                -19.9757      4.166     -4.795      0.000     -28.145     -11.806\n",
      "kitchen               38.1145      4.887      7.798      0.000      28.530      47.699\n",
      "basement             -15.3294      5.026     -3.050      0.002     -25.185      -5.474\n",
      "lift                  23.5944      6.315      3.736      0.000      11.211      35.978\n",
      "guesttoilet           25.7641      6.825      3.775      0.000      12.381      39.147\n",
      "condition_cat_2.0   -113.2618     13.716     -8.258      0.000    -140.159     -86.365\n",
      "condition_cat_3.0    -63.7628     11.228     -5.679      0.000     -85.781     -41.745\n",
      "condition_cat_4.0   -127.7659     16.081     -7.945      0.000    -159.300     -96.232\n",
      "condition_cat_5.0   -160.8047     13.006    -12.364      0.000    -186.309    -135.300\n",
      "condition_cat_6.0   -145.3517     12.428    -11.695      0.000    -169.723    -120.980\n",
      "condition_cat_7.0   -161.4320     11.529    -14.003      0.000    -184.039    -138.825\n",
      "condition_cat_8.0   -191.5981     29.287     -6.542      0.000    -249.029    -134.167\n",
      "appointments_cat_1    -9.6233      5.487     -1.754      0.080     -20.383       1.137\n",
      "appointments_cat_2    56.0769      6.448      8.697      0.000      43.432      68.722\n",
      "heating_cat_2.0      106.8255     50.829      2.102      0.036       7.150     206.501\n",
      "heating_cat_3.0       63.7094     32.530      1.958      0.050      -0.082     127.501\n",
      "heating_cat_4.0       94.1312     32.210      2.922      0.004      30.969     157.294\n",
      "heating_cat_5.0      101.4875     32.364      3.136      0.002      38.022     164.953\n",
      "heating_cat_6.0       58.0083     32.362      1.792      0.073      -5.454     121.470\n",
      "heating_cat_7.0      121.5601     61.157      1.988      0.047       1.633     241.487\n",
      "heating_cat_8.0      -31.1272     56.317     -0.553      0.581    -141.563      79.309\n",
      "heating_cat_10.0      35.9950     35.012      1.028      0.304     -32.663     104.653\n",
      "heating_cat_11.0     185.7382    108.791      1.707      0.088     -27.599     399.075\n",
      "heating_cat_12.0      49.8764     36.256      1.376      0.169     -21.222     120.975\n",
      "heating_cat_13.0      48.5220     31.964      1.518      0.129     -14.160     111.204\n",
      "month_2               19.5741     10.409      1.880      0.060      -0.838      39.986\n",
      "month_3               13.0916     10.317      1.269      0.205      -7.139      33.322\n",
      "month_4               14.6773     10.699      1.372      0.170      -6.303      35.658\n",
      "month_5               20.9458     12.377      1.692      0.091      -3.326      45.218\n",
      "month_6               12.0552     10.479      1.150      0.250      -8.494      32.604\n",
      "month_7               28.9872      9.112      3.181      0.001      11.119      46.855\n",
      "month_8                8.6427     10.352      0.835      0.404     -11.657      28.943\n",
      "month_9               19.1569     10.212      1.876      0.061      -0.869      39.183\n",
      "month_10              16.4334     10.258      1.602      0.109      -3.682      36.549\n",
      "month_11              18.9647     10.207      1.858      0.063      -1.051      38.980\n",
      "month_12              20.0253     10.302      1.944      0.052      -0.178      40.228\n",
      "==============================================================================\n",
      "Omnibus:                      490.159   Durbin-Watson:                   2.027\n",
      "Prob(Omnibus):                  0.000   Jarque-Bera (JB):             3627.167\n",
      "Skew:                           0.774   Prob(JB):                         0.00\n",
      "Kurtosis:                       8.858   Cond. No.                     5.21e+03\n",
      "==============================================================================\n",
      "\n",
      "Notes:\n",
      "[1] Standard Errors assume that the covariance matrix of the errors is correctly specified.\n",
      "[2] The condition number is large, 5.21e+03. This might indicate that there are\n",
      "strong multicollinearity or other numerical problems.\n"
     ]
    }
   ],
   "source": [
    "# Print results\n",
    "print(model_H0.summary())"
   ]
  },
  {
   "cell_type": "code",
   "execution_count": null,
   "id": "3f3ab0e1-1329-40e5-800b-21d196de0b34",
   "metadata": {},
   "outputs": [],
   "source": []
  },
  {
   "cell_type": "markdown",
   "id": "3aa00f7d-93a0-4a05-b86a-cea96f730f10",
   "metadata": {},
   "source": [
    "##### PERFORM F-TEST"
   ]
  },
  {
   "cell_type": "code",
   "execution_count": 154,
   "id": "75fec302-a07d-4deb-851f-2c30d042af8a",
   "metadata": {},
   "outputs": [],
   "source": [
    "SSE_full = np.sum(model.resid ** 2)             # Residual Sum of Squares for full model\n",
    "SSE_H0 = np.sum(model_H0.resid ** 2)            # Residual Sum of Squares for reduced model\n",
    "\n",
    "n = len(y)                 # Number of observations\n",
    "p_full = X.shape[1]        # Number of parameters in full model\n",
    "p_H0 = X_H0.shape[1]       # Number of parameters in reduced model\n",
    "r = p_full - p_H0          # Number of restrictions"
   ]
  },
  {
   "cell_type": "code",
   "execution_count": 155,
   "id": "b3a1b6f5-d409-4215-9e47-48e3bb14c8ef",
   "metadata": {},
   "outputs": [
    {
     "name": "stdout",
     "output_type": "stream",
     "text": [
      "F-statistic: 0.4722179939308247\n"
     ]
    }
   ],
   "source": [
    "# Calculate F-statistic\n",
    "F_H0 = ((SSE_H0 - SSE_full) / r) / (SSE_full / (n - p_full))\n",
    "print(f\"F-statistic: {F_H0}\")\n",
    "\n",
    "# f_statistics = model.compare_f_test(model_H0)"
   ]
  },
  {
   "cell_type": "code",
   "execution_count": 156,
   "id": "6b0f4260-398b-4b0c-94f2-1fb7a5f20007",
   "metadata": {},
   "outputs": [
    {
     "name": "stdout",
     "output_type": "stream",
     "text": [
      "Critical value (alpha=0.05): 2.6087237149620703\n"
     ]
    }
   ],
   "source": [
    "# Calculate critical value\n",
    "alpha = 0.05\n",
    "F_critical = f.ppf(1 - alpha, dfn=r, dfd=n - p_full)\n",
    "print(f\"Critical value (alpha={alpha}): {F_critical}\")"
   ]
  },
  {
   "cell_type": "code",
   "execution_count": 157,
   "id": "d2319617-2d18-4a15-b58d-b09f1af8e79c",
   "metadata": {},
   "outputs": [
    {
     "name": "stdout",
     "output_type": "stream",
     "text": [
      "P-value: 0.7016652600310156\n"
     ]
    }
   ],
   "source": [
    "# Calculate p-value\n",
    "p_value = 1 - f.cdf(F_H0, dfn=r, dfd=n - p_full)\n",
    "print(f\"P-value: {p_value}\")"
   ]
  },
  {
   "cell_type": "code",
   "execution_count": 158,
   "id": "133c0400-9b34-4f9a-9004-aa445af86012",
   "metadata": {},
   "outputs": [
    {
     "name": "stdout",
     "output_type": "stream",
     "text": [
      "Fail to reject the null hypothesis: The variables are jointly not significantly different than zero.\n"
     ]
    }
   ],
   "source": [
    "# Interpretation of results\n",
    "if p_value < alpha:\n",
    "    print(\"Reject the null hypothesis: The variables are jointly significantly different than zero.\")\n",
    "else:\n",
    "    print(\"Fail to reject the null hypothesis: The variables are jointly not significantly different than zero.\")"
   ]
  },
  {
   "cell_type": "code",
   "execution_count": null,
   "id": "162c7326-e347-432a-bd45-a97e5b7f9160",
   "metadata": {},
   "outputs": [],
   "source": []
  },
  {
   "cell_type": "markdown",
   "id": "d26dee97-716f-4d5e-84a9-2e30b0793289",
   "metadata": {},
   "source": [
    "# MODEL SELECTION"
   ]
  },
  {
   "cell_type": "code",
   "execution_count": null,
   "id": "bbf8ecfc-9a7d-4fad-b5ae-4ded33428aa4",
   "metadata": {},
   "outputs": [],
   "source": []
  },
  {
   "cell_type": "code",
   "execution_count": 159,
   "id": "628d96d2-c37a-4ba6-802c-bd043358a66d",
   "metadata": {},
   "outputs": [
    {
     "name": "stdout",
     "output_type": "stream",
     "text": [
      "Adjusted R-squared:\n",
      "Full model: 0.8125716953325978\n",
      "Reduced model: 0.8126989525623981\n"
     ]
    }
   ],
   "source": [
    "# Compare adjusted R-squared\n",
    "adj_rsq_model = model.rsquared_adj\n",
    "adj_rsq_model_H0 = model_H0.rsquared_adj\n",
    "\n",
    "print(\"Adjusted R-squared:\")\n",
    "print(f\"Full model: {adj_rsq_model}\")\n",
    "print(f\"Reduced model: {adj_rsq_model_H0}\")"
   ]
  },
  {
   "cell_type": "code",
   "execution_count": 160,
   "id": "a7958545-cf0e-41f3-8021-cabae9c2a5f6",
   "metadata": {},
   "outputs": [],
   "source": [
    "# Leverage values (hat matrix diagonal elements)\n",
    "influence_model = model.get_influence()\n",
    "h_ii_1 = influence_model.hat_matrix_diag\n",
    "\n",
    "influence_model_H0 = model_H0.get_influence()\n",
    "h_ii_2 = influence_model_H0.hat_matrix_diag"
   ]
  },
  {
   "cell_type": "code",
   "execution_count": 161,
   "id": "7593f5ad-1543-42a4-a02f-dd5c5a0e18e7",
   "metadata": {},
   "outputs": [
    {
     "name": "stdout",
     "output_type": "stream",
     "text": [
      "\n",
      "LOOCV Error:\n",
      "Full model: 14959.137915158202\n",
      "Reduced model: 103936.79735823828\n"
     ]
    }
   ],
   "source": [
    "# Compute leave-one-out cross-validation error (LOOCV)\n",
    "y_actual = model.model.endog  # Dependent variable values\n",
    "\n",
    "loocv_model = np.mean(((y_actual - model.fittedvalues) / (1 - h_ii_1)) ** 2)\n",
    "loocv_model_H0 = np.mean(((y_actual - model_H0.fittedvalues) / (1 - h_ii_2)) ** 2)\n",
    "\n",
    "print(\"\\nLOOCV Error:\")\n",
    "print(f\"Full model: {loocv_model}\")\n",
    "print(f\"Reduced model: {loocv_model_H0}\")"
   ]
  },
  {
   "cell_type": "code",
   "execution_count": 162,
   "id": "93179503-529b-485a-a07a-421132c6a52f",
   "metadata": {},
   "outputs": [],
   "source": [
    "# THE FULL MODEL, model, EXPLAINS THE DATA BETTER THAN THE REDUCED MODEL, model_H0"
   ]
  },
  {
   "cell_type": "code",
   "execution_count": null,
   "id": "b77ce472-9288-4cb3-b10a-597faa0e37fb",
   "metadata": {},
   "outputs": [],
   "source": []
  },
  {
   "cell_type": "markdown",
   "id": "be9a2038-e818-43cc-827a-4445fab6e868",
   "metadata": {},
   "source": [
    "# PROBLEM ANALYSIS"
   ]
  },
  {
   "cell_type": "code",
   "execution_count": null,
   "id": "2d49cb5b-b16f-449a-b513-63e2a99ba57b",
   "metadata": {},
   "outputs": [],
   "source": []
  },
  {
   "cell_type": "code",
   "execution_count": 163,
   "id": "7952f92b-bb36-4879-92a9-cd82f59ef5d0",
   "metadata": {},
   "outputs": [
    {
     "name": "stdout",
     "output_type": "stream",
     "text": [
      "Observations with h_ii == 1 in full model: []\n",
      "Observations with h_ii == 1 in reduced model: []\n"
     ]
    }
   ],
   "source": [
    "# Identify problematic observations where leverage = 1\n",
    "high_leverage_1 = np.where(h_ii_1 == 1)[0]\n",
    "high_leverage_2 = np.where(h_ii_2 == 1)[0]\n",
    "\n",
    "print(\"Observations with h_ii == 1 in full model:\", high_leverage_1)\n",
    "print(\"Observations with h_ii == 1 in reduced model:\", high_leverage_2)"
   ]
  },
  {
   "cell_type": "code",
   "execution_count": 164,
   "id": "a5440c74-9e1f-4359-994b-225dc6250b1a",
   "metadata": {},
   "outputs": [],
   "source": [
    "# NO PROBLEM AS 1-h_i_i WILL NEVER BE 0 ANYWHERE IN DIAGONAL OF THE HAT MATRIX"
   ]
  },
  {
   "cell_type": "code",
   "execution_count": 200,
   "id": "b9af0521-7cd4-442e-8238-d185281699ef",
   "metadata": {
    "scrolled": true
   },
   "outputs": [
    {
     "name": "stdout",
     "output_type": "stream",
     "text": [
      "Condition category summary:\n",
      " condition_cat\n",
      "7.0    1198\n",
      "6.0     277\n",
      "5.0     243\n",
      "3.0     240\n",
      "1.0     185\n",
      "2.0     135\n",
      "4.0      78\n",
      "8.0      15\n",
      "Name: count, dtype: int64\n",
      "Appointments category summary:\n",
      " appointments_cat\n",
      "0    875\n",
      "1    768\n",
      "2    728\n",
      "Name: count, dtype: int64\n",
      "Heating category summary:\n",
      " heating_cat\n",
      "13.0    1150\n",
      "3.0      314\n",
      "4.0      300\n",
      "6.0      285\n",
      "5.0      208\n",
      "10.0      51\n",
      "12.0      35\n",
      "1.0       11\n",
      "2.0        7\n",
      "8.0        5\n",
      "7.0        4\n",
      "11.0       1\n",
      "Name: count, dtype: int64\n",
      "Month summary:\n",
      " month\n",
      "7     334\n",
      "1     217\n",
      "11    204\n",
      "9     200\n",
      "10    198\n",
      "12    194\n",
      "3     192\n",
      "8     191\n",
      "2     186\n",
      "6     182\n",
      "4     168\n",
      "5     105\n",
      "Name: count, dtype: int64\n"
     ]
    }
   ],
   "source": [
    "# Reload the original dataset\n",
    "data = pd.read_csv('biele_WM_new.csv')\n",
    "columns = [\"mietekalt\", \"qm_Preis\", \"wohnflaeche\", \"alter\", \"objektzustand\", \"zimmeranzahl\", \"balkon\", \"einbaukueche\", \"keller\", \"ausstattung_kat\", \"aufzug\", \"gaestewc\", \"garten\", \"heizungsart\", \"barrierefrei\", \"Einstellungsmonat\"]\n",
    "data = data[columns]\n",
    "data.rename(columns = {'mietekalt': 'netrent', \n",
    "                     'qm_Preis': 'rent_per_sqm', \n",
    "                     'wohnflaeche': 'area', \n",
    "                     'alter': 'age', \n",
    "                     'objektzustand': 'condition_cat', \n",
    "                     'zimmeranzahl': 'rooms', \n",
    "                     'balkon': 'balcony', \n",
    "                     'einbaukueche': 'kitchen', \n",
    "                     'keller': 'basement', \n",
    "                     'ausstattung_kat': 'appointments_cat', \n",
    "                     'aufzug': 'lift', \n",
    "                     'gaestewc': 'guesttoilet', \n",
    "                     'garten': 'garden', \n",
    "                     'heizungsart': 'heating_cat', \n",
    "                     'barrierefrei': 'barrierfree', \n",
    "                     'Einstellungsmonat': 'month'}, inplace= True)\n",
    "data = data.dropna()\n",
    "\n",
    "# Check categorical variable distribution\n",
    "print(\"Condition category summary:\\n\", data['condition_cat'].value_counts())\n",
    "print(\"Appointments category summary:\\n\", data['appointments_cat'].value_counts())\n",
    "print(\"Heating category summary:\\n\", data['heating_cat'].value_counts())\n",
    "print(\"Month summary:\\n\", data['month'].value_counts())"
   ]
  },
  {
   "cell_type": "code",
   "execution_count": 201,
   "id": "76bf02c4-da6f-460a-9fec-40bc8c5fc095",
   "metadata": {},
   "outputs": [],
   "source": [
    "# Encode categorical variables\n",
    "data = pd.get_dummies(data,\n",
    "                      columns = ['condition_cat', 'heating_cat', 'appointments_cat', 'month'],\n",
    "                      drop_first = True, dtype = int)"
   ]
  },
  {
   "cell_type": "code",
   "execution_count": 225,
   "id": "6c9cea0d-eef0-4036-9dce-d6f13a62cf7a",
   "metadata": {},
   "outputs": [],
   "source": [
    "# Define a new restricted model excluding the non-significant heating categories\n",
    "independent_vars_H01 = [\n",
    "    \"area\", \"age\", \"rooms\", \"kitchen\", \"basement\", \"lift\", \"guesttoilet\", \"balcony\", \"garden\", \"barrierfree\",\n",
    "    \"heating_cat_3.0\", \"heating_cat_4.0\", \"heating_cat_5.0\", \"heating_cat_2.0\", \"heating_cat_7.0\"\n",
    "]+ [col for col in data.columns if col.startswith((\"condition_cat_\", \"appointments_cat_\", \"month_\"))]  \n",
    "\n",
    "X_H01 = sm.add_constant(data[independent_vars_H01])\n",
    "model_H01 = sm.OLS(data[dependent_var], X_H01).fit()"
   ]
  },
  {
   "cell_type": "code",
   "execution_count": 227,
   "id": "2d636ff5-5bdb-4059-be01-8fa7df5f8db0",
   "metadata": {
    "scrolled": true
   },
   "outputs": [
    {
     "name": "stdout",
     "output_type": "stream",
     "text": [
      "                            OLS Regression Results                            \n",
      "==============================================================================\n",
      "Dep. Variable:                netrent   R-squared:                       0.815\n",
      "Model:                            OLS   Adj. R-squared:                  0.812\n",
      "Method:                 Least Squares   F-statistic:                     293.9\n",
      "Date:                Sat, 18 Jan 2025   Prob (F-statistic):               0.00\n",
      "Time:                        17:57:04   Log-Likelihood:                -14353.\n",
      "No. Observations:                2371   AIC:                         2.878e+04\n",
      "Df Residuals:                    2335   BIC:                         2.899e+04\n",
      "Df Model:                          35                                         \n",
      "Covariance Type:            nonrobust                                         \n",
      "======================================================================================\n",
      "                         coef    std err          t      P>|t|      [0.025      0.975]\n",
      "--------------------------------------------------------------------------------------\n",
      "const                122.4903     15.241      8.037      0.000      92.604     152.377\n",
      "area                   7.9086      0.163     48.612      0.000       7.590       8.228\n",
      "age                    0.2545      0.082      3.085      0.002       0.093       0.416\n",
      "rooms                -20.1697      4.167     -4.840      0.000     -28.341     -11.998\n",
      "kitchen               38.8654      4.893      7.943      0.000      29.270      48.460\n",
      "basement             -15.0274      5.068     -2.965      0.003     -24.965      -5.090\n",
      "lift                  21.7612      6.930      3.140      0.002       8.172      35.351\n",
      "guesttoilet           25.3090      6.828      3.707      0.000      11.920      38.698\n",
      "balcony                3.9848      5.436      0.733      0.464      -6.676      14.645\n",
      "garden                -4.2909      5.443     -0.788      0.431     -14.964       6.382\n",
      "barrierfree           -1.2516      8.588     -0.146      0.884     -18.092      15.589\n",
      "heating_cat_3.0       14.6947      6.856      2.143      0.032       1.250      28.140\n",
      "heating_cat_4.0       44.2756      6.908      6.409      0.000      30.728      57.823\n",
      "heating_cat_5.0       53.1547      9.590      5.543      0.000      34.348      71.961\n",
      "heating_cat_2.0       56.1388     39.773      1.411      0.158     -21.855     134.133\n",
      "heating_cat_7.0       74.1709     52.805      1.405      0.160     -29.379     177.721\n",
      "condition_cat_2.0   -113.8717     13.416     -8.488      0.000    -140.179     -87.564\n",
      "condition_cat_3.0    -63.8287     10.950     -5.829      0.000     -85.301     -42.357\n",
      "condition_cat_4.0   -126.9832     15.787     -8.044      0.000    -157.941     -96.025\n",
      "condition_cat_5.0   -160.4645     12.608    -12.728      0.000    -185.188    -135.741\n",
      "condition_cat_6.0   -145.4262     12.003    -12.115      0.000    -168.965    -121.888\n",
      "condition_cat_7.0   -161.7743     11.055    -14.634      0.000    -183.453    -140.096\n",
      "condition_cat_8.0   -190.0230     29.118     -6.526      0.000    -247.123    -132.923\n",
      "appointments_cat_1    -8.5483      5.464     -1.564      0.118     -19.263       2.167\n",
      "appointments_cat_2    57.3960      6.494      8.838      0.000      44.661      70.131\n",
      "month_2               19.4150     10.413      1.865      0.062      -1.004      39.834\n",
      "month_3               13.6109     10.325      1.318      0.188      -6.636      33.858\n",
      "month_4               15.2376     10.703      1.424      0.155      -5.751      36.226\n",
      "month_5               20.0635     12.372      1.622      0.105      -4.197      44.324\n",
      "month_6               11.7764     10.502      1.121      0.262      -8.818      32.371\n",
      "month_7               29.4546      9.124      3.228      0.001      11.563      47.347\n",
      "month_8                9.2631     10.354      0.895      0.371     -11.042      29.568\n",
      "month_9               19.4673     10.232      1.903      0.057      -0.597      39.531\n",
      "month_10              15.4349     10.269      1.503      0.133      -4.702      35.572\n",
      "month_11              19.1534     10.206      1.877      0.061      -0.860      39.167\n",
      "month_12              20.9121     10.309      2.029      0.043       0.697      41.127\n",
      "==============================================================================\n",
      "Omnibus:                      492.018   Durbin-Watson:                   2.024\n",
      "Prob(Omnibus):                  0.000   Jarque-Bera (JB):             3610.567\n",
      "Skew:                           0.780   Prob(JB):                         0.00\n",
      "Kurtosis:                       8.841   Cond. No.                     2.25e+03\n",
      "==============================================================================\n",
      "\n",
      "Notes:\n",
      "[1] Standard Errors assume that the covariance matrix of the errors is correctly specified.\n",
      "[2] The condition number is large, 2.25e+03. This might indicate that there are\n",
      "strong multicollinearity or other numerical problems.\n"
     ]
    }
   ],
   "source": [
    "# Print results\n",
    "print(model_H01.summary())"
   ]
  },
  {
   "cell_type": "code",
   "execution_count": null,
   "id": "5262df28-43ec-481e-b986-5c59f7b9bf3f",
   "metadata": {},
   "outputs": [],
   "source": []
  },
  {
   "cell_type": "markdown",
   "id": "2a52eac7-70e0-45d2-8fae-7f969494afd0",
   "metadata": {},
   "source": [
    "##### PERFORM F-TEST"
   ]
  },
  {
   "cell_type": "code",
   "execution_count": 228,
   "id": "39386adc-9683-4c56-beca-005f86a27135",
   "metadata": {},
   "outputs": [],
   "source": [
    "SSE = np.sum(model.resid**2)\n",
    "SSE_H01 = np.sum(model_H01.resid**2)\n",
    "n = len(model.fittedvalues)\n",
    "p = model.df_model + 1                    # Number of parameters including intercept\n",
    "r = model.df_model - model_H01.df_model   # Difference in model complexity"
   ]
  },
  {
   "cell_type": "code",
   "execution_count": 229,
   "id": "a7afd98a-60a4-40ac-b2be-f6b329225175",
   "metadata": {},
   "outputs": [
    {
     "name": "stdout",
     "output_type": "stream",
     "text": [
      "F-statistic: 1.6826210738352008\n"
     ]
    }
   ],
   "source": [
    "# Compute F-statistic\n",
    "F_H01 = ((n - p) / r) * (SSE_H01 - SSE) / SSE\n",
    "print(f\"F-statistic: {F_H01}\")\n",
    "\n",
    "# f_statistics = model.compare_f_test(model_H01)"
   ]
  },
  {
   "cell_type": "code",
   "execution_count": 230,
   "id": "22c4e116-429e-462c-a678-fbab70415268",
   "metadata": {},
   "outputs": [
    {
     "name": "stdout",
     "output_type": "stream",
     "text": [
      "Critical value at 95% confidence: 2.10247205364245\n",
      "P-value: 0.12121829461341171\n"
     ]
    }
   ],
   "source": [
    "# Compute critical value and p-value\n",
    "F_critical = f.ppf(0.95, dfn=r, dfd=n - p)\n",
    "p_value = 1 - f.cdf(F_H01, dfn=r, dfd=n - p)\n",
    "\n",
    "print(f\"Critical value at 95% confidence: {F_critical}\")\n",
    "print(f\"P-value: {p_value}\")"
   ]
  },
  {
   "cell_type": "code",
   "execution_count": 231,
   "id": "32676549-3c4e-4044-b203-df8ff27f9a2e",
   "metadata": {},
   "outputs": [
    {
     "name": "stdout",
     "output_type": "stream",
     "text": [
      "Fail to reject the null hypothesis: Heating categories have no joıntly significant influence.\n"
     ]
    }
   ],
   "source": [
    "if p_value < 0.05:\n",
    "    print(\"Reject the null hypothesis: Heating categories jointly significantly influence the model.\")\n",
    "else:\n",
    "    print(\"Fail to reject the null hypothesis: Heating categories have no joıntly significant influence.\")"
   ]
  },
  {
   "cell_type": "code",
   "execution_count": null,
   "id": "ed4d1717-cd26-40f4-bb0b-badd646e4136",
   "metadata": {},
   "outputs": [],
   "source": []
  },
  {
   "cell_type": "markdown",
   "id": "a6de8661-3f5b-4817-a70e-dd5078ce600d",
   "metadata": {},
   "source": [
    "##### MODEL SELECTION"
   ]
  },
  {
   "cell_type": "code",
   "execution_count": 232,
   "id": "ca95a996-8612-4743-8a7d-39513eb06d99",
   "metadata": {},
   "outputs": [
    {
     "name": "stdout",
     "output_type": "stream",
     "text": [
      "Full Model AIC: 28779.26, BIC: 29021.65\n",
      "Restricted Model AIC: 28777.52, BIC: 28985.28\n",
      "The model_H01 has a lower AIC and is preferred based on AIC.\n",
      "The model_H01 has a lower BIC and is preferred based on BIC.\n"
     ]
    }
   ],
   "source": [
    "# Compare AIC and BIC for model selection\n",
    "aic_model = model.aic\n",
    "bic_model = model.bic\n",
    "\n",
    "aic_H01 = model_H01.aic\n",
    "bic_H01 = model_H01.bic\n",
    "\n",
    "print(f\"Full Model AIC: {aic_model:.2f}, BIC: {bic_model:.2f}\")\n",
    "print(f\"Restricted Model AIC: {aic_H01:.2f}, BIC: {bic_H01:.2f}\")\n",
    "\n",
    "# Interpretation\n",
    "if aic_H01 < aic_model:\n",
    "    print(\"The model_H01 has a lower AIC and is preferred based on AIC.\")\n",
    "else:\n",
    "    print(\"The model_H0 is preferred based on AIC.\")\n",
    "\n",
    "if bic_H01 < bic_model:\n",
    "    print(\"The model_H01 has a lower BIC and is preferred based on BIC.\")\n",
    "else:\n",
    "    print(\"The model_H0 is preferred based on BIC.\")"
   ]
  },
  {
   "cell_type": "code",
   "execution_count": 221,
   "id": "d30c64ac-68ae-4f02-95e3-834824c13b40",
   "metadata": {},
   "outputs": [],
   "source": [
    "# THE SECOND RESTRICTED MODEL, model_H01, EXPLAINS THE DATA SLIGHTLY BETTER THAN THE FULL ONE, model\n",
    "# model_H01 is the new best performing model"
   ]
  },
  {
   "cell_type": "code",
   "execution_count": null,
   "id": "b4247ddb-9f35-4a50-96ba-a4c68a0cb1a5",
   "metadata": {},
   "outputs": [],
   "source": []
  },
  {
   "cell_type": "code",
   "execution_count": 233,
   "id": "a0488bb2-346f-4704-bdcd-73791f26d8e8",
   "metadata": {},
   "outputs": [],
   "source": [
    "# Define a new restricted model excluding the non-significant heating categories from model_H01 and balcony, garden, barrierfree\n",
    "independent_vars_H02 = [\n",
    "    \"area\", \"age\", \"rooms\", \"kitchen\", \"basement\", \"lift\", \"guesttoilet\",\n",
    "    \"heating_cat_3.0\", \"heating_cat_4.0\", \"heating_cat_5.0\"\n",
    "]+ [col for col in data.columns if col.startswith((\"condition_cat_\", \"appointments_cat_\", \"month_\"))]  \n",
    "\n",
    "X_H02 = sm.add_constant(data[independent_vars_H02])\n",
    "model_H02 = sm.OLS(data[dependent_var], X_H02).fit()"
   ]
  },
  {
   "cell_type": "code",
   "execution_count": 234,
   "id": "db55c20a-a674-49f2-985d-65bb367143e1",
   "metadata": {},
   "outputs": [
    {
     "name": "stdout",
     "output_type": "stream",
     "text": [
      "                            OLS Regression Results                            \n",
      "==============================================================================\n",
      "Dep. Variable:                netrent   R-squared:                       0.815\n",
      "Model:                            OLS   Adj. R-squared:                  0.812\n",
      "Method:                 Least Squares   F-statistic:                     342.7\n",
      "Date:                Sat, 18 Jan 2025   Prob (F-statistic):               0.00\n",
      "Time:                        17:59:18   Log-Likelihood:                -14355.\n",
      "No. Observations:                2371   AIC:                         2.877e+04\n",
      "Df Residuals:                    2340   BIC:                         2.895e+04\n",
      "Df Model:                          30                                         \n",
      "Covariance Type:            nonrobust                                         \n",
      "======================================================================================\n",
      "                         coef    std err          t      P>|t|      [0.025      0.975]\n",
      "--------------------------------------------------------------------------------------\n",
      "const                125.8884     14.761      8.528      0.000      96.942     154.835\n",
      "area                   7.9169      0.160     49.498      0.000       7.603       8.231\n",
      "age                    0.2342      0.079      2.968      0.003       0.079       0.389\n",
      "rooms                -20.0488      4.162     -4.817      0.000     -28.211     -11.887\n",
      "kitchen               38.6082      4.875      7.920      0.000      29.048      48.168\n",
      "basement             -15.2882      5.018     -3.047      0.002     -25.128      -5.449\n",
      "lift                  21.7050      6.273      3.460      0.001       9.404      34.006\n",
      "guesttoilet           25.6182      6.816      3.759      0.000      12.253      38.984\n",
      "heating_cat_3.0       13.9679      6.802      2.053      0.040       0.628      27.307\n",
      "heating_cat_4.0       44.5092      6.841      6.506      0.000      31.094      57.925\n",
      "heating_cat_5.0       51.5777      9.506      5.426      0.000      32.936      70.219\n",
      "condition_cat_2.0   -114.4867     13.290     -8.614      0.000    -140.549     -88.425\n",
      "condition_cat_3.0    -65.1666     10.866     -5.997      0.000     -86.475     -43.858\n",
      "condition_cat_4.0   -128.7084     15.653     -8.222      0.000    -159.404     -98.013\n",
      "condition_cat_5.0   -161.6395     12.453    -12.980      0.000    -186.060    -137.219\n",
      "condition_cat_6.0   -146.7156     11.853    -12.378      0.000    -169.960    -123.472\n",
      "condition_cat_7.0   -162.3085     10.865    -14.938      0.000    -183.615    -141.002\n",
      "condition_cat_8.0   -187.8493     28.968     -6.485      0.000    -244.655    -131.044\n",
      "appointments_cat_1    -8.8456      5.407     -1.636      0.102     -19.449       1.758\n",
      "appointments_cat_2    57.1986      6.376      8.970      0.000      44.695      69.703\n",
      "month_2               19.7875     10.409      1.901      0.057      -0.625      40.200\n",
      "month_3               13.5467     10.323      1.312      0.190      -6.697      33.791\n",
      "month_4               14.9111     10.697      1.394      0.163      -6.065      35.888\n",
      "month_5               20.0803     12.370      1.623      0.105      -4.177      44.337\n",
      "month_6               12.1759     10.479      1.162      0.245      -8.373      32.725\n",
      "month_7               29.4801      9.102      3.239      0.001      11.631      47.329\n",
      "month_8               10.3002     10.324      0.998      0.319      -9.945      30.546\n",
      "month_9               19.7218     10.216      1.930      0.054      -0.312      39.756\n",
      "month_10              15.0742     10.246      1.471      0.141      -5.017      35.165\n",
      "month_11              19.0600     10.185      1.871      0.061      -0.913      39.033\n",
      "month_12              20.8508     10.299      2.025      0.043       0.655      41.047\n",
      "==============================================================================\n",
      "Omnibus:                      488.003   Durbin-Watson:                   2.026\n",
      "Prob(Omnibus):                  0.000   Jarque-Bera (JB):             3577.512\n",
      "Skew:                           0.772   Prob(JB):                         0.00\n",
      "Kurtosis:                       8.816   Cond. No.                     1.40e+03\n",
      "==============================================================================\n",
      "\n",
      "Notes:\n",
      "[1] Standard Errors assume that the covariance matrix of the errors is correctly specified.\n",
      "[2] The condition number is large, 1.4e+03. This might indicate that there are\n",
      "strong multicollinearity or other numerical problems.\n"
     ]
    }
   ],
   "source": [
    "print(model_H02.summary())"
   ]
  },
  {
   "cell_type": "code",
   "execution_count": 236,
   "id": "81e45397-303b-4efb-8861-daf21ff785b1",
   "metadata": {},
   "outputs": [
    {
     "name": "stdout",
     "output_type": "stream",
     "text": [
      "Full Model AIC: 28774.71, BIC: 28999.78\n",
      "Restricted Model AIC: 28772.78, BIC: 28951.68\n",
      "The model_H02 has a lower AIC and is preferred based on AIC.\n",
      "The model_H02 has a lower BIC and is preferred based on BIC.\n"
     ]
    }
   ],
   "source": [
    "# Compare new current model, model_H02 with the first restricted model, model_H0\n",
    "# Compare AIC and BIC for model selection\n",
    "aic_H0 = model_H0.aic\n",
    "bic_H0 = model_H0.bic\n",
    "\n",
    "aic_H02 = model_H02.aic\n",
    "bic_H02 = model_H02.bic\n",
    "\n",
    "print(f\"Full Model AIC: {aic_H0:.2f}, BIC: {bic_H0:.2f}\")\n",
    "print(f\"Restricted Model AIC: {aic_H02:.2f}, BIC: {bic_H02:.2f}\")\n",
    "\n",
    "# Interpretation\n",
    "if aic_H02 < aic_H0:\n",
    "    print(\"The model_H02 has a lower AIC and is preferred based on AIC.\")\n",
    "else:\n",
    "    print(\"The model_H0 is preferred based on AIC.\")\n",
    "\n",
    "if bic_H02 < bic_H0:\n",
    "    print(\"The model_H02 has a lower BIC and is preferred based on BIC.\")\n",
    "else:\n",
    "    print(\"The model_H0 is preferred based on BIC.\")"
   ]
  },
  {
   "cell_type": "code",
   "execution_count": 212,
   "id": "6dba2a3e-8e59-4e51-8862-1cbe7a51fb7f",
   "metadata": {},
   "outputs": [],
   "source": [
    "# THE THIRD RESTRICTED MODEL, model_H02, EXPLAINS THE DATA SLIGHTLY BETTER THAN THE FIRST ONE, model_H0\n",
    "# model_H02 is the new best performing model"
   ]
  },
  {
   "cell_type": "code",
   "execution_count": null,
   "id": "7e63aa7c-123e-4466-99eb-f05ceeac16df",
   "metadata": {},
   "outputs": [],
   "source": []
  },
  {
   "cell_type": "code",
   "execution_count": 242,
   "id": "bbedf90b-e78f-4540-a108-241da9aef21f",
   "metadata": {},
   "outputs": [],
   "source": [
    "# Define a new restricted model excluding the non-significant appointment category, appointments_cat_1, from model_H02\n",
    "independent_vars_H03 = [\n",
    "    \"area\", \"age\", \"rooms\", \"kitchen\", \"basement\", \"lift\", \"guesttoilet\",\n",
    "    \"heating_cat_3.0\", \"heating_cat_4.0\", \"heating_cat_5.0\", \"appointments_cat_2\"\n",
    "]+ [col for col in data.columns if col.startswith((\"condition_cat_\", \"month_\"))]   \n",
    "\n",
    "X_H03 = sm.add_constant(data[independent_vars_H03])\n",
    "model_H03 = sm.OLS(data[dependent_var], X_H03).fit()"
   ]
  },
  {
   "cell_type": "code",
   "execution_count": 244,
   "id": "89fa0198-254f-480c-b8b9-8af94bf182cf",
   "metadata": {
    "scrolled": true
   },
   "outputs": [
    {
     "name": "stdout",
     "output_type": "stream",
     "text": [
      "                            OLS Regression Results                            \n",
      "==============================================================================\n",
      "Dep. Variable:                netrent   R-squared:                       0.814\n",
      "Model:                            OLS   Adj. R-squared:                  0.812\n",
      "Method:                 Least Squares   F-statistic:                     354.2\n",
      "Date:                Sat, 18 Jan 2025   Prob (F-statistic):               0.00\n",
      "Time:                        18:06:49   Log-Likelihood:                -14357.\n",
      "No. Observations:                2371   AIC:                         2.877e+04\n",
      "Df Residuals:                    2341   BIC:                         2.895e+04\n",
      "Df Model:                          29                                         \n",
      "Covariance Type:            nonrobust                                         \n",
      "======================================================================================\n",
      "                         coef    std err          t      P>|t|      [0.025      0.975]\n",
      "--------------------------------------------------------------------------------------\n",
      "const                122.9359     14.656      8.388      0.000      94.197     151.675\n",
      "area                   7.9057      0.160     49.456      0.000       7.592       8.219\n",
      "age                    0.2352      0.079      2.980      0.003       0.080       0.390\n",
      "rooms                -19.5723      4.153     -4.712      0.000     -27.717     -11.427\n",
      "kitchen               37.2131      4.801      7.750      0.000      27.797      46.629\n",
      "basement             -16.7396      4.940     -3.388      0.001     -26.428      -7.052\n",
      "lift                  22.2333      6.267      3.548      0.000       9.944      34.523\n",
      "guesttoilet           25.3720      6.817      3.722      0.000      12.005      38.739\n",
      "heating_cat_3.0       13.9203      6.805      2.046      0.041       0.576      27.264\n",
      "heating_cat_4.0       43.3527      6.807      6.369      0.000      30.004      56.701\n",
      "heating_cat_5.0       51.5748      9.510      5.424      0.000      32.927      70.223\n",
      "appointments_cat_2    61.7462      5.741     10.756      0.000      50.489      73.003\n",
      "condition_cat_2.0   -113.6996     13.286     -8.558      0.000    -139.754     -87.645\n",
      "condition_cat_3.0    -64.8325     10.868     -5.965      0.000     -86.145     -43.520\n",
      "condition_cat_4.0   -129.2165     15.656     -8.254      0.000    -159.917     -98.516\n",
      "condition_cat_5.0   -161.9461     12.456    -13.001      0.000    -186.372    -137.520\n",
      "condition_cat_6.0   -147.5897     11.845    -12.460      0.000    -170.818    -124.361\n",
      "condition_cat_7.0   -162.3297     10.869    -14.935      0.000    -183.644    -141.015\n",
      "condition_cat_8.0   -188.8169     28.972     -6.517      0.000    -245.631    -132.003\n",
      "month_2               20.0011     10.412      1.921      0.055      -0.417      40.419\n",
      "month_3               13.8942     10.325      1.346      0.179      -6.353      34.141\n",
      "month_4               14.7552     10.700      1.379      0.168      -6.228      35.738\n",
      "month_5               20.1079     12.374      1.625      0.104      -4.158      44.374\n",
      "month_6               12.2037     10.483      1.164      0.244      -8.353      32.760\n",
      "month_7               29.2538      9.105      3.213      0.001      11.400      47.108\n",
      "month_8               10.0685     10.327      0.975      0.330     -10.182      30.319\n",
      "month_9               19.4109     10.218      1.900      0.058      -0.627      39.448\n",
      "month_10              14.8491     10.248      1.449      0.147      -5.247      34.946\n",
      "month_11              18.9406     10.188      1.859      0.063      -1.039      38.920\n",
      "month_12              20.5820     10.301      1.998      0.046       0.381      40.783\n",
      "==============================================================================\n",
      "Omnibus:                      491.507   Durbin-Watson:                   2.026\n",
      "Prob(Omnibus):                  0.000   Jarque-Bera (JB):             3589.046\n",
      "Skew:                           0.780   Prob(JB):                         0.00\n",
      "Kurtosis:                       8.822   Cond. No.                     1.40e+03\n",
      "==============================================================================\n",
      "\n",
      "Notes:\n",
      "[1] Standard Errors assume that the covariance matrix of the errors is correctly specified.\n",
      "[2] The condition number is large, 1.4e+03. This might indicate that there are\n",
      "strong multicollinearity or other numerical problems.\n"
     ]
    }
   ],
   "source": [
    "# Print results\n",
    "print(model_H03.summary())"
   ]
  },
  {
   "cell_type": "code",
   "execution_count": 245,
   "id": "c89748a9-4f13-4721-9b3b-1e1c9572c27f",
   "metadata": {},
   "outputs": [
    {
     "name": "stdout",
     "output_type": "stream",
     "text": [
      "Adjusted R-squared for model_H0: 0.8121\n",
      "Adjusted R-squared for model_H02: 0.8122\n",
      "model_H02 is favored based on adjusted R-squared.\n"
     ]
    }
   ],
   "source": [
    "# Compare adjusted R-squared\n",
    "adj_rsq_H03 = model_H03.rsquared_adj\n",
    "adj_rsq_H02 = model_H02.rsquared_adj\n",
    "\n",
    "print(f\"Adjusted R-squared for model_H0: {adj_rsq_H03:.4f}\")\n",
    "print(f\"Adjusted R-squared for model_H02: {adj_rsq_H02:.4f}\")\n",
    "\n",
    "if adj_rsq_H02 > adj_rsq_H03:\n",
    "    print(\"model_H02 is favored based on adjusted R-squared.\")\n",
    "else:\n",
    "    print(\"model_H03 is favored based on adjusted R-squared.\")"
   ]
  },
  {
   "cell_type": "code",
   "execution_count": 246,
   "id": "cb1af546-9da3-4380-97eb-717289bddb4b",
   "metadata": {},
   "outputs": [
    {
     "name": "stdout",
     "output_type": "stream",
     "text": [
      "LOOCV Error for model_H0: 10937.7966\n",
      "LOOCV Error for model H02: 10933.8505\n",
      "model_H02 is favored based on lower cross-validation error.\n"
     ]
    }
   ],
   "source": [
    "# Leave-One-Out Cross Validation (LOOCV)\n",
    "h_ii_H03 = model_H03.get_influence().hat_matrix_diag\n",
    "h_ii_H02 = model_H02.get_influence().hat_matrix_diag\n",
    "\n",
    "loocv_error_H03 = np.mean(((data[\"netrent\"] - model_H03.fittedvalues) / (1 - h_ii_H03))**2)\n",
    "loocv_error_H02 = np.mean(((data[\"netrent\"] - model_H02.fittedvalues) / (1 - h_ii_H02))**2)\n",
    "\n",
    "print(f\"LOOCV Error for model_H0: {loocv_error_H03:.4f}\")\n",
    "print(f\"LOOCV Error for model H02: {loocv_error_H02:.4f}\")\n",
    "\n",
    "if loocv_error_H02 < loocv_error_H03:\n",
    "    print(\"model_H02 is favored based on lower cross-validation error.\")\n",
    "else:\n",
    "    print(\"model_H03 is favored based on lower cross-validation error.\")"
   ]
  },
  {
   "cell_type": "code",
   "execution_count": 248,
   "id": "a495df4a-aff2-4e08-8885-3c440386bb58",
   "metadata": {},
   "outputs": [
    {
     "name": "stdout",
     "output_type": "stream",
     "text": [
      "AIC for model_H0: 28773.49\n",
      "AIC for model_H02: 28772.78\n",
      "model_H02 is favored based on AIC.\n",
      "BIC for model_H0: 28946.62\n",
      "BIC for model_H02: 28951.68\n",
      "model_H03 is favored based on BIC.\n"
     ]
    }
   ],
   "source": [
    "# Compare AIC\n",
    "aic_model_H03 = model_H03.aic\n",
    "aic_model_H02 = model_H02.aic\n",
    "\n",
    "print(f\"AIC for model_H0: {aic_model_H03:.2f}\")\n",
    "print(f\"AIC for model_H02: {aic_model_H02:.2f}\")\n",
    "\n",
    "if aic_model_H02 < aic_model_H03:\n",
    "    print(\"model_H02 is favored based on AIC.\")\n",
    "else:\n",
    "    print(\"model_H03 is favored based on AIC.\")\n",
    "\n",
    "# Compare BIC\n",
    "bic_model_H03 = model_H03.bic\n",
    "bic_model_H02 = model_H02.bic\n",
    "\n",
    "print(f\"BIC for model_H0: {bic_model_H03:.2f}\")\n",
    "print(f\"BIC for model_H02: {bic_model_H02:.2f}\")\n",
    "\n",
    "if bic_model_H02 < bic_model_H03:\n",
    "    print(\"model_H02 is favored based on BIC.\")\n",
    "else:\n",
    "    print(\"model_H03 is favored based on BIC.\")"
   ]
  },
  {
   "cell_type": "code",
   "execution_count": 180,
   "id": "584cda6d-3219-4b0e-96d8-f7bf456c8dd1",
   "metadata": {},
   "outputs": [],
   "source": [
    "# model_H02 IS FAVOURED BY ALL MODEL SELECTION METRICS BUT THE BIC.\n",
    "# WE WILL KEEP THE model_H02 AS THE RUNNING MODEL"
   ]
  },
  {
   "cell_type": "code",
   "execution_count": null,
   "id": "c53035e6-a94e-49c6-97e0-66721fbebc7d",
   "metadata": {},
   "outputs": [],
   "source": []
  },
  {
   "cell_type": "code",
   "execution_count": 259,
   "id": "1cf913bd-8df8-46df-8c41-88df50ff7feb",
   "metadata": {},
   "outputs": [],
   "source": [
    "# Define a new restricted model excluding the non-significant month category as almost all of its categories are not significant\n",
    "independent_vars_H04 = [\n",
    "    \"area\", \"age\", \"rooms\", \"kitchen\", \"basement\", \"lift\", \"guesttoilet\",\n",
    "    \"heating_cat_3.0\", \"heating_cat_4.0\", \"heating_cat_5.0\"\n",
    "]+ [col for col in data.columns if col.startswith((\"condition_cat_\", \"appointments_cat_\"))]   \n",
    "\n",
    "X_H04 = sm.add_constant(data[independent_vars_H04])\n",
    "model_H04 = sm.OLS(data[dependent_var], X_H04).fit()"
   ]
  },
  {
   "cell_type": "code",
   "execution_count": 260,
   "id": "a47d1d9c-ee37-4161-a19d-1beba33a0307",
   "metadata": {
    "scrolled": true
   },
   "outputs": [
    {
     "name": "stdout",
     "output_type": "stream",
     "text": [
      "                            OLS Regression Results                            \n",
      "==============================================================================\n",
      "Dep. Variable:                netrent   R-squared:                       0.814\n",
      "Model:                            OLS   Adj. R-squared:                  0.812\n",
      "Method:                 Least Squares   F-statistic:                     540.1\n",
      "Date:                Sat, 18 Jan 2025   Prob (F-statistic):               0.00\n",
      "Time:                        18:25:06   Log-Likelihood:                -14362.\n",
      "No. Observations:                2371   AIC:                         2.876e+04\n",
      "Df Residuals:                    2351   BIC:                         2.888e+04\n",
      "Df Model:                          19                                         \n",
      "Covariance Type:            nonrobust                                         \n",
      "======================================================================================\n",
      "                         coef    std err          t      P>|t|      [0.025      0.975]\n",
      "--------------------------------------------------------------------------------------\n",
      "const                139.6601     13.338     10.471      0.000     113.505     165.815\n",
      "area                   7.9539      0.159     49.940      0.000       7.642       8.266\n",
      "age                    0.2386      0.079      3.033      0.002       0.084       0.393\n",
      "rooms                -20.3961      4.154     -4.910      0.000     -28.541     -12.251\n",
      "kitchen               39.1372      4.864      8.046      0.000      29.599      48.676\n",
      "basement             -15.7156      5.012     -3.135      0.002     -25.544      -5.887\n",
      "lift                  22.4388      6.266      3.581      0.000      10.152      34.726\n",
      "guesttoilet           25.5559      6.807      3.754      0.000      12.207      38.905\n",
      "heating_cat_3.0       14.2853      6.790      2.104      0.036       0.969      27.601\n",
      "heating_cat_4.0       44.7405      6.826      6.554      0.000      31.354      58.127\n",
      "heating_cat_5.0       52.1600      9.467      5.510      0.000      33.596      70.724\n",
      "condition_cat_2.0   -114.5097     13.271     -8.628      0.000    -140.535     -88.485\n",
      "condition_cat_3.0    -64.6805     10.847     -5.963      0.000     -85.951     -43.410\n",
      "condition_cat_4.0   -127.9910     15.617     -8.196      0.000    -158.615     -97.367\n",
      "condition_cat_5.0   -160.8905     12.417    -12.957      0.000    -185.240    -136.541\n",
      "condition_cat_6.0   -145.4054     11.806    -12.316      0.000    -168.557    -122.254\n",
      "condition_cat_7.0   -161.6447     10.814    -14.947      0.000    -182.851    -140.438\n",
      "condition_cat_8.0   -188.2933     28.918     -6.511      0.000    -245.000    -131.587\n",
      "appointments_cat_1    -8.5124      5.401     -1.576      0.115     -19.103       2.079\n",
      "appointments_cat_2    57.7482      6.356      9.085      0.000      45.283      70.213\n",
      "==============================================================================\n",
      "Omnibus:                      509.794   Durbin-Watson:                   2.029\n",
      "Prob(Omnibus):                  0.000   Jarque-Bera (JB):             3833.542\n",
      "Skew:                           0.808   Prob(JB):                         0.00\n",
      "Kurtosis:                       9.016   Cond. No.                     1.39e+03\n",
      "==============================================================================\n",
      "\n",
      "Notes:\n",
      "[1] Standard Errors assume that the covariance matrix of the errors is correctly specified.\n",
      "[2] The condition number is large, 1.39e+03. This might indicate that there are\n",
      "strong multicollinearity or other numerical problems.\n"
     ]
    }
   ],
   "source": [
    "# Print results\n",
    "print(model_H04.summary())"
   ]
  },
  {
   "cell_type": "code",
   "execution_count": 263,
   "id": "967a2493-a0f2-480f-af1a-c1021de3147d",
   "metadata": {},
   "outputs": [
    {
     "name": "stdout",
     "output_type": "stream",
     "text": [
      "Adjusted R-squared for model_H04: 0.8121\n",
      "Adjusted R-squared for model_H02: 0.8122\n",
      "model_H02 is favored based on adjusted R-squared.\n"
     ]
    }
   ],
   "source": [
    "# Compare adjusted R-squared\n",
    "adj_rsq_H04 = model_H04.rsquared_adj\n",
    "adj_rsq_H02 = model_H02.rsquared_adj\n",
    "\n",
    "print(f\"Adjusted R-squared for model_H04: {adj_rsq_H04:.4f}\")\n",
    "print(f\"Adjusted R-squared for model_H02: {adj_rsq_H02:.4f}\")\n",
    "\n",
    "if adj_rsq_H02 > adj_rsq_H04:\n",
    "    print(\"model_H02 is favored based on adjusted R-squared.\")\n",
    "else:\n",
    "    print(\"model_H04 is favored based on adjusted R-squared.\")"
   ]
  },
  {
   "cell_type": "code",
   "execution_count": 264,
   "id": "9876e894-9fb1-4da7-85c6-6141ecfe24c7",
   "metadata": {},
   "outputs": [
    {
     "name": "stdout",
     "output_type": "stream",
     "text": [
      "LOOCV Error for model_H04: 10898.3215\n",
      "LOOCV Error for model H02: 10933.8505\n",
      "model_H04 is favored based on lower cross-validation error.\n"
     ]
    }
   ],
   "source": [
    "# Leave-One-Out Cross Validation (LOOCV)\n",
    "h_ii_H04 = model_H04.get_influence().hat_matrix_diag\n",
    "h_ii_H02 = model_H02.get_influence().hat_matrix_diag\n",
    "\n",
    "loocv_error_H04 = np.mean(((data[\"netrent\"] - model_H04.fittedvalues) / (1 - h_ii_H04))**2)\n",
    "loocv_error_H02 = np.mean(((data[\"netrent\"] - model_H02.fittedvalues) / (1 - h_ii_H02))**2)\n",
    "\n",
    "print(f\"LOOCV Error for model_H04: {loocv_error_H04:.4f}\")\n",
    "print(f\"LOOCV Error for model H02: {loocv_error_H02:.4f}\")\n",
    "\n",
    "if loocv_error_H02 < loocv_error_H04:\n",
    "    print(\"model_H02 is favored based on lower cross-validation error.\")\n",
    "else:\n",
    "    print(\"model_H04 is favored based on lower cross-validation error.\")"
   ]
  },
  {
   "cell_type": "code",
   "execution_count": 266,
   "id": "1f1cba25-0cf5-422e-9cd7-475f80980378",
   "metadata": {},
   "outputs": [
    {
     "name": "stdout",
     "output_type": "stream",
     "text": [
      "AIC for model_H04: 28763.62\n",
      "AIC for model_H02: 28772.78\n",
      "model_H04 is favored based on AIC.\n",
      "BIC for model_H04: 28879.04\n",
      "BIC for model_H02: 28951.68\n",
      "model_H04 is favored based on BIC.\n"
     ]
    }
   ],
   "source": [
    "# Compare AIC\n",
    "aic_model_H04 = model_H04.aic\n",
    "aic_model_H02 = model_H02.aic\n",
    "\n",
    "print(f\"AIC for model_H04: {aic_model_H04:.2f}\")\n",
    "print(f\"AIC for model_H02: {aic_model_H02:.2f}\")\n",
    "\n",
    "if aic_model_H02 < aic_model_H04:\n",
    "    print(\"model_H02 is favored based on AIC.\")\n",
    "else:\n",
    "    print(\"model_H04 is favored based on AIC.\")\n",
    "\n",
    "# Compare BIC\n",
    "bic_model_H04 = model_H04.bic\n",
    "bic_model_H02 = model_H02.bic\n",
    "\n",
    "print(f\"BIC for model_H04: {bic_model_H04:.2f}\")\n",
    "print(f\"BIC for model_H02: {bic_model_H02:.2f}\")\n",
    "\n",
    "if bic_model_H02 < bic_model_H04:\n",
    "    print(\"model_H02 is favored based on BIC.\")\n",
    "else:\n",
    "    print(\"model_H04 is favored based on BIC.\")"
   ]
  },
  {
   "cell_type": "code",
   "execution_count": null,
   "id": "e5709a4d-5f10-4a39-8687-fbab24ecea38",
   "metadata": {},
   "outputs": [],
   "source": [
    "# model_H04 IS FAVOURED BY ALL MEANS OF MODEL SELECTION METRICSBUT THE ADJUSTED R-SQUARED, WHICH IS THE WEAKEST CRITERION\n",
    "# WE REMOVE THE VARIABLE 'month' AND CONTINUE WITH model_H04 AS THE RUNNING MODEL"
   ]
  },
  {
   "cell_type": "code",
   "execution_count": null,
   "id": "a59fd82d-c3d5-49ef-b40c-8e74ac932982",
   "metadata": {},
   "outputs": [],
   "source": []
  },
  {
   "cell_type": "markdown",
   "id": "87548186-734a-4cb5-987e-e66132ab64b2",
   "metadata": {},
   "source": [
    "# MODEL DIAGNOSIS"
   ]
  },
  {
   "cell_type": "code",
   "execution_count": 267,
   "id": "a2e5241f-2a07-42e1-8583-6c27817598bb",
   "metadata": {},
   "outputs": [],
   "source": [
    "# Extract residuals\n",
    "residuals_H04 = model_H04.resid\n",
    "\n",
    "# Compute leverage (hat matrix diagonal values)\n",
    "h_ii_H04 = model_H04.get_influence().hat_matrix_diag\n",
    "\n",
    "# Compute residual standard deviation (sigma)\n",
    "sigma_H04 = np.sqrt(sum(residuals_H04**2) / (len(residuals_H04) - model_H04.df_model - 1))\n",
    "\n",
    "# Compute standardized residuals\n",
    "r_H04 = residuals_H04 / (sigma_H04 * np.sqrt(1 - h_ii_H04))"
   ]
  },
  {
   "cell_type": "code",
   "execution_count": 270,
   "id": "172e19e5-bf62-4bfc-be11-0d8c8fb53cb0",
   "metadata": {},
   "outputs": [
    {
     "data": {
      "image/png": "[encoded data removed]",
      "text/plain": [
       "<Figure size 640x480 with 1 Axes>"
      ]
     },
     "metadata": {},
     "output_type": "display_data"
    },
    {
     "data": {
      "image/png": "[encoded data removed]",
      "text/plain": [
       "<Figure size 640x480 with 1 Axes>"
      ]
     },
     "metadata": {},
     "output_type": "display_data"
    },
    {
     "data": {
      "image/png": "[encoded data removed]",
      "text/plain": [
       "<Figure size 640x480 with 1 Axes>"
      ]
     },
     "metadata": {},
     "output_type": "display_data"
    }
   ],
   "source": [
    "# Define function to plot residuals vs independent variables\n",
    "def plot_residuals(x, y, xlabel):\n",
    "    plt.scatter(x, y, alpha=0.5)\n",
    "    plt.axhline(y=0, color='blue', linestyle='--')\n",
    "    plt.xlabel(xlabel)\n",
    "    plt.ylabel(\"Standardized Residuals\")\n",
    "    plt.title(f\"Residuals vs {xlabel}\")\n",
    "    plt.show()\n",
    "\n",
    "# Plot residuals against numerical variables\n",
    "plot_residuals(data[\"area\"], r_H04, \"Area\")\n",
    "plot_residuals(data[\"age\"], r_H04, \"Age\")\n",
    "plot_residuals(data[\"rooms\"], r_H04, \"Rooms\")"
   ]
  },
  {
   "cell_type": "code",
   "execution_count": null,
   "id": "820df622-27cd-4551-a0eb-0665a76a0dc7",
   "metadata": {},
   "outputs": [],
   "source": []
  },
  {
   "cell_type": "code",
   "execution_count": null,
   "id": "289df786-0a9a-4f69-8028-06e402fb795b",
   "metadata": {},
   "outputs": [],
   "source": []
  },
  {
   "cell_type": "code",
   "execution_count": null,
   "id": "e459ae18-2306-426a-8a33-8c4f09db59f2",
   "metadata": {},
   "outputs": [],
   "source": []
  },
  {
   "cell_type": "code",
   "execution_count": null,
   "id": "85c3e88a-9b39-4286-a6a9-089b1307fc83",
   "metadata": {},
   "outputs": [],
   "source": []
  },
  {
   "cell_type": "code",
   "execution_count": null,
   "id": "3a8b8489-0581-4e06-b887-0da3ebcb2831",
   "metadata": {},
   "outputs": [],
   "source": []
  },
  {
   "cell_type": "code",
   "execution_count": null,
   "id": "d1cfd48a-b907-4544-8c42-f41484be9976",
   "metadata": {},
   "outputs": [],
   "source": []
  },
  {
   "cell_type": "code",
   "execution_count": null,
   "id": "178865ba-24a8-43b7-8461-aa37243cb82b",
   "metadata": {},
   "outputs": [],
   "source": []
  },
  {
   "cell_type": "code",
   "execution_count": null,
   "id": "ec91df80-e9e3-4227-8011-5fa6c699c7ee",
   "metadata": {},
   "outputs": [],
   "source": []
  },
  {
   "cell_type": "code",
   "execution_count": null,
   "id": "ea62764f-45f3-493d-93f6-96db3ab66e92",
   "metadata": {},
   "outputs": [],
   "source": []
  },
  {
   "cell_type": "code",
   "execution_count": null,
   "id": "db5ef938-b5cc-4007-904b-6d020b896fb7",
   "metadata": {},
   "outputs": [],
   "source": []
  },
  {
   "cell_type": "code",
   "execution_count": null,
   "id": "f3684cec-5424-4315-a8a8-7f3ba31fb228",
   "metadata": {},
   "outputs": [],
   "source": []
  },
  {
   "cell_type": "code",
   "execution_count": null,
   "id": "85b71e85-0db0-46c2-a14e-72472336d30a",
   "metadata": {},
   "outputs": [],
   "source": []
  },
  {
   "cell_type": "code",
   "execution_count": null,
   "id": "a8420735-fd04-4af9-9460-28760e740d2e",
   "metadata": {},
   "outputs": [],
   "source": []
  },
  {
   "cell_type": "code",
   "execution_count": null,
   "id": "da242b45-3b41-465b-a989-27722f103b7b",
   "metadata": {},
   "outputs": [],
   "source": []
  },
  {
   "cell_type": "code",
   "execution_count": null,
   "id": "b8f334a4-2981-4439-84c1-c14a6c9e0e29",
   "metadata": {},
   "outputs": [],
   "source": []
  },
  {
   "cell_type": "code",
   "execution_count": null,
   "id": "124b582a-0ab1-4f82-8264-3b2abe354f69",
   "metadata": {},
   "outputs": [],
   "source": []
  }
 ],
 "metadata": {
  "kernelspec": {
   "display_name": "Python 3 (ipykernel)",
   "language": "python",
   "name": "python3"
  },
  "language_info": {
   "codemirror_mode": {
    "name": "ipython",
    "version": 3
   },
   "file_extension": ".py",
   "mimetype": "text/x-python",
   "name": "python",
   "nbconvert_exporter": "python",
   "pygments_lexer": "ipython3",
   "version": "3.12.0"
  }
 },
 "nbformat": 4,
 "nbformat_minor": 5
}
