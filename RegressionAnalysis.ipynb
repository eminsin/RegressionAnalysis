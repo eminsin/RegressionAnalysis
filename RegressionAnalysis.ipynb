{
 "cells": [
  {
   "cell_type": "code",
   "execution_count": 79,
   "id": "249872e2-17a1-4e17-a303-3d209263e308",
   "metadata": {},
   "outputs": [],
   "source": [
    "import pandas as pd\n",
    "import numpy as np\n",
    "import statsmodels.api as sm\n",
    "from statsmodels.stats.outliers_influence import variance_inflation_factor\n",
    "import statsmodels.formula.api as smf\n",
    "import matplotlib.pyplot as plt\n",
    "from sklearn.model_selection import LeaveOneOut, train_test_split\n",
    "from sklearn.metrics import mean_squared_error"
   ]
  },
  {
   "cell_type": "code",
   "execution_count": 122,
   "id": "1c270453-2f8a-40a6-b910-3be51a5fbcf4",
   "metadata": {},
   "outputs": [],
   "source": [
    "# Step 1: Data Preparation\n",
    "# Load dataset\n",
    "data = pd.read_csv('biele_WM_new.csv')"
   ]
  },
  {
   "cell_type": "code",
   "execution_count": 123,
   "id": "0e342884-81da-4f7a-a7b7-d797f7074224",
   "metadata": {},
   "outputs": [],
   "source": [
    "# Select relevant variables and update original dataset to data\n",
    "columns = [\"mietekalt\", \"qm_Preis\", \"wohnflaeche\", \"alter\", \"objektzustand\", \"zimmeranzahl\", \"balkon\", \"einbaukueche\", \"keller\", \"ausstattung_kat\", \"aufzug\", \"gaestewc\", \"garten\", \"heizungsart\", \"barrierefrei\", \"Einstellungsmonat\"]\n",
    "data = data[columns]"
   ]
  },
  {
   "cell_type": "code",
   "execution_count": 124,
   "id": "df914480-7b8d-4315-b5b4-cf2b4ad2eb01",
   "metadata": {},
   "outputs": [],
   "source": [
    "# Rename variables for clarity\n",
    "data.rename(columns = {'mietekalt': 'netrent', \n",
    "                     'qm_Preis': 'rent_per_sqm', \n",
    "                     'wohnflaeche': 'area', \n",
    "                     'alter': 'age', \n",
    "                     'objektzustand': 'condition_cat', \n",
    "                     'zimmeranzahl': 'rooms', \n",
    "                     'balkon': 'balcony', \n",
    "                     'einbaukueche': 'kitchen', \n",
    "                     'keller': 'basement', \n",
    "                     'ausstattung_kat': 'appointments_cat', \n",
    "                     'aufzug': 'lift', \n",
    "                     'gaestewc': 'guesttoilet', \n",
    "                     'garten': 'garden', \n",
    "                     'heizungsart': 'heating_cat', \n",
    "                     'barrierefrei': 'barrierfree', \n",
    "                     'Einstellungsmonat': 'month'}, inplace= True)"
   ]
  },
  {
   "cell_type": "code",
   "execution_count": 125,
   "id": "585a95b1-a891-492e-ab46-2956a85cafbf",
   "metadata": {},
   "outputs": [],
   "source": [
    "# Drop rows with missing values\n",
    "data = data.dropna()"
   ]
  },
  {
   "cell_type": "code",
   "execution_count": 126,
   "id": "723fe5cc-a656-4768-b3c5-b03bd44a4bf3",
   "metadata": {},
   "outputs": [],
   "source": [
    "# Encode categorical variables\n",
    "data = pd.get_dummies(data,\n",
    "                      columns = ['condition_cat', 'appointments_cat', 'heating_cat', 'month'],\n",
    "                      drop_first = True, dtype = int)"
   ]
  },
  {
   "cell_type": "code",
   "execution_count": 114,
   "id": "43461796-3dfe-4c9a-b78b-712b53ec101c",
   "metadata": {},
   "outputs": [],
   "source": [
    "# Convert all boolean columns to integers\n",
    "# bool_cols = data.select_dtypes(include=['bool']).columns\n",
    "# data[bool_cols] = data[bool_cols].astype(int)"
   ]
  },
  {
   "cell_type": "code",
   "execution_count": 127,
   "id": "67306de2-9f60-455c-a609-7c10aad75384",
   "metadata": {},
   "outputs": [],
   "source": [
    "# Define dependent and independent variables\n",
    "dependent_var = 'netrent'\n",
    "independent_vars = [col for col in data.columns if col != dependent_var]"
   ]
  },
  {
   "cell_type": "code",
   "execution_count": 128,
   "id": "ddf77dcb-f4d0-460e-bc39-109c12fe105f",
   "metadata": {},
   "outputs": [],
   "source": [
    "# Split data into training and test sets\n",
    "train_data, test_data = train_test_split(data, test_size = 0.2, random_state = 42)"
   ]
  },
  {
   "cell_type": "code",
   "execution_count": 129,
   "id": "8ec2cd31-3a98-4e01-b452-fbd29e1dc734",
   "metadata": {},
   "outputs": [],
   "source": [
    "# Fit the linear regression model\n",
    "X_train = train_data[independent_vars]\n",
    "y_train = train_data[dependent_var]\n",
    "X_train = sm.add_constant(X_train)\n",
    "model = sm.OLS(y_train, X_train).fit()"
   ]
  },
  {
   "cell_type": "code",
   "execution_count": 133,
   "id": "b8635baa-bf47-4b09-8cc6-a29cf93a3b0f",
   "metadata": {},
   "outputs": [
    {
     "name": "stdout",
     "output_type": "stream",
     "text": [
      "Mean Squared Error: 2423.918056286244\n",
      "                            OLS Regression Results                            \n",
      "==============================================================================\n",
      "Dep. Variable:                netrent   R-squared:                       0.958\n",
      "Model:                            OLS   Adj. R-squared:                  0.957\n",
      "Method:                 Least Squares   F-statistic:                     999.4\n",
      "Date:                Sun, 12 Jan 2025   Prob (F-statistic):               0.00\n",
      "Time:                        19:02:00   Log-Likelihood:                -10038.\n",
      "No. Observations:                1896   AIC:                         2.016e+04\n",
      "Df Residuals:                    1853   BIC:                         2.040e+04\n",
      "Df Model:                          42                                         \n",
      "Covariance Type:            nonrobust                                         \n",
      "======================================================================================\n",
      "                         coef    std err          t      P>|t|      [0.025      0.975]\n",
      "--------------------------------------------------------------------------------------\n",
      "const               -513.8381     19.606    -26.208      0.000    -552.291    -475.385\n",
      "rent_per_sqm          59.7462      0.752     79.439      0.000      58.271      61.221\n",
      "area                   8.5434      0.087     98.134      0.000       8.373       8.714\n",
      "age                    0.0609      0.044      1.384      0.166      -0.025       0.147\n",
      "rooms                 -1.8514      2.217     -0.835      0.404      -6.199       2.496\n",
      "balcony               -1.0055      2.862     -0.351      0.725      -6.618       4.607\n",
      "kitchen               -4.8048      2.639     -1.820      0.069      -9.981       0.372\n",
      "basement               7.1125      2.670      2.664      0.008       1.877      12.348\n",
      "lift                  12.9675      3.641      3.561      0.000       5.826      20.109\n",
      "guesttoilet           -0.6171      3.603     -0.171      0.864      -7.683       6.449\n",
      "garden               -10.7833      2.920     -3.693      0.000     -16.510      -5.056\n",
      "barrierfree           -0.7381      4.558     -0.162      0.871      -9.678       8.202\n",
      "condition_cat_2.0    -38.4965      7.266     -5.298      0.000     -52.747     -24.246\n",
      "condition_cat_3.0    -23.8775      5.881     -4.060      0.000     -35.412     -12.343\n",
      "condition_cat_4.0    -49.3434      8.512     -5.797      0.000     -66.038     -32.649\n",
      "condition_cat_5.0    -32.2817      7.038     -4.587      0.000     -46.085     -18.478\n",
      "condition_cat_6.0    -36.9274      6.708     -5.505      0.000     -50.084     -23.771\n",
      "condition_cat_7.0    -37.3760      6.260     -5.970      0.000     -49.654     -25.098\n",
      "condition_cat_8.0    -27.2698     16.202     -1.683      0.093     -59.046       4.507\n",
      "appointments_cat_1    -3.9979      2.945     -1.358      0.175      -9.773       1.777\n",
      "appointments_cat_2     8.8213      3.539      2.493      0.013       1.880      15.762\n",
      "heating_cat_2.0      -23.6366     27.748     -0.852      0.394     -78.057      30.784\n",
      "heating_cat_3.0       22.4679     16.940      1.326      0.185     -10.755      55.691\n",
      "heating_cat_4.0       24.2450     16.797      1.443      0.149      -8.698      57.188\n",
      "heating_cat_5.0       25.9383     16.833      1.541      0.124      -7.076      58.953\n",
      "heating_cat_6.0       21.3504     16.861      1.266      0.206     -11.719      54.420\n",
      "heating_cat_7.0       66.5708     29.639      2.246      0.025       8.441     124.701\n",
      "heating_cat_8.0       25.0418     29.586      0.846      0.397     -32.983      83.067\n",
      "heating_cat_10.0      24.6278     18.147      1.357      0.175     -10.963      60.218\n",
      "heating_cat_11.0      85.0670     51.888      1.639      0.101     -16.699     186.833\n",
      "heating_cat_12.0      10.1250     18.757      0.540      0.589     -26.662      46.912\n",
      "heating_cat_13.0      17.5885     16.640      1.057      0.291     -15.046      50.223\n",
      "month_2                7.5954      5.482      1.385      0.166      -3.157      18.348\n",
      "month_3                5.3103      5.515      0.963      0.336      -5.505      16.126\n",
      "month_4                3.2297      5.679      0.569      0.570      -7.909      14.369\n",
      "month_5                9.1674      6.396      1.433      0.152      -3.377      21.712\n",
      "month_6               -0.2359      5.583     -0.042      0.966     -11.186      10.714\n",
      "month_7                2.1434      4.964      0.432      0.666      -7.592      11.879\n",
      "month_8               -4.9931      5.517     -0.905      0.366     -15.813       5.827\n",
      "month_9                5.8061      5.473      1.061      0.289      -4.927      16.539\n",
      "month_10               2.8931      5.489      0.527      0.598      -7.872      13.659\n",
      "month_11               0.1132      5.492      0.021      0.984     -10.658      10.884\n",
      "month_12              -2.5477      5.530     -0.461      0.645     -13.393       8.298\n",
      "==============================================================================\n",
      "Omnibus:                      670.554   Durbin-Watson:                   2.023\n",
      "Prob(Omnibus):                  0.000   Jarque-Bera (JB):             7202.547\n",
      "Skew:                          -1.345   Prob(JB):                         0.00\n",
      "Kurtosis:                      12.162   Cond. No.                     5.02e+03\n",
      "==============================================================================\n",
      "\n",
      "Notes:\n",
      "[1] Standard Errors assume that the covariance matrix of the errors is correctly specified.\n",
      "[2] The condition number is large, 5.02e+03. This might indicate that there are\n",
      "strong multicollinearity or other numerical problems.\n"
     ]
    }
   ],
   "source": [
    "# Evaluate the model\n",
    "X_test = test_data[independent_vars]\n",
    "y_test = test_data[dependent_var]\n",
    "X_test = sm.add_constant(X_test)\n",
    "y_pred = model.predict(X_test)\n",
    "\n",
    "mse = mean_squared_error(y_test, y_pred)\n",
    "print('Mean Squared Error:', mse)\n",
    "print(model.summary())"
   ]
  },
  {
   "cell_type": "code",
   "execution_count": null,
   "id": "f05badcd-8d78-4345-a1c2-c0fbea55337d",
   "metadata": {},
   "outputs": [],
   "source": []
  },
  {
   "cell_type": "code",
   "execution_count": 134,
   "id": "faa5a32b-9cb9-4047-a59b-a80dca2c2a58",
   "metadata": {},
   "outputs": [
    {
     "name": "stdout",
     "output_type": "stream",
     "text": [
      "               feature         VIF\n",
      "0                const  306.717906\n",
      "1         rent_per_sqm    1.674070\n",
      "2                 area    3.470259\n",
      "3                  age    1.725567\n",
      "4                rooms    3.010518\n",
      "5              balcony    1.322052\n",
      "6              kitchen    1.256021\n",
      "7             basement    1.153164\n",
      "8                 lift    1.731689\n",
      "9          guesttoilet    1.431099\n",
      "10              garden    1.134603\n",
      "11         barrierfree    1.734035\n",
      "12   condition_cat_2.0    2.243021\n",
      "13   condition_cat_3.0    2.592412\n",
      "14   condition_cat_4.0    1.857249\n",
      "15   condition_cat_5.0    3.530378\n",
      "16   condition_cat_6.0    3.580483\n",
      "17   condition_cat_7.0    7.815057\n",
      "18   condition_cat_8.0    1.208144\n",
      "19  appointments_cat_1    1.512348\n",
      "20  appointments_cat_2    2.128014\n",
      "21     heating_cat_2.0    1.615827\n",
      "22     heating_cat_3.0   25.852799\n",
      "23     heating_cat_4.0   25.856335\n",
      "24     heating_cat_5.0   17.865142\n",
      "25     heating_cat_6.0   23.083291\n",
      "26     heating_cat_7.0    1.475653\n",
      "27     heating_cat_8.0    1.470334\n",
      "28    heating_cat_10.0    5.956186\n",
      "29    heating_cat_11.0    1.132443\n",
      "30    heating_cat_12.0    4.371358\n",
      "31    heating_cat_13.0   55.180698\n",
      "32             month_2    1.831917\n",
      "33             month_3    1.810875\n",
      "34             month_4    1.736926\n",
      "35             month_5    1.507125\n",
      "36             month_6    1.790066\n",
      "37             month_7    2.273501\n",
      "38             month_8    1.822905\n",
      "39             month_9    1.846390\n",
      "40            month_10    1.857566\n",
      "41            month_11    1.880545\n",
      "42            month_12    1.810002\n"
     ]
    }
   ],
   "source": [
    "# Check multicollinearity using VIF\n",
    "vif_data = pd.DataFrame()\n",
    "vif_data['feature'] = X_train.columns\n",
    "vif_data['VIF'] = [variance_inflation_factor(X_train.values, i) for i in range(X_train.shape[1])]\n",
    "print(vif_data)"
   ]
  },
  {
   "cell_type": "code",
   "execution_count": null,
   "id": "14a4230d-fe84-4f4e-abc3-5318173947d3",
   "metadata": {},
   "outputs": [],
   "source": []
  },
  {
   "cell_type": "code",
   "execution_count": null,
   "id": "24bb7489-bfe3-478b-b9b6-b8d45012513e",
   "metadata": {},
   "outputs": [],
   "source": []
  },
  {
   "cell_type": "code",
   "execution_count": null,
   "id": "41360759-f512-4364-a97d-402232122201",
   "metadata": {},
   "outputs": [],
   "source": []
  },
  {
   "cell_type": "code",
   "execution_count": null,
   "id": "838baa02-f492-47ed-9b98-8da5defcbb99",
   "metadata": {},
   "outputs": [],
   "source": []
  },
  {
   "cell_type": "code",
   "execution_count": null,
   "id": "8b618e53-fdcb-49c9-90da-12883693b966",
   "metadata": {},
   "outputs": [],
   "source": []
  },
  {
   "cell_type": "code",
   "execution_count": null,
   "id": "595f1edd-1c89-4f83-b87c-477aab15eb13",
   "metadata": {},
   "outputs": [],
   "source": []
  },
  {
   "cell_type": "code",
   "execution_count": null,
   "id": "46157b65-6406-44b7-968c-c29cf0be15e7",
   "metadata": {},
   "outputs": [],
   "source": []
  },
  {
   "cell_type": "code",
   "execution_count": null,
   "id": "5e6bb07d-ee9a-4a83-bd5b-08b20780cd9f",
   "metadata": {},
   "outputs": [],
   "source": []
  },
  {
   "cell_type": "code",
   "execution_count": null,
   "id": "c7681088-2e3f-400b-a33b-41ac70dc9c27",
   "metadata": {},
   "outputs": [],
   "source": []
  },
  {
   "cell_type": "code",
   "execution_count": null,
   "id": "0f3c100e-2d6e-4d07-a6de-8e4a33918a48",
   "metadata": {},
   "outputs": [],
   "source": []
  },
  {
   "cell_type": "code",
   "execution_count": null,
   "id": "1749414d-b39b-4374-909c-89daf29c2fca",
   "metadata": {},
   "outputs": [],
   "source": []
  },
  {
   "cell_type": "code",
   "execution_count": null,
   "id": "50c9aa9f-8513-4a84-912f-93e410afdcea",
   "metadata": {},
   "outputs": [],
   "source": []
  }
 ],
 "metadata": {
  "kernelspec": {
   "display_name": "Python 3 (ipykernel)",
   "language": "python",
   "name": "python3"
  },
  "language_info": {
   "codemirror_mode": {
    "name": "ipython",
    "version": 3
   },
   "file_extension": ".py",
   "mimetype": "text/x-python",
   "name": "python",
   "nbconvert_exporter": "python",
   "pygments_lexer": "ipython3",
   "version": "3.12.0"
  }
 },
 "nbformat": 4,
 "nbformat_minor": 5
}
