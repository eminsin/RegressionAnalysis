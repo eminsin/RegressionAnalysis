{
 "cells": [
  {
   "cell_type": "code",
   "execution_count": 97,
   "id": "69ec5974-0435-4751-86d8-2b3fa98dcb66",
   "metadata": {},
   "outputs": [],
   "source": [
    "### WILL BE NEEDED LATER\n",
    "\n",
    "## Split data into training and test sets\n",
    "# train_data, test_data = train_test_split(data, test_size = 0.2, random_state = 42)\n",
    "# X_train = train_data[independent_vars]\n",
    "# y_train = train_data[dependent_var]\n",
    "\n",
    "## Evaluate the model\n",
    "# X_test = test_data[independent_vars]\n",
    "# y_test = test_data[dependent_var]\n",
    "# X_test = sm.add_constant(X_test)\n",
    "# y_pred = model.predict(X_test)\n",
    "# mse = mean_squared_error(y_test, y_pred)\n",
    "# print('Mean Squared Error:', mse)\n",
    "\n",
    "## Check multicollinearity using VIF\n",
    "# vif_data = pd.DataFrame()\n",
    "# vif_data['feature'] = X_train.columns\n",
    "# vif_data['VIF'] = [variance_inflation_factor(X_train.values, i) for i in range(X_train.shape[1])]\n",
    "# print(vif_data)"
   ]
  },
  {
   "cell_type": "code",
   "execution_count": 98,
   "id": "249872e2-17a1-4e17-a303-3d209263e308",
   "metadata": {},
   "outputs": [],
   "source": [
    "import pandas as pd\n",
    "import numpy as np\n",
    "import statsmodels.api as sm\n",
    "from statsmodels.stats.outliers_influence import variance_inflation_factor\n",
    "import statsmodels.formula.api as smf\n",
    "import matplotlib.pyplot as plt\n",
    "from sklearn.model_selection import LeaveOneOut, train_test_split\n",
    "from sklearn.metrics import mean_squared_error\n",
    "from scipy.stats import f"
   ]
  },
  {
   "cell_type": "code",
   "execution_count": 99,
   "id": "1c270453-2f8a-40a6-b910-3be51a5fbcf4",
   "metadata": {},
   "outputs": [],
   "source": [
    "# Step 1: Data Preparation\n",
    "# Load dataset\n",
    "data = pd.read_csv('biele_WM_new.csv')"
   ]
  },
  {
   "cell_type": "code",
   "execution_count": 100,
   "id": "0e342884-81da-4f7a-a7b7-d797f7074224",
   "metadata": {},
   "outputs": [],
   "source": [
    "# Select relevant variables and update original dataset to data\n",
    "columns = [\"mietekalt\", \"qm_Preis\", \"wohnflaeche\", \"alter\", \"objektzustand\", \"zimmeranzahl\", \n",
    "           \"balkon\", \"einbaukueche\", \"keller\", \"ausstattung_kat\", \"aufzug\", \"gaestewc\", \n",
    "           \"garten\", \"heizungsart\", \"barrierefrei\", \"Einstellungsmonat\"]\n",
    "data = data[columns]"
   ]
  },
  {
   "cell_type": "code",
   "execution_count": 101,
   "id": "df914480-7b8d-4315-b5b4-cf2b4ad2eb01",
   "metadata": {},
   "outputs": [],
   "source": [
    "# Rename variables for clarity\n",
    "data.rename(columns = {'mietekalt': 'netrent', \n",
    "                     'qm_Preis': 'rent_per_sqm', \n",
    "                     'wohnflaeche': 'area', \n",
    "                     'alter': 'age', \n",
    "                     'objektzustand': 'condition_cat', \n",
    "                     'zimmeranzahl': 'rooms', \n",
    "                     'balkon': 'balcony', \n",
    "                     'einbaukueche': 'kitchen', \n",
    "                     'keller': 'basement', \n",
    "                     'ausstattung_kat': 'appointments_cat', \n",
    "                     'aufzug': 'lift', \n",
    "                     'gaestewc': 'guesttoilet', \n",
    "                     'garten': 'garden', \n",
    "                     'heizungsart': 'heating_cat', \n",
    "                     'barrierefrei': 'barrierfree', \n",
    "                     'Einstellungsmonat': 'month'}, inplace= True)"
   ]
  },
  {
   "cell_type": "code",
   "execution_count": 102,
   "id": "585a95b1-a891-492e-ab46-2956a85cafbf",
   "metadata": {},
   "outputs": [],
   "source": [
    "# Drop rows with missing values\n",
    "data = data.dropna()"
   ]
  },
  {
   "cell_type": "code",
   "execution_count": 103,
   "id": "723fe5cc-a656-4768-b3c5-b03bd44a4bf3",
   "metadata": {},
   "outputs": [],
   "source": [
    "# Encode categorical variables\n",
    "data = pd.get_dummies(data,\n",
    "                      columns = ['condition_cat', 'appointments_cat', 'heating_cat', 'month'],\n",
    "                      drop_first = True, dtype = int)"
   ]
  },
  {
   "cell_type": "code",
   "execution_count": 104,
   "id": "67306de2-9f60-455c-a609-7c10aad75384",
   "metadata": {},
   "outputs": [],
   "source": [
    "# Define dependent and independent variables\n",
    "dependent_var = 'netrent'\n",
    "independent_vars = [col for col in data.columns if col != dependent_var]"
   ]
  },
  {
   "cell_type": "code",
   "execution_count": null,
   "id": "0373ea8f-7f3b-4451-a07e-4d189556fcdf",
   "metadata": {},
   "outputs": [],
   "source": []
  },
  {
   "cell_type": "markdown",
   "id": "c3422792-3d73-4a5c-bfd8-65e00e00ff8a",
   "metadata": {},
   "source": [
    "# MODEL WITH statsmodels"
   ]
  },
  {
   "cell_type": "code",
   "execution_count": null,
   "id": "ddf77dcb-f4d0-460e-bc39-109c12fe105f",
   "metadata": {},
   "outputs": [],
   "source": []
  },
  {
   "cell_type": "code",
   "execution_count": 105,
   "id": "a837fb5d-50c7-4975-8234-98ce24855f15",
   "metadata": {},
   "outputs": [],
   "source": [
    "# Fit the linear regression model\n",
    "X = data[independent_vars]\n",
    "y = data[dependent_var]\n",
    "X = sm.add_constant(X)\n",
    "model = sm.OLS(y, X).fit()"
   ]
  },
  {
   "cell_type": "code",
   "execution_count": 106,
   "id": "742ec78d-a3e1-4fea-a377-17945183c0f7",
   "metadata": {
    "scrolled": true
   },
   "outputs": [
    {
     "name": "stdout",
     "output_type": "stream",
     "text": [
      "                            OLS Regression Results                            \n",
      "==============================================================================\n",
      "Dep. Variable:                netrent   R-squared:                       0.959\n",
      "Model:                            OLS   Adj. R-squared:                  0.959\n",
      "Method:                 Least Squares   F-statistic:                     1311.\n",
      "Date:                Fri, 17 Jan 2025   Prob (F-statistic):               0.00\n",
      "Time:                        16:57:57   Log-Likelihood:                -12554.\n",
      "No. Observations:                2371   AIC:                         2.519e+04\n",
      "Df Residuals:                    2328   BIC:                         2.544e+04\n",
      "Df Model:                          42                                         \n",
      "Covariance Type:            nonrobust                                         \n",
      "======================================================================================\n",
      "                         coef    std err          t      P>|t|      [0.025      0.975]\n",
      "--------------------------------------------------------------------------------------\n",
      "const               -523.9484     17.766    -29.492      0.000    -558.787    -489.110\n",
      "rent_per_sqm          61.0659      0.673     90.795      0.000      59.747      62.385\n",
      "area                   8.5932      0.077    111.813      0.000       8.443       8.744\n",
      "age                    0.0554      0.039      1.424      0.155      -0.021       0.132\n",
      "rooms                 -2.5447      1.967     -1.294      0.196      -6.401       1.312\n",
      "balcony               -0.8065      2.556     -0.316      0.752      -5.819       4.206\n",
      "kitchen               -2.7022      2.346     -1.152      0.250      -7.303       1.899\n",
      "basement               7.9840      2.394      3.335      0.001       3.289      12.679\n",
      "lift                  12.6679      3.269      3.875      0.000       6.257      19.079\n",
      "guesttoilet           -2.4151      3.222     -0.750      0.454      -8.734       3.904\n",
      "garden                -6.9062      2.570     -2.687      0.007     -11.946      -1.866\n",
      "barrierfree           -0.5814      4.050     -0.144      0.886      -8.523       7.361\n",
      "condition_cat_2.0    -37.2479      6.520     -5.713      0.000     -50.033     -24.462\n",
      "condition_cat_3.0    -18.5609      5.303     -3.500      0.000     -28.960      -8.162\n",
      "condition_cat_4.0    -48.3965      7.632     -6.341      0.000     -63.362     -33.431\n",
      "condition_cat_5.0    -32.0320      6.302     -5.083      0.000     -44.389     -19.675\n",
      "condition_cat_6.0    -34.0961      5.991     -5.691      0.000     -45.845     -22.347\n",
      "condition_cat_7.0    -36.1420      5.628     -6.422      0.000     -47.178     -25.106\n",
      "condition_cat_8.0    -26.8937     13.881     -1.937      0.053     -54.114       0.327\n",
      "appointments_cat_1    -4.3590      2.596     -1.679      0.093      -9.450       0.732\n",
      "appointments_cat_2     4.5001      3.129      1.438      0.151      -1.636      10.636\n",
      "heating_cat_2.0       -8.9567     23.925     -0.374      0.708     -55.873      37.960\n",
      "heating_cat_3.0       21.4117     15.308      1.399      0.162      -8.607      51.431\n",
      "heating_cat_4.0       21.3355     15.187      1.405      0.160      -8.447      51.118\n",
      "heating_cat_5.0       26.3117     15.222      1.729      0.084      -3.539      56.162\n",
      "heating_cat_6.0       17.9558     15.222      1.180      0.238     -11.894      47.805\n",
      "heating_cat_7.0       62.9993     28.739      2.192      0.028       6.642     119.356\n",
      "heating_cat_8.0       13.4672     26.483      0.509      0.611     -38.466      65.401\n",
      "heating_cat_10.0      20.1176     16.477      1.221      0.222     -12.193      52.429\n",
      "heating_cat_11.0      74.5776     51.175      1.457      0.145     -25.776     174.931\n",
      "heating_cat_12.0       9.0923     17.042      0.534      0.594     -24.326      42.511\n",
      "heating_cat_13.0      16.4397     15.041      1.093      0.275     -13.056      45.935\n",
      "month_2                5.7846      4.891      1.183      0.237      -3.806      15.375\n",
      "month_3                4.1899      4.846      0.865      0.387      -5.313      13.692\n",
      "month_4                1.9057      5.028      0.379      0.705      -7.953      11.765\n",
      "month_5                5.5262      5.815      0.950      0.342      -5.877      16.930\n",
      "month_6                0.2912      4.931      0.059      0.953      -9.378       9.961\n",
      "month_7                1.0635      4.298      0.247      0.805      -7.365       9.492\n",
      "month_8               -5.5169      4.867     -1.134      0.257     -15.060       4.027\n",
      "month_9                3.0577      4.804      0.637      0.525      -6.363      12.478\n",
      "month_10              -0.2000      4.831     -0.041      0.967      -9.673       9.273\n",
      "month_11              -1.9513      4.808     -0.406      0.685     -11.379       7.476\n",
      "month_12              -2.5219      4.847     -0.520      0.603     -12.027       6.983\n",
      "==============================================================================\n",
      "Omnibus:                      804.978   Durbin-Watson:                   1.983\n",
      "Prob(Omnibus):                  0.000   Jarque-Bera (JB):            10636.982\n",
      "Skew:                          -1.223   Prob(JB):                         0.00\n",
      "Kurtosis:                      13.084   Cond. No.                     5.23e+03\n",
      "==============================================================================\n",
      "\n",
      "Notes:\n",
      "[1] Standard Errors assume that the covariance matrix of the errors is correctly specified.\n",
      "[2] The condition number is large, 5.23e+03. This might indicate that there are\n",
      "strong multicollinearity or other numerical problems.\n"
     ]
    }
   ],
   "source": [
    "print(model.summary())"
   ]
  },
  {
   "cell_type": "code",
   "execution_count": null,
   "id": "14a4230d-fe84-4f4e-abc3-5318173947d3",
   "metadata": {},
   "outputs": [],
   "source": []
  },
  {
   "cell_type": "markdown",
   "id": "0f5add1d-e8b9-4bb6-9828-6feb3ad6712d",
   "metadata": {},
   "source": [
    "# MODEL BY HAND"
   ]
  },
  {
   "cell_type": "code",
   "execution_count": null,
   "id": "dda29bdd-138e-4150-a3af-a4f3c94193ee",
   "metadata": {},
   "outputs": [],
   "source": []
  },
  {
   "cell_type": "code",
   "execution_count": 107,
   "id": "41360759-f512-4364-a97d-402232122201",
   "metadata": {},
   "outputs": [],
   "source": [
    "# Extract values of dependent and independent variables\n",
    "X_val = data[independent_vars].values\n",
    "y_val = data[dependent_var].values"
   ]
  },
  {
   "cell_type": "code",
   "execution_count": 108,
   "id": "838baa02-f492-47ed-9b98-8da5defcbb99",
   "metadata": {},
   "outputs": [],
   "source": [
    "# Add intercept\n",
    "intercept = np.ones((X_val.shape[0], 1))             # Create a column of ones\n",
    "X_with_intercept = np.hstack((intercept, X_val))     # Combine intercept with X"
   ]
  },
  {
   "cell_type": "code",
   "execution_count": 109,
   "id": "7b185aad-efe5-45b9-882c-86b1f4e47047",
   "metadata": {},
   "outputs": [],
   "source": [
    "# X_1: Design matrix (including intercept column)\n",
    "# y_1: Dependent variable (netrent)\n",
    "X_1 = np.array(X_with_intercept)\n",
    "y_1 = np.array(y_val)\n",
    "\n",
    "# Estimate beta_hat\n",
    "beta_hat_1 = np.linalg.inv(X_1.T @ X_1) @ X_1.T @ y_1\n",
    "\n",
    "# Compute the hat matrix (H)\n",
    "H_1 = X_1 @ np.linalg.inv(X_1.T @ X_1) @ X_1.T\n",
    "\n",
    "# Residuals (epsilon_hat)\n",
    "epsilon_hat_1 = (np.eye(len(y_1)) - H_1) @ y_1\n",
    "\n",
    "# Fitted values (y_hat)\n",
    "y_hat_1 = H_1 @ y_1\n",
    "\n",
    "# Estimate sigma^2 (residual variance)\n",
    "n, k = X_1.shape\n",
    "sigma2_hat_1 = (1 / (n - k)) * (epsilon_hat_1.T @ epsilon_hat_1)\n",
    "\n",
    "# Covariance matrix of beta_hat\n",
    "Cov_beta_hat_1 = sigma2_hat_1 * np.linalg.inv(X_1.T @ X_1)\n",
    "\n",
    "# Standard errors of beta_hat\n",
    "sd_beta_hat_1 = np.sqrt(np.diag(Cov_beta_hat_1))"
   ]
  },
  {
   "cell_type": "code",
   "execution_count": 110,
   "id": "d2fd1a04-5feb-4493-9ba8-f3694b207e50",
   "metadata": {
    "scrolled": true
   },
   "outputs": [
    {
     "name": "stdout",
     "output_type": "stream",
     "text": [
      "Beta_hat: [-5.23948384e+02  6.10658948e+01  8.59321431e+00  5.53620883e-02\n",
      " -2.54468096e+00 -8.06528052e-01 -2.70222358e+00  7.98397364e+00\n",
      "  1.26679156e+01 -2.41513406e+00 -6.90621988e+00 -5.81377010e-01\n",
      " -3.72479491e+01 -1.85609140e+01 -4.83964599e+01 -3.20319804e+01\n",
      " -3.40961045e+01 -3.61420108e+01 -2.68937018e+01 -4.35903126e+00\n",
      "  4.50005655e+00 -8.95673158e+00  2.14116961e+01  2.13354685e+01\n",
      "  2.63116797e+01  1.79557514e+01  6.29993033e+01  1.34671687e+01\n",
      "  2.01176338e+01  7.45775517e+01  9.09234023e+00  1.64397137e+01\n",
      "  5.78458433e+00  4.18994603e+00  1.90566502e+00  5.52617826e+00\n",
      "  2.91243946e-01  1.06345318e+00 -5.51686719e+00  3.05773568e+00\n",
      " -1.99978245e-01 -1.95134315e+00 -2.52185488e+00]\n",
      "Residual variance (sigma^2): 2368.123936743671\n",
      "Covariance matrix of beta_hat:\n",
      " [[ 3.15628328e+02 -4.43861665e+00 -8.02369551e-02 ... -1.33214374e+01\n",
      "  -9.85959626e+00 -8.62537925e+00]\n",
      " [-4.43861665e+00  4.52350495e-01  5.24957574e-03 ... -1.24591685e-01\n",
      "  -1.57741243e-01 -1.69724940e-01]\n",
      " [-8.02369551e-02  5.24957574e-03  5.90644781e-03 ... -5.35022891e-03\n",
      "  -1.02980527e-02 -9.68621326e-03]\n",
      " ...\n",
      " [-1.33214374e+01 -1.24591685e-01 -5.35022891e-03 ...  2.33375307e+01\n",
      "   1.12228940e+01  1.11180977e+01]\n",
      " [-9.85959626e+00 -1.57741243e-01 -1.02980527e-02 ...  1.12228940e+01\n",
      "   2.31133799e+01  1.12622591e+01]\n",
      " [-8.62537925e+00 -1.69724940e-01 -9.68621326e-03 ...  1.11180977e+01\n",
      "   1.12622591e+01  2.34955628e+01]]\n",
      "Standard errors of beta_hat: [1.77659317e+01 6.72570067e-01 7.68534177e-02 3.88760999e-02\n",
      " 1.96650163e+00 2.55602006e+00 2.34629155e+00 2.39399728e+00\n",
      " 3.26933778e+00 3.22221477e+00 2.57011940e+00 4.04995255e+00\n",
      " 6.51996804e+00 5.30297940e+00 7.63176418e+00 6.30156122e+00\n",
      " 5.99146936e+00 5.62759883e+00 1.38809005e+01 2.59593010e+00\n",
      " 3.12892417e+00 2.39250281e+01 1.53082125e+01 1.51873367e+01\n",
      " 1.52220514e+01 1.52216810e+01 2.87391830e+01 2.64834240e+01\n",
      " 1.64768948e+01 5.11751588e+01 1.70418440e+01 1.50410710e+01\n",
      " 4.89063811e+00 4.84577139e+00 5.02762791e+00 5.81519459e+00\n",
      " 4.93090924e+00 4.29806639e+00 4.86669456e+00 4.80395390e+00\n",
      " 4.83089337e+00 4.80763766e+00 4.84722217e+00]\n"
     ]
    }
   ],
   "source": [
    "# Print results\n",
    "print(\"Beta_hat:\", beta_hat_1)\n",
    "print(\"Residual variance (sigma^2):\", sigma2_hat_1)\n",
    "print(\"Covariance matrix of beta_hat:\\n\", Cov_beta_hat_1)\n",
    "print(\"Standard errors of beta_hat:\", sd_beta_hat_1)"
   ]
  },
  {
   "cell_type": "code",
   "execution_count": null,
   "id": "23203c1c-d70b-4592-8fab-5027e173384c",
   "metadata": {},
   "outputs": [],
   "source": []
  },
  {
   "cell_type": "code",
   "execution_count": 111,
   "id": "bf4a3121-d6f7-4856-b7b8-b56062e25b57",
   "metadata": {},
   "outputs": [],
   "source": [
    "# Comparison of coefficients and standard deviations\n",
    "coeff_comparison = np.vstack([model.params, beta_hat_1])\n",
    "stddev_comparison = np.vstack([model.bse, sd_beta_hat_1])"
   ]
  },
  {
   "cell_type": "code",
   "execution_count": 112,
   "id": "d6a66117-2f17-432f-8a26-514bf3bd1194",
   "metadata": {
    "scrolled": true
   },
   "outputs": [
    {
     "name": "stdout",
     "output_type": "stream",
     "text": [
      "Comparison of Coefficients:\n",
      "              intercept  rent_per_sqm      area       age     rooms   balcony  \\\n",
      "Statsmodels -523.948384     61.065895  8.593214  0.055362 -2.544681 -0.806528   \n",
      "By-Hand     -523.948384     61.065895  8.593214  0.055362 -2.544681 -0.806528   \n",
      "\n",
      "              kitchen  basement       lift  guesttoilet  ...   month_3  \\\n",
      "Statsmodels -2.702224  7.983974  12.667916    -2.415134  ...  4.189946   \n",
      "By-Hand     -2.702224  7.983974  12.667916    -2.415134  ...  4.189946   \n",
      "\n",
      "              month_4   month_5   month_6   month_7   month_8   month_9  \\\n",
      "Statsmodels  1.905665  5.526178  0.291244  1.063453 -5.516867  3.057736   \n",
      "By-Hand      1.905665  5.526178  0.291244  1.063453 -5.516867  3.057736   \n",
      "\n",
      "             month_10  month_11  month_12  \n",
      "Statsmodels -0.199978 -1.951343 -2.521855  \n",
      "By-Hand     -0.199978 -1.951343 -2.521855  \n",
      "\n",
      "[2 rows x 43 columns]\n",
      "\n",
      "Comparison of Standard Deviations:\n",
      "             intercept  rent_per_sqm      area       age     rooms  balcony  \\\n",
      "Statsmodels  17.765932       0.67257  0.076853  0.038876  1.966502  2.55602   \n",
      "By-Hand      17.765932       0.67257  0.076853  0.038876  1.966502  2.55602   \n",
      "\n",
      "              kitchen  basement      lift  guesttoilet  ...   month_3  \\\n",
      "Statsmodels  2.346292  2.393997  3.269338     3.222215  ...  4.845771   \n",
      "By-Hand      2.346292  2.393997  3.269338     3.222215  ...  4.845771   \n",
      "\n",
      "              month_4   month_5   month_6   month_7   month_8   month_9  \\\n",
      "Statsmodels  5.027628  5.815195  4.930909  4.298066  4.866695  4.803954   \n",
      "By-Hand      5.027628  5.815195  4.930909  4.298066  4.866695  4.803954   \n",
      "\n",
      "             month_10  month_11  month_12  \n",
      "Statsmodels  4.830893  4.807638  4.847222  \n",
      "By-Hand      4.830893  4.807638  4.847222  \n",
      "\n",
      "[2 rows x 43 columns]\n"
     ]
    }
   ],
   "source": [
    "# Display results\n",
    "print(\"Comparison of Coefficients:\")\n",
    "print(pd.DataFrame(coeff_comparison, index=[\"Statsmodels\", \"By-Hand\"], \n",
    "                   columns=['intercept'] + independent_vars))\n",
    "print(\"\\nComparison of Standard Deviations:\")\n",
    "print(pd.DataFrame(stddev_comparison, index=[\"Statsmodels\", \"By-Hand\"], \n",
    "                   columns=['intercept'] + independent_vars))"
   ]
  },
  {
   "cell_type": "code",
   "execution_count": null,
   "id": "685c6f60-8fb9-44c1-a989-1980594da19d",
   "metadata": {},
   "outputs": [],
   "source": []
  },
  {
   "cell_type": "markdown",
   "id": "c25f8d83-af26-4f2c-9bc4-8b66fc7b8637",
   "metadata": {},
   "source": [
    "# HYPOTHESIS TESTING"
   ]
  },
  {
   "cell_type": "code",
   "execution_count": null,
   "id": "46157b65-6406-44b7-968c-c29cf0be15e7",
   "metadata": {},
   "outputs": [],
   "source": []
  },
  {
   "cell_type": "code",
   "execution_count": 113,
   "id": "5e6bb07d-ee9a-4a83-bd5b-08b20780cd9f",
   "metadata": {},
   "outputs": [],
   "source": [
    "# List of variables to exclude\n",
    "exclude_vars = ['age', 'rooms', 'balcony', 'kitchen', 'guesttoilet', 'barrierfree']\n",
    "\n",
    "# Restrict independent_vars by excluding the specified variables\n",
    "independent_vars_H0 = [col for col in independent_vars if col not in exclude_vars]"
   ]
  },
  {
   "cell_type": "code",
   "execution_count": 114,
   "id": "5b28c759-c421-4b23-8f1a-4b57a886b2ab",
   "metadata": {},
   "outputs": [],
   "source": [
    "# Restricted independent variables\n",
    "X_H0 = data[independent_vars_H0]\n",
    "\n",
    "# Add intercept to X_H0\n",
    "X_H0 = sm.add_constant(X_H0)"
   ]
  },
  {
   "cell_type": "code",
   "execution_count": 115,
   "id": "db3c67d0-4c2d-4684-a791-c4a1050eeaf9",
   "metadata": {},
   "outputs": [],
   "source": [
    "# Fit the reduced model\n",
    "model_H0 = sm.OLS(y, X_H0).fit()"
   ]
  },
  {
   "cell_type": "code",
   "execution_count": 116,
   "id": "8c0eb943-e2a0-4ef2-9301-548dd4c23d36",
   "metadata": {
    "scrolled": true
   },
   "outputs": [
    {
     "name": "stdout",
     "output_type": "stream",
     "text": [
      "                            OLS Regression Results                            \n",
      "==============================================================================\n",
      "Dep. Variable:                netrent   R-squared:                       0.959\n",
      "Model:                            OLS   Adj. R-squared:                  0.959\n",
      "Method:                 Least Squares   F-statistic:                     1530.\n",
      "Date:                Fri, 17 Jan 2025   Prob (F-statistic):               0.00\n",
      "Time:                        16:57:57   Log-Likelihood:                -12557.\n",
      "No. Observations:                2371   AIC:                         2.519e+04\n",
      "Df Residuals:                    2334   BIC:                         2.540e+04\n",
      "Df Model:                          36                                         \n",
      "Covariance Type:            nonrobust                                         \n",
      "======================================================================================\n",
      "                         coef    std err          t      P>|t|      [0.025      0.975]\n",
      "--------------------------------------------------------------------------------------\n",
      "const               -524.6984     17.377    -30.196      0.000    -558.773    -490.623\n",
      "rent_per_sqm          61.0042      0.651     93.741      0.000      59.728      62.280\n",
      "area                   8.5028      0.046    185.961      0.000       8.413       8.592\n",
      "basement               7.4395      2.361      3.151      0.002       2.809      12.070\n",
      "lift                  11.9001      2.880      4.131      0.000       6.252      17.549\n",
      "garden                -6.8367      2.550     -2.682      0.007     -11.836      -1.837\n",
      "condition_cat_2.0    -35.1841      6.289     -5.595      0.000     -47.516     -22.852\n",
      "condition_cat_3.0    -18.7426      5.219     -3.591      0.000     -28.977      -8.508\n",
      "condition_cat_4.0    -45.9330      7.399     -6.208      0.000     -60.442     -31.424\n",
      "condition_cat_5.0    -30.5240      6.030     -5.062      0.000     -42.349     -18.699\n",
      "condition_cat_6.0    -32.9956      5.809     -5.680      0.000     -44.387     -21.605\n",
      "condition_cat_7.0    -35.1851      5.405     -6.509      0.000     -45.785     -24.585\n",
      "condition_cat_8.0    -25.1964     13.730     -1.835      0.067     -52.121       1.728\n",
      "appointments_cat_1    -4.6197      2.545     -1.815      0.070      -9.611       0.372\n",
      "appointments_cat_2     4.2455      2.994      1.418      0.156      -1.626      10.117\n",
      "heating_cat_2.0       -7.7827     23.899     -0.326      0.745     -54.647      39.082\n",
      "heating_cat_3.0       23.9475     15.246      1.571      0.116      -5.950      53.845\n",
      "heating_cat_4.0       23.5974     15.128      1.560      0.119      -6.067      53.262\n",
      "heating_cat_5.0       27.0111     15.199      1.777      0.076      -2.794      56.816\n",
      "heating_cat_6.0       19.2746     15.191      1.269      0.205     -10.514      49.063\n",
      "heating_cat_7.0       61.4215     28.719      2.139      0.033       5.103     117.740\n",
      "heating_cat_8.0       16.2706     26.410      0.616      0.538     -35.519      68.060\n",
      "heating_cat_10.0      21.3909     16.434      1.302      0.193     -10.835      53.617\n",
      "heating_cat_11.0      76.0655     51.043      1.490      0.136     -24.029     176.160\n",
      "heating_cat_12.0      10.0595     17.003      0.592      0.554     -23.283      43.402\n",
      "heating_cat_13.0      17.8506     15.000      1.190      0.234     -11.565      47.266\n",
      "month_2                5.5974      4.886      1.145      0.252      -3.985      15.180\n",
      "month_3                4.3228      4.844      0.892      0.372      -5.176      13.821\n",
      "month_4                1.8007      5.024      0.358      0.720      -8.050      11.652\n",
      "month_5                5.6922      5.813      0.979      0.328      -5.707      17.092\n",
      "month_6                0.4579      4.919      0.093      0.926      -9.187      10.103\n",
      "month_7                1.3364      4.288      0.312      0.755      -7.073       9.745\n",
      "month_8               -5.6092      4.863     -1.153      0.249     -15.146       3.927\n",
      "month_9                2.8825      4.796      0.601      0.548      -6.522      12.287\n",
      "month_10              -0.0409      4.816     -0.009      0.993      -9.485       9.403\n",
      "month_11              -1.9761      4.798     -0.412      0.680     -11.386       7.433\n",
      "month_12              -2.4375      4.841     -0.503      0.615     -11.931       7.056\n",
      "==============================================================================\n",
      "Omnibus:                      800.224   Durbin-Watson:                   1.987\n",
      "Prob(Omnibus):                  0.000   Jarque-Bera (JB):            10546.277\n",
      "Skew:                          -1.215   Prob(JB):                         0.00\n",
      "Kurtosis:                      13.042   Cond. No.                     4.37e+03\n",
      "==============================================================================\n",
      "\n",
      "Notes:\n",
      "[1] Standard Errors assume that the covariance matrix of the errors is correctly specified.\n",
      "[2] The condition number is large, 4.37e+03. This might indicate that there are\n",
      "strong multicollinearity or other numerical problems.\n"
     ]
    }
   ],
   "source": [
    "# Print results\n",
    "print(model_H0.summary())"
   ]
  },
  {
   "cell_type": "code",
   "execution_count": null,
   "id": "3f3ab0e1-1329-40e5-800b-21d196de0b34",
   "metadata": {},
   "outputs": [],
   "source": []
  },
  {
   "cell_type": "markdown",
   "id": "3aa00f7d-93a0-4a05-b86a-cea96f730f10",
   "metadata": {},
   "source": [
    "##### PERFORM F-TEST"
   ]
  },
  {
   "cell_type": "code",
   "execution_count": 117,
   "id": "75fec302-a07d-4deb-851f-2c30d042af8a",
   "metadata": {},
   "outputs": [],
   "source": [
    "SSE_full = np.sum(model.resid ** 2)             # Residual Sum of Squares for full model\n",
    "SSE_H0 = np.sum(model_H0.resid ** 2)            # Residual Sum of Squares for reduced model\n",
    "\n",
    "n = len(y)                 # Number of observations\n",
    "p_full = X.shape[1]        # Number of parameters in full model\n",
    "p_H0 = X_H0.shape[1]       # Number of parameters in reduced model\n",
    "r = p_full - p_H0          # Number of restrictions"
   ]
  },
  {
   "cell_type": "code",
   "execution_count": 118,
   "id": "b3a1b6f5-d409-4215-9e47-48e3bb14c8ef",
   "metadata": {},
   "outputs": [
    {
     "name": "stdout",
     "output_type": "stream",
     "text": [
      "F-statistic: 0.9905492751696735\n"
     ]
    }
   ],
   "source": [
    "# Calculate F-statistic\n",
    "F_H0 = ((SSE_H0 - SSE_full) / r) / (SSE_full / (n - p_full))\n",
    "print(f\"F-statistic: {F_H0}\")\n",
    "\n",
    "# f_statistics = model.compare_f_test(model_H0)"
   ]
  },
  {
   "cell_type": "code",
   "execution_count": 119,
   "id": "6b0f4260-398b-4b0c-94f2-1fb7a5f20007",
   "metadata": {},
   "outputs": [
    {
     "name": "stdout",
     "output_type": "stream",
     "text": [
      "Critical value (alpha=0.05): 2.1024737192532603\n"
     ]
    }
   ],
   "source": [
    "# Calculate critical value\n",
    "alpha = 0.05\n",
    "F_critical = f.ppf(1 - alpha, dfn=r, dfd=n - p_full)\n",
    "print(f\"Critical value (alpha={alpha}): {F_critical}\")"
   ]
  },
  {
   "cell_type": "code",
   "execution_count": 120,
   "id": "d2319617-2d18-4a15-b58d-b09f1af8e79c",
   "metadata": {},
   "outputs": [
    {
     "name": "stdout",
     "output_type": "stream",
     "text": [
      "P-value: 0.42985218568727157\n"
     ]
    }
   ],
   "source": [
    "# Calculate p-value\n",
    "p_value = 1 - f.cdf(F_H0, dfn=r, dfd=n - p_full)\n",
    "print(f\"P-value: {p_value}\")"
   ]
  },
  {
   "cell_type": "code",
   "execution_count": 121,
   "id": "133c0400-9b34-4f9a-9004-aa445af86012",
   "metadata": {},
   "outputs": [
    {
     "name": "stdout",
     "output_type": "stream",
     "text": [
      "Fail to reject the null hypothesis: The variables are jointly not significantly different than zero.\n"
     ]
    }
   ],
   "source": [
    "# Interpretation of results\n",
    "if p_value < alpha:\n",
    "    print(\"Reject the null hypothesis: The variables are jointly significantly different than zero.\")\n",
    "else:\n",
    "    print(\"Fail to reject the null hypothesis: The variables are jointly not significantly different than zero.\")"
   ]
  },
  {
   "cell_type": "code",
   "execution_count": null,
   "id": "162c7326-e347-432a-bd45-a97e5b7f9160",
   "metadata": {},
   "outputs": [],
   "source": []
  },
  {
   "cell_type": "markdown",
   "id": "d26dee97-716f-4d5e-84a9-2e30b0793289",
   "metadata": {},
   "source": [
    "# MODEL SELECTION"
   ]
  },
  {
   "cell_type": "code",
   "execution_count": null,
   "id": "bbf8ecfc-9a7d-4fad-b5ae-4ded33428aa4",
   "metadata": {},
   "outputs": [],
   "source": []
  },
  {
   "cell_type": "code",
   "execution_count": 122,
   "id": "628d96d2-c37a-4ba6-802c-bd043358a66d",
   "metadata": {},
   "outputs": [
    {
     "name": "stdout",
     "output_type": "stream",
     "text": [
      "Adjusted R-squared:\n",
      "Full model: 0.9587085934428334\n",
      "Reduced model: 0.9587095966143533\n"
     ]
    }
   ],
   "source": [
    "# Compare adjusted R-squared\n",
    "adj_rsq_model = model.rsquared_adj\n",
    "adj_rsq_model_H0 = model_H0.rsquared_adj\n",
    "\n",
    "print(\"Adjusted R-squared:\")\n",
    "print(f\"Full model: {adj_rsq_model}\")\n",
    "print(f\"Reduced model: {adj_rsq_model_H0}\")"
   ]
  },
  {
   "cell_type": "code",
   "execution_count": 123,
   "id": "a7958545-cf0e-41f3-8021-cabae9c2a5f6",
   "metadata": {},
   "outputs": [],
   "source": [
    "# Leverage values (hat matrix diagonal elements)\n",
    "influence_model = model.get_influence()\n",
    "h_ii_1 = influence_model.hat_matrix_diag\n",
    "\n",
    "influence_model_H0 = model_H0.get_influence()\n",
    "h_ii_2 = influence_model_H0.hat_matrix_diag"
   ]
  },
  {
   "cell_type": "code",
   "execution_count": 124,
   "id": "7593f5ad-1543-42a4-a02f-dd5c5a0e18e7",
   "metadata": {},
   "outputs": [
    {
     "name": "stdout",
     "output_type": "stream",
     "text": [
      "\n",
      "LOOCV Error:\n",
      "Full model: 21128.229153659093\n",
      "Reduced model: 4346.611089567004\n"
     ]
    }
   ],
   "source": [
    "# Compute leave-one-out cross-validation error (LOOCV)\n",
    "y_actual = model.model.endog  # Dependent variable values\n",
    "\n",
    "loocv_model = np.mean(((y_actual - model.fittedvalues) / (1 - h_ii_1)) ** 2)\n",
    "loocv_model_H0 = np.mean(((y_actual - model_H0.fittedvalues) / (1 - h_ii_2)) ** 2)\n",
    "\n",
    "print(\"\\nLOOCV Error:\")\n",
    "print(f\"Full model: {loocv_model}\")\n",
    "print(f\"Reduced model: {loocv_model_H0}\")"
   ]
  },
  {
   "cell_type": "code",
   "execution_count": 125,
   "id": "93179503-529b-485a-a07a-421132c6a52f",
   "metadata": {},
   "outputs": [],
   "source": [
    "# THE RESTRICTED MODEL, model_H0, EXPLAINS THE DATA BETTER THAN THE FULL MODEL, model.\n",
    "# model_H0 IS NEW CURRENT MODEL"
   ]
  },
  {
   "cell_type": "code",
   "execution_count": null,
   "id": "b77ce472-9288-4cb3-b10a-597faa0e37fb",
   "metadata": {},
   "outputs": [],
   "source": []
  },
  {
   "cell_type": "markdown",
   "id": "be9a2038-e818-43cc-827a-4445fab6e868",
   "metadata": {},
   "source": [
    "# PROBLEM ANALYSIS"
   ]
  },
  {
   "cell_type": "code",
   "execution_count": null,
   "id": "2d49cb5b-b16f-449a-b513-63e2a99ba57b",
   "metadata": {},
   "outputs": [],
   "source": []
  },
  {
   "cell_type": "code",
   "execution_count": 126,
   "id": "7952f92b-bb36-4879-92a9-cd82f59ef5d0",
   "metadata": {},
   "outputs": [
    {
     "name": "stdout",
     "output_type": "stream",
     "text": [
      "Observations with h_ii == 1 in full model: []\n",
      "Observations with h_ii == 1 in reduced model: []\n"
     ]
    }
   ],
   "source": [
    "# Identify problematic observations where leverage = 1\n",
    "high_leverage_1 = np.where(h_ii_1 == 1)[0]\n",
    "high_leverage_2 = np.where(h_ii_2 == 1)[0]\n",
    "\n",
    "print(\"Observations with h_ii == 1 in full model:\", high_leverage_1)\n",
    "print(\"Observations with h_ii == 1 in reduced model:\", high_leverage_2)"
   ]
  },
  {
   "cell_type": "code",
   "execution_count": 127,
   "id": "a5440c74-9e1f-4359-994b-225dc6250b1a",
   "metadata": {},
   "outputs": [],
   "source": [
    "# NO PROBLEM AS 1-h_i_i WILL NEVER BE 0 ANYWHERE IN DIAGONAL OF THE HAT MATRIX"
   ]
  },
  {
   "cell_type": "code",
   "execution_count": 164,
   "id": "b9af0521-7cd4-442e-8238-d185281699ef",
   "metadata": {
    "scrolled": true
   },
   "outputs": [
    {
     "name": "stdout",
     "output_type": "stream",
     "text": [
      "Condition category summary:\n",
      " condition_cat\n",
      "7.0    1198\n",
      "6.0     277\n",
      "5.0     243\n",
      "3.0     240\n",
      "1.0     185\n",
      "2.0     135\n",
      "4.0      78\n",
      "8.0      15\n",
      "Name: count, dtype: int64\n",
      "Appointments category summary:\n",
      " appointments_cat\n",
      "0    875\n",
      "1    768\n",
      "2    728\n",
      "Name: count, dtype: int64\n",
      "Heating category summary:\n",
      " heating_cat\n",
      "13.0    1150\n",
      "3.0      314\n",
      "4.0      300\n",
      "6.0      285\n",
      "5.0      208\n",
      "10.0      51\n",
      "12.0      35\n",
      "1.0       11\n",
      "2.0        7\n",
      "8.0        5\n",
      "7.0        4\n",
      "11.0       1\n",
      "Name: count, dtype: int64\n",
      "Month summary:\n",
      " month\n",
      "7     334\n",
      "1     217\n",
      "11    204\n",
      "9     200\n",
      "10    198\n",
      "12    194\n",
      "3     192\n",
      "8     191\n",
      "2     186\n",
      "6     182\n",
      "4     168\n",
      "5     105\n",
      "Name: count, dtype: int64\n"
     ]
    }
   ],
   "source": [
    "# Reload the original dataset\n",
    "data = pd.read_csv('biele_WM_new.csv')\n",
    "columns = [\"mietekalt\", \"qm_Preis\", \"wohnflaeche\", \"alter\", \"objektzustand\", \"zimmeranzahl\", \"balkon\", \"einbaukueche\", \"keller\", \"ausstattung_kat\", \"aufzug\", \"gaestewc\", \"garten\", \"heizungsart\", \"barrierefrei\", \"Einstellungsmonat\"]\n",
    "data = data[columns]\n",
    "data.rename(columns = {'mietekalt': 'netrent', \n",
    "                     'qm_Preis': 'rent_per_sqm', \n",
    "                     'wohnflaeche': 'area', \n",
    "                     'alter': 'age', \n",
    "                     'objektzustand': 'condition_cat', \n",
    "                     'zimmeranzahl': 'rooms', \n",
    "                     'balkon': 'balcony', \n",
    "                     'einbaukueche': 'kitchen', \n",
    "                     'keller': 'basement', \n",
    "                     'ausstattung_kat': 'appointments_cat', \n",
    "                     'aufzug': 'lift', \n",
    "                     'gaestewc': 'guesttoilet', \n",
    "                     'garten': 'garden', \n",
    "                     'heizungsart': 'heating_cat', \n",
    "                     'barrierefrei': 'barrierfree', \n",
    "                     'Einstellungsmonat': 'month'}, inplace= True)\n",
    "data = data.dropna()\n",
    "\n",
    "# Check categorical variable distribution\n",
    "print(\"Condition category summary:\\n\", data['condition_cat'].value_counts())\n",
    "print(\"Appointments category summary:\\n\", data['appointments_cat'].value_counts())\n",
    "print(\"Heating category summary:\\n\", data['heating_cat'].value_counts())\n",
    "print(\"Month summary:\\n\", data['month'].value_counts())"
   ]
  },
  {
   "cell_type": "code",
   "execution_count": 165,
   "id": "76bf02c4-da6f-460a-9fec-40bc8c5fc095",
   "metadata": {},
   "outputs": [],
   "source": [
    "# Encode categorical variables\n",
    "data = pd.get_dummies(data,\n",
    "                      columns = ['condition_cat', 'heating_cat', 'appointments_cat', 'month'],\n",
    "                      drop_first = True, dtype = int)"
   ]
  },
  {
   "cell_type": "code",
   "execution_count": 166,
   "id": "6c9cea0d-eef0-4036-9dce-d6f13a62cf7a",
   "metadata": {},
   "outputs": [],
   "source": [
    "# Define a new restricted model excluding the non-significant heating categories from model_H0\n",
    "independent_vars_H01 = [\n",
    "    \"area\", \"basement\", \"lift\", \"garden\", \"heating_cat_7.0\"\n",
    "]+ [col for col in data.columns if col.startswith((\"condition_cat_\", \"appointments_cat_\", \"month_\"))]  \n",
    "\n",
    "X_H01 = sm.add_constant(data[independent_vars_H01])\n",
    "model_H01 = sm.OLS(data[dependent_var], X_H01).fit()"
   ]
  },
  {
   "cell_type": "code",
   "execution_count": 148,
   "id": "2d636ff5-5bdb-4059-be01-8fa7df5f8db0",
   "metadata": {
    "scrolled": true
   },
   "outputs": [
    {
     "name": "stdout",
     "output_type": "stream",
     "text": [
      "                            OLS Regression Results                            \n",
      "==============================================================================\n",
      "Dep. Variable:                netrent   R-squared:                       0.800\n",
      "Model:                            OLS   Adj. R-squared:                  0.798\n",
      "Method:                 Least Squares   F-statistic:                     374.4\n",
      "Date:                Fri, 17 Jan 2025   Prob (F-statistic):               0.00\n",
      "Time:                        17:31:18   Log-Likelihood:                -14447.\n",
      "No. Observations:                2371   AIC:                         2.895e+04\n",
      "Df Residuals:                    2345   BIC:                         2.910e+04\n",
      "Df Model:                          25                                         \n",
      "Covariance Type:            nonrobust                                         \n",
      "======================================================================================\n",
      "                         coef    std err          t      P>|t|      [0.025      0.975]\n",
      "--------------------------------------------------------------------------------------\n",
      "const                138.5604     14.017      9.885      0.000     111.074     166.047\n",
      "area                   7.4241      0.097     76.767      0.000       7.234       7.614\n",
      "basement             -16.7213      5.163     -3.239      0.001     -26.846      -6.596\n",
      "lift                  27.2740      6.213      4.390      0.000      15.091      39.457\n",
      "garden                -4.0633      5.554     -0.732      0.465     -14.955       6.829\n",
      "heating_cat_7.0       42.2256     54.531      0.774      0.439     -64.709     149.160\n",
      "condition_cat_2.0   -113.5043     12.836     -8.842      0.000    -138.676     -88.333\n",
      "condition_cat_3.0    -61.7750     10.679     -5.785      0.000     -82.716     -40.834\n",
      "condition_cat_4.0   -130.1923     15.162     -8.586      0.000    -159.926    -100.459\n",
      "condition_cat_5.0   -158.8050     11.571    -13.725      0.000    -181.495    -136.115\n",
      "condition_cat_6.0   -148.2240     11.094    -13.360      0.000    -169.980    -126.469\n",
      "condition_cat_7.0   -167.0780      9.961    -16.773      0.000    -186.612    -147.544\n",
      "condition_cat_8.0   -185.7948     29.526     -6.293      0.000    -243.695    -127.895\n",
      "appointments_cat_1     5.8777      5.496      1.069      0.285      -4.900      16.656\n",
      "appointments_cat_2    82.2780      6.266     13.132      0.000      69.991      94.565\n",
      "month_2               21.9605     10.792      2.035      0.042       0.798      43.123\n",
      "month_3               11.3694     10.715      1.061      0.289      -9.643      32.382\n",
      "month_4               11.0079     11.095      0.992      0.321     -10.750      32.765\n",
      "month_5               20.4321     12.834      1.592      0.112      -4.734      45.598\n",
      "month_6               15.6419     10.854      1.441      0.150      -5.643      36.926\n",
      "month_7               33.7528      9.441      3.575      0.000      15.239      52.267\n",
      "month_8               10.6719     10.729      0.995      0.320     -10.367      31.711\n",
      "month_9               20.9851     10.603      1.979      0.048       0.194      41.776\n",
      "month_10              18.2270     10.620      1.716      0.086      -2.598      39.052\n",
      "month_11              23.4875     10.560      2.224      0.026       2.780      44.194\n",
      "month_12              26.4950     10.681      2.481      0.013       5.551      47.439\n",
      "==============================================================================\n",
      "Omnibus:                      419.973   Durbin-Watson:                   2.013\n",
      "Prob(Omnibus):                  0.000   Jarque-Bera (JB):             2444.179\n",
      "Skew:                           0.705   Prob(JB):                         0.00\n",
      "Kurtosis:                       7.770   Cond. No.                     1.87e+03\n",
      "==============================================================================\n",
      "\n",
      "Notes:\n",
      "[1] Standard Errors assume that the covariance matrix of the errors is correctly specified.\n",
      "[2] The condition number is large, 1.87e+03. This might indicate that there are\n",
      "strong multicollinearity or other numerical problems.\n"
     ]
    }
   ],
   "source": [
    "# Print results\n",
    "print(model_H01.summary())"
   ]
  },
  {
   "cell_type": "code",
   "execution_count": null,
   "id": "5262df28-43ec-481e-b986-5c59f7b9bf3f",
   "metadata": {},
   "outputs": [],
   "source": []
  },
  {
   "cell_type": "markdown",
   "id": "2a52eac7-70e0-45d2-8fae-7f969494afd0",
   "metadata": {},
   "source": [
    "##### PERFORM F-TEST"
   ]
  },
  {
   "cell_type": "code",
   "execution_count": 149,
   "id": "39386adc-9683-4c56-beca-005f86a27135",
   "metadata": {},
   "outputs": [],
   "source": [
    "SSE = np.sum(model.resid**2)\n",
    "SSE_H01 = np.sum(model_H01.resid**2)\n",
    "n = len(model.fittedvalues)\n",
    "p = model.df_model + 1                    # Number of parameters including intercept\n",
    "r = model.df_model - model_H01.df_model   # Difference in model complexity"
   ]
  },
  {
   "cell_type": "code",
   "execution_count": 150,
   "id": "a7afd98a-60a4-40ac-b2be-f6b329225175",
   "metadata": {},
   "outputs": [
    {
     "name": "stdout",
     "output_type": "stream",
     "text": [
      "F-statistic: 539.4823577126677\n"
     ]
    }
   ],
   "source": [
    "# Compute F-statistic\n",
    "F_H01 = ((n - p) / r) * (SSE_H01 - SSE) / SSE\n",
    "print(f\"F-statistic: {F_H01}\")\n",
    "\n",
    "# f_statistics = model.compare_f_test(model_H01)"
   ]
  },
  {
   "cell_type": "code",
   "execution_count": 151,
   "id": "22c4e116-429e-462c-a678-fbab70415268",
   "metadata": {},
   "outputs": [
    {
     "name": "stdout",
     "output_type": "stream",
     "text": [
      "Critical value at 95% confidence: 1.6271598990820488\n",
      "P-value: 1.1102230246251565e-16\n"
     ]
    }
   ],
   "source": [
    "# Compute critical value and p-value\n",
    "F_critical = f.ppf(0.95, dfn=r, dfd=n - p)\n",
    "p_value = 1 - f.cdf(F_H01, dfn=r, dfd=n - p)\n",
    "\n",
    "print(f\"Critical value at 95% confidence: {F_critical}\")\n",
    "print(f\"P-value: {p_value}\")"
   ]
  },
  {
   "cell_type": "code",
   "execution_count": 152,
   "id": "32676549-3c4e-4044-b203-df8ff27f9a2e",
   "metadata": {},
   "outputs": [
    {
     "name": "stdout",
     "output_type": "stream",
     "text": [
      "Reject the null hypothesis: Heating categories jointly significantly influence the model.\n"
     ]
    }
   ],
   "source": [
    "if p_value < 0.05:\n",
    "    print(\"Reject the null hypothesis: Heating categories jointly significantly influence the model.\")\n",
    "else:\n",
    "    print(\"Fail to reject the null hypothesis: Heating categories have no joıntly significant influence.\")"
   ]
  },
  {
   "cell_type": "code",
   "execution_count": null,
   "id": "ed4d1717-cd26-40f4-bb0b-badd646e4136",
   "metadata": {},
   "outputs": [],
   "source": []
  },
  {
   "cell_type": "markdown",
   "id": "a6de8661-3f5b-4817-a70e-dd5078ce600d",
   "metadata": {},
   "source": [
    "##### MODEL SELECTION"
   ]
  },
  {
   "cell_type": "code",
   "execution_count": 154,
   "id": "ca95a996-8612-4743-8a7d-39513eb06d99",
   "metadata": {},
   "outputs": [
    {
     "name": "stdout",
     "output_type": "stream",
     "text": [
      "Full Model AIC: 25193.53, BIC: 25441.69\n",
      "Restricted Model AIC: 28946.66, BIC: 29096.70\n",
      "The model_H0 is preferred based on AIC.\n",
      "The model_H0 is preferred based on BIC.\n"
     ]
    }
   ],
   "source": [
    "# Compare AIC and BIC for model selection\n",
    "aic_model = model.aic\n",
    "bic_model = model.bic\n",
    "\n",
    "aic_H01 = model_H01.aic\n",
    "bic_H01 = model_H01.bic\n",
    "\n",
    "print(f\"Full Model AIC: {aic_model:.2f}, BIC: {bic_model:.2f}\")\n",
    "print(f\"Restricted Model AIC: {aic_H01:.2f}, BIC: {bic_H01:.2f}\")\n",
    "\n",
    "# Interpretation\n",
    "if aic_H01 < aic_model:\n",
    "    print(\"The model_H01 has a lower AIC and is preferred based on AIC.\")\n",
    "else:\n",
    "    print(\"The model_H0 is preferred based on AIC.\")\n",
    "\n",
    "if bic_H01 < bic_model:\n",
    "    print(\"The model_H01 has a lower BIC and is preferred based on BIC.\")\n",
    "else:\n",
    "    print(\"The model_H0 is preferred based on BIC.\")"
   ]
  },
  {
   "cell_type": "code",
   "execution_count": 137,
   "id": "d30c64ac-68ae-4f02-95e3-834824c13b40",
   "metadata": {},
   "outputs": [],
   "source": [
    "# THE FIRST RESTRICTED MODEL, model_H0, EXPLAINS THE DATA STILL BETTER THAN THE SECOND ONE, model_H01"
   ]
  },
  {
   "cell_type": "code",
   "execution_count": null,
   "id": "b4247ddb-9f35-4a50-96ba-a4c68a0cb1a5",
   "metadata": {},
   "outputs": [],
   "source": []
  },
  {
   "cell_type": "code",
   "execution_count": 169,
   "id": "bbedf90b-e78f-4540-a108-241da9aef21f",
   "metadata": {},
   "outputs": [],
   "source": [
    "# Define a new restricted model excluding the non-significant appointment categories from model_H0\n",
    "independent_vars_H02 = [\n",
    "    \"area\", \"basement\", \"lift\", \"garden\",\n",
    "]+ [col for col in data.columns if col.startswith((\"condition_cat_\", \"heating_cat_\", \"month_\"))]  \n",
    "\n",
    "X_H02 = sm.add_constant(data[independent_vars_H02])\n",
    "model_H02 = sm.OLS(data[dependent_var], X_H02).fit()"
   ]
  },
  {
   "cell_type": "code",
   "execution_count": 171,
   "id": "89fa0198-254f-480c-b8b9-8af94bf182cf",
   "metadata": {
    "scrolled": true
   },
   "outputs": [
    {
     "name": "stdout",
     "output_type": "stream",
     "text": [
      "                            OLS Regression Results                            \n",
      "==============================================================================\n",
      "Dep. Variable:                netrent   R-squared:                       0.791\n",
      "Model:                            OLS   Adj. R-squared:                  0.788\n",
      "Method:                 Least Squares   F-statistic:                     268.3\n",
      "Date:                Fri, 17 Jan 2025   Prob (F-statistic):               0.00\n",
      "Time:                        18:01:55   Log-Likelihood:                -14496.\n",
      "No. Observations:                2371   AIC:                         2.906e+04\n",
      "Df Residuals:                    2337   BIC:                         2.926e+04\n",
      "Df Model:                          33                                         \n",
      "Covariance Type:            nonrobust                                         \n",
      "=====================================================================================\n",
      "                        coef    std err          t      P>|t|      [0.025      0.975]\n",
      "-------------------------------------------------------------------------------------\n",
      "const               107.7074     36.415      2.958      0.003      36.298     179.116\n",
      "area                  7.5457      0.099     76.368      0.000       7.352       7.739\n",
      "basement             -9.1002      5.220     -1.743      0.081     -19.337       1.137\n",
      "lift                 26.0546      6.509      4.003      0.000      13.290      38.819\n",
      "garden                2.7653      5.739      0.482      0.630      -8.489      14.019\n",
      "condition_cat_2.0  -113.3844     14.107     -8.037      0.000    -141.048     -85.721\n",
      "condition_cat_3.0   -49.7597     11.798     -4.218      0.000     -72.894     -26.625\n",
      "condition_cat_4.0  -127.9368     16.618     -7.699      0.000    -160.524     -95.349\n",
      "condition_cat_5.0  -168.8484     13.189    -12.802      0.000    -194.711    -142.985\n",
      "condition_cat_6.0  -150.5428     12.806    -11.756      0.000    -175.654    -125.431\n",
      "condition_cat_7.0  -180.0168     11.578    -15.548      0.000    -202.722    -157.312\n",
      "condition_cat_8.0  -216.0081     30.641     -7.050      0.000    -276.094    -155.922\n",
      "heating_cat_2.0     110.0794     54.029      2.037      0.042       4.129     216.030\n",
      "heating_cat_3.0      42.4411     34.474      1.231      0.218     -25.161     110.044\n",
      "heating_cat_4.0      82.6057     34.208      2.415      0.016      15.524     149.687\n",
      "heating_cat_5.0      99.3797     34.359      2.892      0.004      32.002     166.757\n",
      "heating_cat_6.0      57.1712     34.388      1.663      0.097     -10.263     124.605\n",
      "heating_cat_7.0     116.8524     65.027      1.797      0.072     -10.664     244.369\n",
      "heating_cat_8.0     -45.4694     59.784     -0.761      0.447    -162.705      71.766\n",
      "heating_cat_10.0     25.6071     37.205      0.688      0.491     -47.351      98.565\n",
      "heating_cat_11.0    146.7851    115.579      1.270      0.204     -79.863     373.433\n",
      "heating_cat_12.0     39.8306     38.464      1.036      0.301     -35.597     115.258\n",
      "heating_cat_13.0     30.7961     33.922      0.908      0.364     -35.725      97.317\n",
      "month_2              25.0887     11.056      2.269      0.023       3.409      46.769\n",
      "month_3               9.7981     10.962      0.894      0.372     -11.698      31.295\n",
      "month_4              15.2013     11.372      1.337      0.181      -7.100      37.502\n",
      "month_5              28.9435     13.151      2.201      0.028       3.154      54.733\n",
      "month_6              14.4357     11.129      1.297      0.195      -7.388      36.260\n",
      "month_7              33.7565      9.681      3.487      0.000      14.773      52.740\n",
      "month_8               9.6268     11.006      0.875      0.382     -11.956      31.209\n",
      "month_9              24.6640     10.846      2.274      0.023       3.395      45.933\n",
      "month_10             22.7617     10.894      2.089      0.037       1.399      44.124\n",
      "month_11             26.0515     10.847      2.402      0.016       4.781      47.322\n",
      "month_12             21.8916     10.946      2.000      0.046       0.428      43.355\n",
      "==============================================================================\n",
      "Omnibus:                      448.950   Durbin-Watson:                   1.979\n",
      "Prob(Omnibus):                  0.000   Jarque-Bera (JB):             2832.723\n",
      "Skew:                           0.739   Prob(JB):                         0.00\n",
      "Kurtosis:                       8.147   Cond. No.                     4.35e+03\n",
      "==============================================================================\n",
      "\n",
      "Notes:\n",
      "[1] Standard Errors assume that the covariance matrix of the errors is correctly specified.\n",
      "[2] The condition number is large, 4.35e+03. This might indicate that there are\n",
      "strong multicollinearity or other numerical problems.\n"
     ]
    }
   ],
   "source": [
    "# Print results\n",
    "print(model_H02.summary())"
   ]
  },
  {
   "cell_type": "code",
   "execution_count": 172,
   "id": "c89748a9-4f13-4721-9b3b-1e1c9572c27f",
   "metadata": {},
   "outputs": [
    {
     "name": "stdout",
     "output_type": "stream",
     "text": [
      "Adjusted R-squared for model_H0: 0.9587\n",
      "Adjusted R-squared for model_H02: 0.7882\n",
      "model_H0 is favored based on adjusted R-squared.\n"
     ]
    }
   ],
   "source": [
    "# Compare adjusted R-squared\n",
    "adj_rsq_H0 = model_H0.rsquared_adj\n",
    "adj_rsq_H02 = model_H02.rsquared_adj\n",
    "\n",
    "print(f\"Adjusted R-squared for model_H0: {adj_rsq_H0:.4f}\")\n",
    "print(f\"Adjusted R-squared for model_H02: {adj_rsq_H02:.4f}\")\n",
    "\n",
    "if adj_rsq_H02 > adj_rsq_H0:\n",
    "    print(\"model_H02 is favored based on adjusted R-squared.\")\n",
    "else:\n",
    "    print(\"model_H0 is favored based on adjusted R-squared.\")"
   ]
  },
  {
   "cell_type": "code",
   "execution_count": 173,
   "id": "cb1af546-9da3-4380-97eb-717289bddb4b",
   "metadata": {},
   "outputs": [
    {
     "name": "stdout",
     "output_type": "stream",
     "text": [
      "LOOCV Error for model_H0: 4346.6111\n",
      "LOOCV Error for model H02: 989276.9569\n",
      "model_H0 is favored based on lower cross-validation error.\n"
     ]
    }
   ],
   "source": [
    "# Leave-One-Out Cross Validation (LOOCV)\n",
    "h_ii_H0 = model_H0.get_influence().hat_matrix_diag\n",
    "h_ii_H02 = model_H02.get_influence().hat_matrix_diag\n",
    "\n",
    "loocv_error_H0 = np.mean(((data[\"netrent\"] - model_H0.fittedvalues) / (1 - h_ii_H0))**2)\n",
    "loocv_error_H02 = np.mean(((data[\"netrent\"] - model_H02.fittedvalues) / (1 - h_ii_H02))**2)\n",
    "\n",
    "print(f\"LOOCV Error for model_H0: {loocv_error_H0:.4f}\")\n",
    "print(f\"LOOCV Error for model H02: {loocv_error_H02:.4f}\")\n",
    "\n",
    "if loocv_error_H02 < loocv_error_H0:\n",
    "    print(\"model_H02 is favored based on lower cross-validation error.\")\n",
    "else:\n",
    "    print(\"model_H0 is favored based on lower cross-validation error.\")"
   ]
  },
  {
   "cell_type": "code",
   "execution_count": 174,
   "id": "a495df4a-aff2-4e08-8885-3c440386bb58",
   "metadata": {},
   "outputs": [
    {
     "name": "stdout",
     "output_type": "stream",
     "text": [
      "AIC for model_H0: 25187.58\n",
      "AIC for model_H02: 29060.96\n",
      "model_H0 is favored based on AIC.\n",
      "BIC for model_H0: 25401.11\n",
      "BIC for model_H02: 29257.17\n",
      "model_H0 is favored based on BIC.\n"
     ]
    }
   ],
   "source": [
    "# Compare AIC\n",
    "aic_model_H0 = model_H0.aic\n",
    "aic_model_H02 = model_H02.aic\n",
    "\n",
    "print(f\"AIC for model_H0: {aic_model_H0:.2f}\")\n",
    "print(f\"AIC for model_H02: {aic_model_H02:.2f}\")\n",
    "\n",
    "if aic_model_H02 < aic_model_H0:\n",
    "    print(\"model_H02 is favored based on AIC.\")\n",
    "else:\n",
    "    print(\"model_H0 is favored based on AIC.\")\n",
    "\n",
    "# Compare BIC\n",
    "bic_model_H0 = model_H0.bic\n",
    "bic_model_H02 = model_H02.bic\n",
    "\n",
    "print(f\"BIC for model_H0: {bic_model_H0:.2f}\")\n",
    "print(f\"BIC for model_H02: {bic_model_H02:.2f}\")\n",
    "\n",
    "if bic_model_H02 < bic_model_H0:\n",
    "    print(\"model_H02 is favored based on BIC.\")\n",
    "else:\n",
    "    print(\"model_H0 is favored based on BIC.\")"
   ]
  },
  {
   "cell_type": "code",
   "execution_count": null,
   "id": "584cda6d-3219-4b0e-96d8-f7bf456c8dd1",
   "metadata": {},
   "outputs": [],
   "source": [
    "# model_H0 IS STILL THE FAVORITE MODEL"
   ]
  },
  {
   "cell_type": "code",
   "execution_count": null,
   "id": "c53035e6-a94e-49c6-97e0-66721fbebc7d",
   "metadata": {},
   "outputs": [],
   "source": []
  },
  {
   "cell_type": "code",
   "execution_count": 175,
   "id": "1cf913bd-8df8-46df-8c41-88df50ff7feb",
   "metadata": {},
   "outputs": [],
   "source": [
    "# Define a new restricted model excluding the non-significant month categories from model_H0\n",
    "independent_vars_H03 = [\n",
    "    \"area\", \"basement\", \"lift\", \"garden\"\n",
    "]+ [col for col in data.columns if col.startswith((\"condition_cat_\", \"appointments_cat_\", \"heating_cat_\"))]  \n",
    "\n",
    "X_H03 = sm.add_constant(data[independent_vars_H03])\n",
    "model_H03 = sm.OLS(data[dependent_var], X_H03).fit()"
   ]
  },
  {
   "cell_type": "code",
   "execution_count": 177,
   "id": "a47d1d9c-ee37-4161-a19d-1beba33a0307",
   "metadata": {
    "scrolled": true
   },
   "outputs": [
    {
     "name": "stdout",
     "output_type": "stream",
     "text": [
      "                            OLS Regression Results                            \n",
      "==============================================================================\n",
      "Dep. Variable:                netrent   R-squared:                       0.805\n",
      "Model:                            OLS   Adj. R-squared:                  0.803\n",
      "Method:                 Least Squares   F-statistic:                     403.3\n",
      "Date:                Fri, 17 Jan 2025   Prob (F-statistic):               0.00\n",
      "Time:                        18:14:13   Log-Likelihood:                -14416.\n",
      "No. Observations:                2371   AIC:                         2.888e+04\n",
      "Df Residuals:                    2346   BIC:                         2.903e+04\n",
      "Df Model:                          24                                         \n",
      "Covariance Type:            nonrobust                                         \n",
      "======================================================================================\n",
      "                         coef    std err          t      P>|t|      [0.025      0.975]\n",
      "--------------------------------------------------------------------------------------\n",
      "const                 85.5651     34.579      2.474      0.013      17.757     153.373\n",
      "area                   7.3953      0.096     77.179      0.000       7.207       7.583\n",
      "basement             -16.3163      5.123     -3.185      0.001     -26.362      -6.270\n",
      "lift                  22.7070      6.280      3.616      0.000      10.392      35.022\n",
      "garden                -0.5258      5.558     -0.095      0.925     -11.425      10.373\n",
      "condition_cat_2.0    -98.7843     13.638     -7.243      0.000    -125.528     -72.041\n",
      "condition_cat_3.0    -46.5782     11.363     -4.099      0.000     -68.860     -24.296\n",
      "condition_cat_4.0   -108.6275     16.062     -6.763      0.000    -140.124     -77.131\n",
      "condition_cat_5.0   -138.0348     12.900    -10.700      0.000    -163.332    -112.738\n",
      "condition_cat_6.0   -125.6952     12.464    -10.085      0.000    -150.136    -101.255\n",
      "condition_cat_7.0   -140.5715     11.512    -12.211      0.000    -163.147    -117.997\n",
      "condition_cat_8.0   -165.5364     29.774     -5.560      0.000    -223.923    -107.149\n",
      "heating_cat_2.0      116.3435     52.054      2.235      0.026      14.268     218.419\n",
      "heating_cat_3.0       55.7236     33.235      1.677      0.094      -9.449     120.896\n",
      "heating_cat_4.0       89.6042     32.939      2.720      0.007      25.012     154.196\n",
      "heating_cat_5.0       97.5157     33.077      2.948      0.003      32.652     162.379\n",
      "heating_cat_6.0       55.4128     33.112      1.673      0.094      -9.520     120.345\n",
      "heating_cat_7.0      108.6494     62.504      1.738      0.082     -13.919     231.218\n",
      "heating_cat_8.0      -41.8042     57.565     -0.726      0.468    -154.688      71.080\n",
      "heating_cat_10.0      34.8338     35.873      0.971      0.332     -35.513     105.181\n",
      "heating_cat_11.0     149.7249    111.395      1.344      0.179     -68.717     368.167\n",
      "heating_cat_12.0      42.2401     37.073      1.139      0.255     -30.459     114.940\n",
      "heating_cat_13.0      40.0233     32.702      1.224      0.221     -24.105     104.151\n",
      "appointments_cat_1     0.9273      5.551      0.167      0.867      -9.958      11.812\n",
      "appointments_cat_2    77.8754      6.294     12.372      0.000      65.532      90.219\n",
      "==============================================================================\n",
      "Omnibus:                      526.696   Durbin-Watson:                   2.008\n",
      "Prob(Omnibus):                  0.000   Jarque-Bera (JB):             3436.994\n",
      "Skew:                           0.885   Prob(JB):                         0.00\n",
      "Kurtosis:                       8.627   Cond. No.                     4.35e+03\n",
      "==============================================================================\n",
      "\n",
      "Notes:\n",
      "[1] Standard Errors assume that the covariance matrix of the errors is correctly specified.\n",
      "[2] The condition number is large, 4.35e+03. This might indicate that there are\n",
      "strong multicollinearity or other numerical problems.\n"
     ]
    }
   ],
   "source": [
    "# Print results\n",
    "print(model_H03.summary())"
   ]
  },
  {
   "cell_type": "code",
   "execution_count": 178,
   "id": "967a2493-a0f2-480f-af1a-c1021de3147d",
   "metadata": {},
   "outputs": [
    {
     "name": "stdout",
     "output_type": "stream",
     "text": [
      "Adjusted R-squared for model_H0: 0.9587\n",
      "Adjusted R-squared for model_H03: 0.8029\n",
      "model_H0 is favored based on adjusted R-squared.\n"
     ]
    }
   ],
   "source": [
    "# Compare adjusted R-squared\n",
    "adj_rsq_H0 = model_H0.rsquared_adj\n",
    "adj_rsq_H03 = model_H03.rsquared_adj\n",
    "\n",
    "print(f\"Adjusted R-squared for model_H0: {adj_rsq_H0:.4f}\")\n",
    "print(f\"Adjusted R-squared for model_H03: {adj_rsq_H03:.4f}\")\n",
    "\n",
    "if adj_rsq_H03 > adj_rsq_H0:\n",
    "    print(\"model_H03 is favored based on adjusted R-squared.\")\n",
    "else:\n",
    "    print(\"model_H0 is favored based on adjusted R-squared.\")"
   ]
  },
  {
   "cell_type": "code",
   "execution_count": 181,
   "id": "9876e894-9fb1-4da7-85c6-6141ecfe24c7",
   "metadata": {},
   "outputs": [
    {
     "name": "stdout",
     "output_type": "stream",
     "text": [
      "LOOCV Error for model_H0: 4346.6111\n",
      "LOOCV Error for model H03: inf\n",
      "model_H0 is favored based on lower cross-validation error.\n"
     ]
    }
   ],
   "source": [
    "# Leave-One-Out Cross Validation (LOOCV)\n",
    "h_ii_H0 = model_H0.get_influence().hat_matrix_diag\n",
    "h_ii_H03 = model_H03.get_influence().hat_matrix_diag\n",
    "\n",
    "loocv_error_H0 = np.mean(((data[\"netrent\"] - model_H0.fittedvalues) / (1 - h_ii_H0))**2)\n",
    "loocv_error_H03 = np.mean(((data[\"netrent\"] - model_H03.fittedvalues) / (1 - h_ii_H03))**2)\n",
    "\n",
    "print(f\"LOOCV Error for model_H0: {loocv_error_H0:.4f}\")\n",
    "print(f\"LOOCV Error for model H03: {loocv_error_H03:.4f}\")\n",
    "\n",
    "if loocv_error_H03 < loocv_error_H0:\n",
    "    print(\"model_H03 is favored based on lower cross-validation error.\")\n",
    "else:\n",
    "    print(\"model_H0 is favored based on lower cross-validation error.\")"
   ]
  },
  {
   "cell_type": "code",
   "execution_count": null,
   "id": "e0ca726f-56b0-41ca-82f4-98ec7709d2fc",
   "metadata": {},
   "outputs": [],
   "source": [
    "# !!!!!!!!!!!!!!!! PROBLEM !!!!!! : inf LOOCV : h_i_i == 1"
   ]
  },
  {
   "cell_type": "code",
   "execution_count": 184,
   "id": "d57baf97-3925-42c6-9aee-3c592a3dd1bd",
   "metadata": {},
   "outputs": [
    {
     "name": "stdout",
     "output_type": "stream",
     "text": [
      "Observations with h_ii == 1 in full model: [2170]\n"
     ]
    }
   ],
   "source": [
    "# Leverage values (hat matrix diagonal elements)\n",
    "influence_model_H03 = model_H03.get_influence()\n",
    "h_ii_H03 = influence_model_H03.hat_matrix_diag\n",
    "\n",
    "# Identify problematic observations where leverage = 1\n",
    "high_leverage_H03 = np.where(h_ii_H03 == 1)[0]\n",
    "\n",
    "print(\"Observations with h_ii == 1 in full model:\", high_leverage_H03)"
   ]
  },
  {
   "cell_type": "code",
   "execution_count": 188,
   "id": "2365bfdc-6c55-4144-b0f0-6d6f08df9965",
   "metadata": {},
   "outputs": [
    {
     "name": "stdout",
     "output_type": "stream",
     "text": [
      "2371\n"
     ]
    }
   ],
   "source": [
    "print(len(y))"
   ]
  },
  {
   "cell_type": "code",
   "execution_count": null,
   "id": "0bcc5302-c77f-4b21-bb2a-44644e0883f2",
   "metadata": {},
   "outputs": [],
   "source": []
  },
  {
   "cell_type": "code",
   "execution_count": 183,
   "id": "1f1cba25-0cf5-422e-9cd7-475f80980378",
   "metadata": {},
   "outputs": [
    {
     "name": "stdout",
     "output_type": "stream",
     "text": [
      "AIC for model_H0: 25187.58\n",
      "AIC for model_H03: 28881.64\n",
      "model_H0 is favored based on AIC.\n",
      "BIC for model_H0: 25401.11\n",
      "BIC for model_H02: 29025.91\n",
      "model_H0 is favored based on BIC.\n"
     ]
    }
   ],
   "source": [
    "# Compare AIC\n",
    "aic_model_H0 = model_H0.aic\n",
    "aic_model_H03 = model_H03.aic\n",
    "\n",
    "print(f\"AIC for model_H0: {aic_model_H0:.2f}\")\n",
    "print(f\"AIC for model_H03: {aic_model_H03:.2f}\")\n",
    "\n",
    "if aic_model_H03 < aic_model_H0:\n",
    "    print(\"model_H03 is favored based on AIC.\")\n",
    "else:\n",
    "    print(\"model_H0 is favored based on AIC.\")\n",
    "\n",
    "# Compare BIC\n",
    "bic_model_H0 = model_H0.bic\n",
    "bic_model_H03 = model_H03.bic\n",
    "\n",
    "print(f\"BIC for model_H0: {bic_model_H0:.2f}\")\n",
    "print(f\"BIC for model_H02: {bic_model_H03:.2f}\")\n",
    "\n",
    "if bic_model_H03 < bic_model_H0:\n",
    "    print(\"model_H03 is favored based on BIC.\")\n",
    "else:\n",
    "    print(\"model_H0 is favored based on BIC.\")"
   ]
  },
  {
   "cell_type": "code",
   "execution_count": null,
   "id": "e5709a4d-5f10-4a39-8687-fbab24ecea38",
   "metadata": {},
   "outputs": [],
   "source": []
  },
  {
   "cell_type": "markdown",
   "id": "87548186-734a-4cb5-987e-e66132ab64b2",
   "metadata": {},
   "source": [
    "# MODEL DIAGNOSIS"
   ]
  },
  {
   "cell_type": "code",
   "execution_count": null,
   "id": "a2e5241f-2a07-42e1-8583-6c27817598bb",
   "metadata": {},
   "outputs": [],
   "source": []
  },
  {
   "cell_type": "code",
   "execution_count": null,
   "id": "172e19e5-bf62-4bfc-be11-0d8c8fb53cb0",
   "metadata": {},
   "outputs": [],
   "source": []
  },
  {
   "cell_type": "code",
   "execution_count": null,
   "id": "820df622-27cd-4551-a0eb-0665a76a0dc7",
   "metadata": {},
   "outputs": [],
   "source": []
  },
  {
   "cell_type": "code",
   "execution_count": null,
   "id": "c9a3dbaf-e1a5-4259-907b-30ad271c739d",
   "metadata": {},
   "outputs": [],
   "source": []
  },
  {
   "cell_type": "code",
   "execution_count": null,
   "id": "289df786-0a9a-4f69-8028-06e402fb795b",
   "metadata": {},
   "outputs": [],
   "source": []
  },
  {
   "cell_type": "code",
   "execution_count": null,
   "id": "e459ae18-2306-426a-8a33-8c4f09db59f2",
   "metadata": {},
   "outputs": [],
   "source": []
  },
  {
   "cell_type": "code",
   "execution_count": null,
   "id": "85c3e88a-9b39-4286-a6a9-089b1307fc83",
   "metadata": {},
   "outputs": [],
   "source": []
  },
  {
   "cell_type": "code",
   "execution_count": null,
   "id": "3a8b8489-0581-4e06-b887-0da3ebcb2831",
   "metadata": {},
   "outputs": [],
   "source": []
  },
  {
   "cell_type": "code",
   "execution_count": null,
   "id": "d1cfd48a-b907-4544-8c42-f41484be9976",
   "metadata": {},
   "outputs": [],
   "source": []
  },
  {
   "cell_type": "code",
   "execution_count": null,
   "id": "178865ba-24a8-43b7-8461-aa37243cb82b",
   "metadata": {},
   "outputs": [],
   "source": []
  },
  {
   "cell_type": "code",
   "execution_count": null,
   "id": "ec91df80-e9e3-4227-8011-5fa6c699c7ee",
   "metadata": {},
   "outputs": [],
   "source": []
  },
  {
   "cell_type": "code",
   "execution_count": null,
   "id": "ea62764f-45f3-493d-93f6-96db3ab66e92",
   "metadata": {},
   "outputs": [],
   "source": []
  }
 ],
 "metadata": {
  "kernelspec": {
   "display_name": "Python 3 (ipykernel)",
   "language": "python",
   "name": "python3"
  },
  "language_info": {
   "codemirror_mode": {
    "name": "ipython",
    "version": 3
   },
   "file_extension": ".py",
   "mimetype": "text/x-python",
   "name": "python",
   "nbconvert_exporter": "python",
   "pygments_lexer": "ipython3",
   "version": "3.12.0"
  }
 },
 "nbformat": 4,
 "nbformat_minor": 5
}
