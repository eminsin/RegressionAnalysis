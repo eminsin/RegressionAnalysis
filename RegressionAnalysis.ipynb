{
 "cells": [
  {
   "cell_type": "code",
   "execution_count": 1,
   "id": "249872e2-17a1-4e17-a303-3d209263e308",
   "metadata": {},
   "outputs": [],
   "source": [
    "import pandas as pd\n",
    "import numpy as np\n",
    "import statsmodels.api as sm\n",
    "from statsmodels.stats.outliers_influence import variance_inflation_factor\n",
    "import statsmodels.formula.api as smf\n",
    "import matplotlib.pyplot as plt\n",
    "from sklearn.model_selection import LeaveOneOut, train_test_split\n",
    "from sklearn.metrics import mean_squared_error\n",
    "from scipy.stats import f"
   ]
  },
  {
   "cell_type": "code",
   "execution_count": 2,
   "id": "1c270453-2f8a-40a6-b910-3be51a5fbcf4",
   "metadata": {},
   "outputs": [],
   "source": [
    "# Step 1: Data Preparation\n",
    "# Load dataset\n",
    "data = pd.read_csv('biele_WM_new.csv')"
   ]
  },
  {
   "cell_type": "code",
   "execution_count": 3,
   "id": "0e342884-81da-4f7a-a7b7-d797f7074224",
   "metadata": {},
   "outputs": [],
   "source": [
    "# Select relevant variables and update original dataset to data\n",
    "columns = [\"mietekalt\", \"qm_Preis\", \"wohnflaeche\", \"alter\", \"objektzustand\", \"zimmeranzahl\", \"balkon\", \"einbaukueche\", \"keller\", \"ausstattung_kat\", \"aufzug\", \"gaestewc\", \"garten\", \"heizungsart\", \"barrierefrei\", \"Einstellungsmonat\"]\n",
    "data = data[columns]"
   ]
  },
  {
   "cell_type": "code",
   "execution_count": 4,
   "id": "df914480-7b8d-4315-b5b4-cf2b4ad2eb01",
   "metadata": {},
   "outputs": [],
   "source": [
    "# Rename variables for clarity\n",
    "data.rename(columns = {'mietekalt': 'netrent', \n",
    "                     'qm_Preis': 'rent_per_sqm', \n",
    "                     'wohnflaeche': 'area', \n",
    "                     'alter': 'age', \n",
    "                     'objektzustand': 'condition_cat', \n",
    "                     'zimmeranzahl': 'rooms', \n",
    "                     'balkon': 'balcony', \n",
    "                     'einbaukueche': 'kitchen', \n",
    "                     'keller': 'basement', \n",
    "                     'ausstattung_kat': 'appointments_cat', \n",
    "                     'aufzug': 'lift', \n",
    "                     'gaestewc': 'guesttoilet', \n",
    "                     'garten': 'garden', \n",
    "                     'heizungsart': 'heating_cat', \n",
    "                     'barrierefrei': 'barrierfree', \n",
    "                     'Einstellungsmonat': 'month'}, inplace= True)"
   ]
  },
  {
   "cell_type": "code",
   "execution_count": 5,
   "id": "585a95b1-a891-492e-ab46-2956a85cafbf",
   "metadata": {},
   "outputs": [],
   "source": [
    "# Drop rows with missing values\n",
    "data = data.dropna()"
   ]
  },
  {
   "cell_type": "code",
   "execution_count": 6,
   "id": "723fe5cc-a656-4768-b3c5-b03bd44a4bf3",
   "metadata": {},
   "outputs": [],
   "source": [
    "# Encode categorical variables\n",
    "data = pd.get_dummies(data,\n",
    "                      columns = ['condition_cat', 'appointments_cat', 'heating_cat', 'month'],\n",
    "                      drop_first = True, dtype = int)"
   ]
  },
  {
   "cell_type": "code",
   "execution_count": 114,
   "id": "43461796-3dfe-4c9a-b78b-712b53ec101c",
   "metadata": {},
   "outputs": [],
   "source": [
    "# Convert all boolean columns to integers\n",
    "# bool_cols = data.select_dtypes(include=['bool']).columns\n",
    "# data[bool_cols] = data[bool_cols].astype(int)"
   ]
  },
  {
   "cell_type": "code",
   "execution_count": 7,
   "id": "67306de2-9f60-455c-a609-7c10aad75384",
   "metadata": {},
   "outputs": [],
   "source": [
    "# Define dependent and independent variables\n",
    "dependent_var = 'netrent'\n",
    "independent_vars = [col for col in data.columns if col != dependent_var]"
   ]
  },
  {
   "cell_type": "code",
   "execution_count": null,
   "id": "0373ea8f-7f3b-4451-a07e-4d189556fcdf",
   "metadata": {},
   "outputs": [],
   "source": []
  },
  {
   "cell_type": "code",
   "execution_count": null,
   "id": "0fdfc42c-1faa-4376-8714-d9ba7cafdc66",
   "metadata": {},
   "outputs": [],
   "source": [
    "### MODEL WITH statsmodels ###"
   ]
  },
  {
   "cell_type": "code",
   "execution_count": null,
   "id": "27fe5e30-b5d1-4525-9d86-403583545d94",
   "metadata": {},
   "outputs": [],
   "source": []
  },
  {
   "cell_type": "code",
   "execution_count": 9,
   "id": "ddf77dcb-f4d0-460e-bc39-109c12fe105f",
   "metadata": {},
   "outputs": [],
   "source": [
    "# Split data into training and test sets\n",
    "train_data, test_data = train_test_split(data, test_size = 0.2, random_state = 42)"
   ]
  },
  {
   "cell_type": "code",
   "execution_count": 10,
   "id": "8ec2cd31-3a98-4e01-b452-fbd29e1dc734",
   "metadata": {},
   "outputs": [],
   "source": [
    "# Fit the linear regression model\n",
    "X_train = train_data[independent_vars]\n",
    "y_train = train_data[dependent_var]\n",
    "X_train = sm.add_constant(X_train)\n",
    "model = sm.OLS(y_train, X_train).fit()"
   ]
  },
  {
   "cell_type": "code",
   "execution_count": 11,
   "id": "b8635baa-bf47-4b09-8cc6-a29cf93a3b0f",
   "metadata": {},
   "outputs": [
    {
     "name": "stdout",
     "output_type": "stream",
     "text": [
      "Mean Squared Error: 2423.918056286244\n",
      "                            OLS Regression Results                            \n",
      "==============================================================================\n",
      "Dep. Variable:                netrent   R-squared:                       0.958\n",
      "Model:                            OLS   Adj. R-squared:                  0.957\n",
      "Method:                 Least Squares   F-statistic:                     999.4\n",
      "Date:                Tue, 14 Jan 2025   Prob (F-statistic):               0.00\n",
      "Time:                        21:00:44   Log-Likelihood:                -10038.\n",
      "No. Observations:                1896   AIC:                         2.016e+04\n",
      "Df Residuals:                    1853   BIC:                         2.040e+04\n",
      "Df Model:                          42                                         \n",
      "Covariance Type:            nonrobust                                         \n",
      "======================================================================================\n",
      "                         coef    std err          t      P>|t|      [0.025      0.975]\n",
      "--------------------------------------------------------------------------------------\n",
      "const               -513.8381     19.606    -26.208      0.000    -552.291    -475.385\n",
      "rent_per_sqm          59.7462      0.752     79.439      0.000      58.271      61.221\n",
      "area                   8.5434      0.087     98.134      0.000       8.373       8.714\n",
      "age                    0.0609      0.044      1.384      0.166      -0.025       0.147\n",
      "rooms                 -1.8514      2.217     -0.835      0.404      -6.199       2.496\n",
      "balcony               -1.0055      2.862     -0.351      0.725      -6.618       4.607\n",
      "kitchen               -4.8048      2.639     -1.820      0.069      -9.981       0.372\n",
      "basement               7.1125      2.670      2.664      0.008       1.877      12.348\n",
      "lift                  12.9675      3.641      3.561      0.000       5.826      20.109\n",
      "guesttoilet           -0.6171      3.603     -0.171      0.864      -7.683       6.449\n",
      "garden               -10.7833      2.920     -3.693      0.000     -16.510      -5.056\n",
      "barrierfree           -0.7381      4.558     -0.162      0.871      -9.678       8.202\n",
      "condition_cat_2.0    -38.4965      7.266     -5.298      0.000     -52.747     -24.246\n",
      "condition_cat_3.0    -23.8775      5.881     -4.060      0.000     -35.412     -12.343\n",
      "condition_cat_4.0    -49.3434      8.512     -5.797      0.000     -66.038     -32.649\n",
      "condition_cat_5.0    -32.2817      7.038     -4.587      0.000     -46.085     -18.478\n",
      "condition_cat_6.0    -36.9274      6.708     -5.505      0.000     -50.084     -23.771\n",
      "condition_cat_7.0    -37.3760      6.260     -5.970      0.000     -49.654     -25.098\n",
      "condition_cat_8.0    -27.2698     16.202     -1.683      0.093     -59.046       4.507\n",
      "appointments_cat_1    -3.9979      2.945     -1.358      0.175      -9.773       1.777\n",
      "appointments_cat_2     8.8213      3.539      2.493      0.013       1.880      15.762\n",
      "heating_cat_2.0      -23.6366     27.748     -0.852      0.394     -78.057      30.784\n",
      "heating_cat_3.0       22.4679     16.940      1.326      0.185     -10.755      55.691\n",
      "heating_cat_4.0       24.2450     16.797      1.443      0.149      -8.698      57.188\n",
      "heating_cat_5.0       25.9383     16.833      1.541      0.124      -7.076      58.953\n",
      "heating_cat_6.0       21.3504     16.861      1.266      0.206     -11.719      54.420\n",
      "heating_cat_7.0       66.5708     29.639      2.246      0.025       8.441     124.701\n",
      "heating_cat_8.0       25.0418     29.586      0.846      0.397     -32.983      83.067\n",
      "heating_cat_10.0      24.6278     18.147      1.357      0.175     -10.963      60.218\n",
      "heating_cat_11.0      85.0670     51.888      1.639      0.101     -16.699     186.833\n",
      "heating_cat_12.0      10.1250     18.757      0.540      0.589     -26.662      46.912\n",
      "heating_cat_13.0      17.5885     16.640      1.057      0.291     -15.046      50.223\n",
      "month_2                7.5954      5.482      1.385      0.166      -3.157      18.348\n",
      "month_3                5.3103      5.515      0.963      0.336      -5.505      16.126\n",
      "month_4                3.2297      5.679      0.569      0.570      -7.909      14.369\n",
      "month_5                9.1674      6.396      1.433      0.152      -3.377      21.712\n",
      "month_6               -0.2359      5.583     -0.042      0.966     -11.186      10.714\n",
      "month_7                2.1434      4.964      0.432      0.666      -7.592      11.879\n",
      "month_8               -4.9931      5.517     -0.905      0.366     -15.813       5.827\n",
      "month_9                5.8061      5.473      1.061      0.289      -4.927      16.539\n",
      "month_10               2.8931      5.489      0.527      0.598      -7.872      13.659\n",
      "month_11               0.1132      5.492      0.021      0.984     -10.658      10.884\n",
      "month_12              -2.5477      5.530     -0.461      0.645     -13.393       8.298\n",
      "==============================================================================\n",
      "Omnibus:                      670.554   Durbin-Watson:                   2.023\n",
      "Prob(Omnibus):                  0.000   Jarque-Bera (JB):             7202.547\n",
      "Skew:                          -1.345   Prob(JB):                         0.00\n",
      "Kurtosis:                      12.162   Cond. No.                     5.02e+03\n",
      "==============================================================================\n",
      "\n",
      "Notes:\n",
      "[1] Standard Errors assume that the covariance matrix of the errors is correctly specified.\n",
      "[2] The condition number is large, 5.02e+03. This might indicate that there are\n",
      "strong multicollinearity or other numerical problems.\n"
     ]
    }
   ],
   "source": [
    "# Evaluate the model\n",
    "X_test = test_data[independent_vars]\n",
    "y_test = test_data[dependent_var]\n",
    "X_test = sm.add_constant(X_test)\n",
    "y_pred = model.predict(X_test)\n",
    "\n",
    "mse = mean_squared_error(y_test, y_pred)\n",
    "print('Mean Squared Error:', mse)\n",
    "print(model.summary())"
   ]
  },
  {
   "cell_type": "code",
   "execution_count": null,
   "id": "f05badcd-8d78-4345-a1c2-c0fbea55337d",
   "metadata": {},
   "outputs": [],
   "source": []
  },
  {
   "cell_type": "code",
   "execution_count": 134,
   "id": "faa5a32b-9cb9-4047-a59b-a80dca2c2a58",
   "metadata": {},
   "outputs": [
    {
     "name": "stdout",
     "output_type": "stream",
     "text": [
      "               feature         VIF\n",
      "0                const  306.717906\n",
      "1         rent_per_sqm    1.674070\n",
      "2                 area    3.470259\n",
      "3                  age    1.725567\n",
      "4                rooms    3.010518\n",
      "5              balcony    1.322052\n",
      "6              kitchen    1.256021\n",
      "7             basement    1.153164\n",
      "8                 lift    1.731689\n",
      "9          guesttoilet    1.431099\n",
      "10              garden    1.134603\n",
      "11         barrierfree    1.734035\n",
      "12   condition_cat_2.0    2.243021\n",
      "13   condition_cat_3.0    2.592412\n",
      "14   condition_cat_4.0    1.857249\n",
      "15   condition_cat_5.0    3.530378\n",
      "16   condition_cat_6.0    3.580483\n",
      "17   condition_cat_7.0    7.815057\n",
      "18   condition_cat_8.0    1.208144\n",
      "19  appointments_cat_1    1.512348\n",
      "20  appointments_cat_2    2.128014\n",
      "21     heating_cat_2.0    1.615827\n",
      "22     heating_cat_3.0   25.852799\n",
      "23     heating_cat_4.0   25.856335\n",
      "24     heating_cat_5.0   17.865142\n",
      "25     heating_cat_6.0   23.083291\n",
      "26     heating_cat_7.0    1.475653\n",
      "27     heating_cat_8.0    1.470334\n",
      "28    heating_cat_10.0    5.956186\n",
      "29    heating_cat_11.0    1.132443\n",
      "30    heating_cat_12.0    4.371358\n",
      "31    heating_cat_13.0   55.180698\n",
      "32             month_2    1.831917\n",
      "33             month_3    1.810875\n",
      "34             month_4    1.736926\n",
      "35             month_5    1.507125\n",
      "36             month_6    1.790066\n",
      "37             month_7    2.273501\n",
      "38             month_8    1.822905\n",
      "39             month_9    1.846390\n",
      "40            month_10    1.857566\n",
      "41            month_11    1.880545\n",
      "42            month_12    1.810002\n"
     ]
    }
   ],
   "source": [
    "# Check multicollinearity using VIF\n",
    "vif_data = pd.DataFrame()\n",
    "vif_data['feature'] = X_train.columns\n",
    "vif_data['VIF'] = [variance_inflation_factor(X_train.values, i) for i in range(X_train.shape[1])]\n",
    "print(vif_data)"
   ]
  },
  {
   "cell_type": "code",
   "execution_count": null,
   "id": "14a4230d-fe84-4f4e-abc3-5318173947d3",
   "metadata": {},
   "outputs": [],
   "source": []
  },
  {
   "cell_type": "code",
   "execution_count": null,
   "id": "24bb7489-bfe3-478b-b9b6-b8d45012513e",
   "metadata": {},
   "outputs": [],
   "source": [
    "### MODEL BY HAND ###"
   ]
  },
  {
   "cell_type": "code",
   "execution_count": null,
   "id": "dda29bdd-138e-4150-a3af-a4f3c94193ee",
   "metadata": {},
   "outputs": [],
   "source": []
  },
  {
   "cell_type": "code",
   "execution_count": 9,
   "id": "41360759-f512-4364-a97d-402232122201",
   "metadata": {},
   "outputs": [],
   "source": [
    "# Extract values of dependent and independent variables\n",
    "X = data[independent_vars].values\n",
    "y= data[dependent_var].values"
   ]
  },
  {
   "cell_type": "code",
   "execution_count": 10,
   "id": "838baa02-f492-47ed-9b98-8da5defcbb99",
   "metadata": {},
   "outputs": [],
   "source": [
    "# Add intercept\n",
    "intercept = np.ones((X.shape[0], 1))  # Create a column of ones\n",
    "X_with_intercept = np.hstack((intercept, X))  # Combine intercept with X"
   ]
  },
  {
   "cell_type": "code",
   "execution_count": 11,
   "id": "595f1edd-1c89-4f83-b87c-477aab15eb13",
   "metadata": {},
   "outputs": [
    {
     "name": "stdout",
     "output_type": "stream",
     "text": [
      "Beta_hat: [-5.23948384e+02  6.10658948e+01  8.59321431e+00  5.53620883e-02\n",
      " -2.54468096e+00 -8.06528052e-01 -2.70222358e+00  7.98397364e+00\n",
      "  1.26679156e+01 -2.41513406e+00 -6.90621988e+00 -5.81377010e-01\n",
      " -3.72479491e+01 -1.85609140e+01 -4.83964599e+01 -3.20319804e+01\n",
      " -3.40961045e+01 -3.61420108e+01 -2.68937018e+01 -4.35903126e+00\n",
      "  4.50005655e+00 -8.95673158e+00  2.14116961e+01  2.13354685e+01\n",
      "  2.63116797e+01  1.79557514e+01  6.29993033e+01  1.34671687e+01\n",
      "  2.01176338e+01  7.45775517e+01  9.09234023e+00  1.64397137e+01\n",
      "  5.78458433e+00  4.18994603e+00  1.90566502e+00  5.52617826e+00\n",
      "  2.91243946e-01  1.06345318e+00 -5.51686719e+00  3.05773568e+00\n",
      " -1.99978245e-01 -1.95134315e+00 -2.52185488e+00]\n",
      "Residual variance (sigma^2): 2368.123936743671\n",
      "Covariance matrix of beta_hat:\n",
      " [[ 3.15628328e+02 -4.43861665e+00 -8.02369551e-02 ... -1.33214374e+01\n",
      "  -9.85959626e+00 -8.62537925e+00]\n",
      " [-4.43861665e+00  4.52350495e-01  5.24957574e-03 ... -1.24591685e-01\n",
      "  -1.57741243e-01 -1.69724940e-01]\n",
      " [-8.02369551e-02  5.24957574e-03  5.90644781e-03 ... -5.35022891e-03\n",
      "  -1.02980527e-02 -9.68621326e-03]\n",
      " ...\n",
      " [-1.33214374e+01 -1.24591685e-01 -5.35022891e-03 ...  2.33375307e+01\n",
      "   1.12228940e+01  1.11180977e+01]\n",
      " [-9.85959626e+00 -1.57741243e-01 -1.02980527e-02 ...  1.12228940e+01\n",
      "   2.31133799e+01  1.12622591e+01]\n",
      " [-8.62537925e+00 -1.69724940e-01 -9.68621326e-03 ...  1.11180977e+01\n",
      "   1.12622591e+01  2.34955628e+01]]\n",
      "Standard errors of beta_hat: [1.77659317e+01 6.72570067e-01 7.68534177e-02 3.88760999e-02\n",
      " 1.96650163e+00 2.55602006e+00 2.34629155e+00 2.39399728e+00\n",
      " 3.26933778e+00 3.22221477e+00 2.57011940e+00 4.04995255e+00\n",
      " 6.51996804e+00 5.30297940e+00 7.63176418e+00 6.30156122e+00\n",
      " 5.99146936e+00 5.62759883e+00 1.38809005e+01 2.59593010e+00\n",
      " 3.12892417e+00 2.39250281e+01 1.53082125e+01 1.51873367e+01\n",
      " 1.52220514e+01 1.52216810e+01 2.87391830e+01 2.64834240e+01\n",
      " 1.64768948e+01 5.11751588e+01 1.70418440e+01 1.50410710e+01\n",
      " 4.89063811e+00 4.84577139e+00 5.02762791e+00 5.81519459e+00\n",
      " 4.93090924e+00 4.29806639e+00 4.86669456e+00 4.80395390e+00\n",
      " 4.83089337e+00 4.80763766e+00 4.84722217e+00]\n"
     ]
    }
   ],
   "source": [
    "# X_1: Design matrix (including intercept column)\n",
    "# y_1: Dependent variable (netrent)\n",
    "X_1 = np.array(X_with_intercept)\n",
    "y_1 = np.array(y)\n",
    "\n",
    "# Estimate beta_hat\n",
    "beta_hat_1 = np.linalg.inv(X_1.T @ X_1) @ X_1.T @ y_1\n",
    "\n",
    "# Compute the hat matrix (H)\n",
    "H_1 = X_1 @ np.linalg.inv(X_1.T @ X_1) @ X_1.T\n",
    "\n",
    "# Residuals (epsilon_hat)\n",
    "epsilon_hat_1 = (np.eye(len(y_1)) - H_1) @ y_1\n",
    "\n",
    "# Fitted values (y_hat)\n",
    "y_hat_1 = H_1 @ y_1\n",
    "\n",
    "# Estimate sigma^2 (residual variance)\n",
    "n, k = X_1.shape\n",
    "sigma2_hat_1 = (1 / (n - k)) * (epsilon_hat_1.T @ epsilon_hat_1)\n",
    "\n",
    "# Covariance matrix of beta_hat\n",
    "Cov_beta_hat_1 = sigma2_hat_1 * np.linalg.inv(X_1.T @ X_1)\n",
    "\n",
    "# Standard errors of beta_hat\n",
    "sd_beta_hat_1 = np.sqrt(np.diag(Cov_beta_hat_1))\n",
    "\n",
    "# Print results\n",
    "print(\"Beta_hat:\", beta_hat_1)\n",
    "print(\"Residual variance (sigma^2):\", sigma2_hat_1)\n",
    "print(\"Covariance matrix of beta_hat:\\n\", Cov_beta_hat_1)\n",
    "print(\"Standard errors of beta_hat:\", sd_beta_hat_1)"
   ]
  },
  {
   "cell_type": "code",
   "execution_count": null,
   "id": "bf4a3121-d6f7-4856-b7b8-b56062e25b57",
   "metadata": {},
   "outputs": [],
   "source": []
  },
  {
   "cell_type": "code",
   "execution_count": 24,
   "id": "d3a3bb4b-3f21-4b1f-b8bd-60b53f30d2a3",
   "metadata": {},
   "outputs": [
    {
     "name": "stdout",
     "output_type": "stream",
     "text": [
      "Comparison of Coefficients:\n",
      "              intercept  rent_per_sqm      area       age     rooms   balcony  \\\n",
      "Statsmodels -513.838123     59.746158  8.543418  0.060895 -1.851352 -1.005545   \n",
      "By-Hand     -523.948384     61.065895  8.593214  0.055362 -2.544681 -0.806528   \n",
      "\n",
      "              kitchen  basement       lift  guesttoilet  ...   month_3  \\\n",
      "Statsmodels -4.804845  7.112504  12.967450    -0.617056  ...  5.310323   \n",
      "By-Hand     -2.702224  7.983974  12.667916    -2.415134  ...  4.189946   \n",
      "\n",
      "              month_4   month_5   month_6   month_7   month_8   month_9  \\\n",
      "Statsmodels  3.229679  9.167424 -0.235941  2.143417 -4.993112  5.806109   \n",
      "By-Hand      1.905665  5.526178  0.291244  1.063453 -5.516867  3.057736   \n",
      "\n",
      "             month_10  month_11  month_12  \n",
      "Statsmodels  2.893099  0.113196 -2.547708  \n",
      "By-Hand     -0.199978 -1.951343 -2.521855  \n",
      "\n",
      "[2 rows x 43 columns]\n",
      "\n",
      "Comparison of Standard Deviations:\n",
      "             intercept  rent_per_sqm      area       age     rooms   balcony  \\\n",
      "Statsmodels  19.606402       0.75210  0.087059  0.043987  2.216716  2.861751   \n",
      "By-Hand      17.765932       0.67257  0.076853  0.038876  1.966502  2.556020   \n",
      "\n",
      "              kitchen  basement      lift  guesttoilet  ...   month_3  \\\n",
      "Statsmodels  2.639462  2.669687  3.641204     3.602744  ...  5.514758   \n",
      "By-Hand      2.346292  2.393997  3.269338     3.222215  ...  4.845771   \n",
      "\n",
      "              month_4   month_5   month_6   month_7   month_8   month_9  \\\n",
      "Statsmodels  5.679477  6.396305  5.583412  4.964039  5.516752  5.472599   \n",
      "By-Hand      5.027628  5.815195  4.930909  4.298066  4.866695  4.803954   \n",
      "\n",
      "             month_10  month_11  month_12  \n",
      "Statsmodels  5.489135  5.491949  5.529830  \n",
      "By-Hand      4.830893  4.807638  4.847222  \n",
      "\n",
      "[2 rows x 43 columns]\n"
     ]
    }
   ],
   "source": [
    "# Comparison of coefficients and standard deviations\n",
    "coeff_comparison = np.vstack([model.params, beta_hat_1])\n",
    "stddev_comparison = np.vstack([model.bse, sd_beta_hat_1])\n",
    "\n",
    "# Display results\n",
    "print(\"Comparison of Coefficients:\")\n",
    "print(pd.DataFrame(coeff_comparison, index=[\"Statsmodels\", \"By-Hand\"], \n",
    "                   columns=['intercept'] + independent_vars))\n",
    "\n",
    "print(\"\\nComparison of Standard Deviations:\")\n",
    "print(pd.DataFrame(stddev_comparison, index=[\"Statsmodels\", \"By-Hand\"], \n",
    "                   columns=['intercept'] + independent_vars))"
   ]
  },
  {
   "cell_type": "code",
   "execution_count": null,
   "id": "685c6f60-8fb9-44c1-a989-1980594da19d",
   "metadata": {},
   "outputs": [],
   "source": []
  },
  {
   "cell_type": "code",
   "execution_count": null,
   "id": "eff8ea32-646d-437b-bfc3-9e586a5358de",
   "metadata": {},
   "outputs": [],
   "source": [
    "### HYPOTHESIS TESTS FOR THE RESTRICTED MODEL ###"
   ]
  },
  {
   "cell_type": "code",
   "execution_count": null,
   "id": "46157b65-6406-44b7-968c-c29cf0be15e7",
   "metadata": {},
   "outputs": [],
   "source": []
  },
  {
   "cell_type": "code",
   "execution_count": 14,
   "id": "5e6bb07d-ee9a-4a83-bd5b-08b20780cd9f",
   "metadata": {},
   "outputs": [],
   "source": [
    "# List of variables to exclude\n",
    "exclude_vars = ['age', 'rooms', 'balcony', 'guesttoilet', 'barrierfree']\n",
    "\n",
    "# Restrict independent_vars by excluding the specified variables\n",
    "restricted_independent_vars = [col for col in independent_vars if col not in exclude_vars]"
   ]
  },
  {
   "cell_type": "code",
   "execution_count": 21,
   "id": "5b28c759-c421-4b23-8f1a-4b57a886b2ab",
   "metadata": {},
   "outputs": [],
   "source": [
    "X_2 = data[restricted_independent_vars]\n",
    "y_2 = data[dependent_var]\n",
    "# Add intercept to X\n",
    "X_2 = sm.add_constant(X_2)"
   ]
  },
  {
   "cell_type": "code",
   "execution_count": 25,
   "id": "c7681088-2e3f-400b-a33b-41ac70dc9c27",
   "metadata": {},
   "outputs": [
    {
     "name": "stdout",
     "output_type": "stream",
     "text": [
      "                            OLS Regression Results                            \n",
      "==============================================================================\n",
      "Dep. Variable:                netrent   R-squared:                       0.959\n",
      "Model:                            OLS   Adj. R-squared:                  0.959\n",
      "Method:                 Least Squares   F-statistic:                     1488.\n",
      "Date:                Tue, 14 Jan 2025   Prob (F-statistic):               0.00\n",
      "Time:                        21:29:51   Log-Likelihood:                -12556.\n",
      "No. Observations:                2371   AIC:                         2.519e+04\n",
      "Df Residuals:                    2333   BIC:                         2.541e+04\n",
      "Df Model:                          37                                         \n",
      "Covariance Type:            nonrobust                                         \n",
      "======================================================================================\n",
      "                         coef    std err          t      P>|t|      [0.025      0.975]\n",
      "--------------------------------------------------------------------------------------\n",
      "const               -525.5022     17.396    -30.208      0.000    -559.616    -491.388\n",
      "rent_per_sqm          61.1409      0.666     91.839      0.000      59.835      62.446\n",
      "area                   8.4984      0.046    184.955      0.000       8.408       8.588\n",
      "kitchen               -2.2657      2.326     -0.974      0.330      -6.827       2.296\n",
      "basement               7.4814      2.362      3.168      0.002       2.850      12.113\n",
      "lift                  11.7381      2.885      4.068      0.000       6.080      17.396\n",
      "garden                -6.7201      2.552     -2.633      0.009     -11.725      -1.715\n",
      "condition_cat_2.0    -34.4847      6.330     -5.448      0.000     -46.897     -22.072\n",
      "condition_cat_3.0    -17.9204      5.287     -3.390      0.001     -28.288      -7.553\n",
      "condition_cat_4.0    -45.3177      7.426     -6.103      0.000     -59.880     -30.756\n",
      "condition_cat_5.0    -29.5114      6.119     -4.823      0.000     -41.511     -17.512\n",
      "condition_cat_6.0    -32.1989      5.866     -5.489      0.000     -43.702     -20.695\n",
      "condition_cat_7.0    -34.2040      5.499     -6.221      0.000     -44.987     -23.421\n",
      "condition_cat_8.0    -23.9069     13.794     -1.733      0.083     -50.957       3.143\n",
      "appointments_cat_1    -4.2100      2.580     -1.632      0.103      -9.269       0.849\n",
      "appointments_cat_2     4.8478      3.057      1.586      0.113      -1.148      10.843\n",
      "heating_cat_2.0       -7.9279     23.899     -0.332      0.740     -54.794      38.938\n",
      "heating_cat_3.0       23.3760     15.257      1.532      0.126      -6.544      53.296\n",
      "heating_cat_4.0       23.1460     15.135      1.529      0.126      -6.533      52.825\n",
      "heating_cat_5.0       26.5769     15.206      1.748      0.081      -3.241      56.395\n",
      "heating_cat_6.0       19.0378     15.193      1.253      0.210     -10.755      48.830\n",
      "heating_cat_7.0       61.0261     28.723      2.125      0.034       4.702     117.351\n",
      "heating_cat_8.0       15.5754     26.420      0.590      0.556     -36.234      67.384\n",
      "heating_cat_10.0      21.1062     16.436      1.284      0.199     -11.125      53.338\n",
      "heating_cat_11.0      74.4482     51.071      1.458      0.145     -25.701     174.597\n",
      "heating_cat_12.0       9.7746     17.006      0.575      0.565     -23.574      43.123\n",
      "heating_cat_13.0      17.4042     15.008      1.160      0.246     -12.026      46.834\n",
      "month_2                5.7361      4.889      1.173      0.241      -3.850      15.322\n",
      "month_3                4.2514      4.844      0.878      0.380      -5.248      13.751\n",
      "month_4                1.7035      5.025      0.339      0.735      -8.150      11.557\n",
      "month_5                5.7221      5.813      0.984      0.325      -5.678      17.122\n",
      "month_6                0.5686      4.920      0.116      0.908      -9.079      10.217\n",
      "month_7                1.3886      4.289      0.324      0.746      -7.021       9.798\n",
      "month_8               -5.5853      4.863     -1.148      0.251     -15.122       3.951\n",
      "month_9                2.9112      4.796      0.607      0.544      -6.493      12.316\n",
      "month_10               0.0916      4.818      0.019      0.985      -9.357       9.540\n",
      "month_11              -1.9257      4.799     -0.401      0.688     -11.336       7.484\n",
      "month_12              -2.4326      4.841     -0.502      0.615     -11.927       7.061\n",
      "==============================================================================\n",
      "Omnibus:                      801.123   Durbin-Watson:                   1.985\n",
      "Prob(Omnibus):                  0.000   Jarque-Bera (JB):            10616.917\n",
      "Skew:                          -1.215   Prob(JB):                         0.00\n",
      "Kurtosis:                      13.078   Cond. No.                     4.38e+03\n",
      "==============================================================================\n",
      "\n",
      "Notes:\n",
      "[1] Standard Errors assume that the covariance matrix of the errors is correctly specified.\n",
      "[2] The condition number is large, 4.38e+03. This might indicate that there are\n",
      "strong multicollinearity or other numerical problems.\n"
     ]
    }
   ],
   "source": [
    "# Fit the reduced model\n",
    "model_reduced = sm.OLS(y_2, X_2).fit()\n",
    "print(model_reduced.summary())"
   ]
  },
  {
   "cell_type": "code",
   "execution_count": 26,
   "id": "2df208f7-7b61-4eba-abd5-0905a0da633b",
   "metadata": {},
   "outputs": [
    {
     "name": "stdout",
     "output_type": "stream",
     "text": [
      "F-statistic: 118.59883423846998\n",
      "Critical value (alpha=0.05): 2.217940762779465\n",
      "P-value: 1.1102230246251565e-16\n",
      "Reject the null hypothesis: The variables are jointly significantly different than zero.\n"
     ]
    }
   ],
   "source": [
    "# Perform F-test\n",
    "SSE_full = np.sum(model.resid ** 2)             # Residual Sum of Squares for full model\n",
    "SSE_reduced = np.sum(model_reduced.resid ** 2)  # Residual Sum of Squares for reduced model\n",
    "\n",
    "n = len(y_2)               # Number of observations\n",
    "p_full = X_train.shape[1]  # Number of parameters in full model\n",
    "p_reduced = X_2.shape[1]   # Number of parameters in reduced model\n",
    "r = p_full - p_reduced     # Number of restrictions\n",
    "\n",
    "# Calculate F-statistic\n",
    "F_H0 = ((SSE_reduced - SSE_full) / r) / (SSE_full / (n - p_full))\n",
    "print(f\"F-statistic: {F_H0}\")\n",
    "\n",
    "# Calculate critical value\n",
    "alpha = 0.05\n",
    "F_critical = f.ppf(1 - alpha, dfn=r, dfd=n - p_full)\n",
    "print(f\"Critical value (alpha={alpha}): {F_critical}\")\n",
    "\n",
    "# Calculate p-value\n",
    "p_value = 1 - f.cdf(F_H0, dfn=r, dfd=n - p_full)\n",
    "print(f\"P-value: {p_value}\")\n",
    "\n",
    "# Interpretation of results\n",
    "if p_value < alpha:\n",
    "    print(\"Reject the null hypothesis: The variables are jointly significantly different than zero.\")\n",
    "else:\n",
    "    print(\"Fail to reject the null hypothesis: The variables are jointly not significant.\")"
   ]
  },
  {
   "cell_type": "code",
   "execution_count": null,
   "id": "1749414d-b39b-4374-909c-89daf29c2fca",
   "metadata": {},
   "outputs": [],
   "source": []
  },
  {
   "cell_type": "code",
   "execution_count": null,
   "id": "50c9aa9f-8513-4a84-912f-93e410afdcea",
   "metadata": {},
   "outputs": [],
   "source": []
  },
  {
   "cell_type": "code",
   "execution_count": null,
   "id": "bbf8ecfc-9a7d-4fad-b5ae-4ded33428aa4",
   "metadata": {},
   "outputs": [],
   "source": []
  },
  {
   "cell_type": "code",
   "execution_count": null,
   "id": "87ef4269-a3bc-4b72-a689-cf988f5e543e",
   "metadata": {},
   "outputs": [],
   "source": []
  },
  {
   "cell_type": "code",
   "execution_count": null,
   "id": "d30c64ac-68ae-4f02-95e3-834824c13b40",
   "metadata": {},
   "outputs": [],
   "source": []
  },
  {
   "cell_type": "code",
   "execution_count": null,
   "id": "b4247ddb-9f35-4a50-96ba-a4c68a0cb1a5",
   "metadata": {},
   "outputs": [],
   "source": []
  },
  {
   "cell_type": "code",
   "execution_count": null,
   "id": "bbedf90b-e78f-4540-a108-241da9aef21f",
   "metadata": {},
   "outputs": [],
   "source": []
  },
  {
   "cell_type": "code",
   "execution_count": null,
   "id": "f2248a79-c133-4dd4-a4d5-01e325fb5533",
   "metadata": {},
   "outputs": [],
   "source": []
  },
  {
   "cell_type": "code",
   "execution_count": null,
   "id": "89fa0198-254f-480c-b8b9-8af94bf182cf",
   "metadata": {},
   "outputs": [],
   "source": []
  },
  {
   "cell_type": "code",
   "execution_count": null,
   "id": "11ed1d3e-26d1-4218-8505-39546ad79b40",
   "metadata": {},
   "outputs": [],
   "source": []
  },
  {
   "cell_type": "code",
   "execution_count": null,
   "id": "1cf913bd-8df8-46df-8c41-88df50ff7feb",
   "metadata": {},
   "outputs": [],
   "source": []
  },
  {
   "cell_type": "code",
   "execution_count": null,
   "id": "a47d1d9c-ee37-4161-a19d-1beba33a0307",
   "metadata": {},
   "outputs": [],
   "source": []
  },
  {
   "cell_type": "code",
   "execution_count": null,
   "id": "45faf592-82ec-41f9-986e-d9067017b394",
   "metadata": {},
   "outputs": [],
   "source": []
  },
  {
   "cell_type": "code",
   "execution_count": null,
   "id": "fa5b33fe-cc56-4f94-97f7-1cba1c1a0602",
   "metadata": {},
   "outputs": [],
   "source": []
  },
  {
   "cell_type": "code",
   "execution_count": null,
   "id": "e5709a4d-5f10-4a39-8687-fbab24ecea38",
   "metadata": {},
   "outputs": [],
   "source": []
  },
  {
   "cell_type": "code",
   "execution_count": null,
   "id": "2b5828dd-d7a5-44e2-8cdb-a1944d7b52f7",
   "metadata": {},
   "outputs": [],
   "source": []
  },
  {
   "cell_type": "code",
   "execution_count": null,
   "id": "a2e5241f-2a07-42e1-8583-6c27817598bb",
   "metadata": {},
   "outputs": [],
   "source": []
  },
  {
   "cell_type": "code",
   "execution_count": null,
   "id": "172e19e5-bf62-4bfc-be11-0d8c8fb53cb0",
   "metadata": {},
   "outputs": [],
   "source": []
  },
  {
   "cell_type": "code",
   "execution_count": null,
   "id": "820df622-27cd-4551-a0eb-0665a76a0dc7",
   "metadata": {},
   "outputs": [],
   "source": []
  },
  {
   "cell_type": "code",
   "execution_count": null,
   "id": "c9a3dbaf-e1a5-4259-907b-30ad271c739d",
   "metadata": {},
   "outputs": [],
   "source": []
  },
  {
   "cell_type": "code",
   "execution_count": null,
   "id": "289df786-0a9a-4f69-8028-06e402fb795b",
   "metadata": {},
   "outputs": [],
   "source": []
  },
  {
   "cell_type": "code",
   "execution_count": null,
   "id": "e459ae18-2306-426a-8a33-8c4f09db59f2",
   "metadata": {},
   "outputs": [],
   "source": []
  },
  {
   "cell_type": "code",
   "execution_count": null,
   "id": "85c3e88a-9b39-4286-a6a9-089b1307fc83",
   "metadata": {},
   "outputs": [],
   "source": []
  },
  {
   "cell_type": "code",
   "execution_count": null,
   "id": "3a8b8489-0581-4e06-b887-0da3ebcb2831",
   "metadata": {},
   "outputs": [],
   "source": []
  },
  {
   "cell_type": "code",
   "execution_count": null,
   "id": "d1cfd48a-b907-4544-8c42-f41484be9976",
   "metadata": {},
   "outputs": [],
   "source": []
  },
  {
   "cell_type": "code",
   "execution_count": null,
   "id": "178865ba-24a8-43b7-8461-aa37243cb82b",
   "metadata": {},
   "outputs": [],
   "source": []
  },
  {
   "cell_type": "code",
   "execution_count": null,
   "id": "ec91df80-e9e3-4227-8011-5fa6c699c7ee",
   "metadata": {},
   "outputs": [],
   "source": []
  },
  {
   "cell_type": "code",
   "execution_count": null,
   "id": "ea62764f-45f3-493d-93f6-96db3ab66e92",
   "metadata": {},
   "outputs": [],
   "source": []
  }
 ],
 "metadata": {
  "kernelspec": {
   "display_name": "Python 3 (ipykernel)",
   "language": "python",
   "name": "python3"
  },
  "language_info": {
   "codemirror_mode": {
    "name": "ipython",
    "version": 3
   },
   "file_extension": ".py",
   "mimetype": "text/x-python",
   "name": "python",
   "nbconvert_exporter": "python",
   "pygments_lexer": "ipython3",
   "version": "3.12.0"
  }
 },
 "nbformat": 4,
 "nbformat_minor": 5
}
